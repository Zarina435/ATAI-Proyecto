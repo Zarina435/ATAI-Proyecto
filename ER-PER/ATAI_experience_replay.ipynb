{
  "cells": [
    {
      "cell_type": "markdown",
      "source": [
        "#  **Deep Q Network + Prioritized Experience Replay**\n",
        "Este collab es una modificación del cuaderno facilitado en clase: https://colab.research.google.com/drive/1rIYLqNBzAa6nOdCcJzHHngOYoVCSgZvD?usp=sharing\n",
        "\n",
        "Contiene la implementación de la mejora N-step Q Network.\n",
        "\n",
        "- David Bernal Gómez\n",
        "- Sara Martín Aramburu\n",
        "- Fernando Pérez Sanz\n",
        "- Ander Larrinaga Raya"
      ],
      "metadata": {
        "id": "P1orjSBFsa3x"
      }
    },
    {
      "cell_type": "markdown",
      "source": [
        "# **Initialization**"
      ],
      "metadata": {
        "id": "7p-FkdaHOISM"
      }
    },
    {
      "cell_type": "markdown",
      "source": [
        "## Install dependencies"
      ],
      "metadata": {
        "id": "VzfboO1QP_Uw"
      }
    },
    {
      "cell_type": "code",
      "source": [
        "import sys\n",
        "IN_COLAB = \"google.colab\" in sys.modules\n",
        "\n",
        "if IN_COLAB:\n",
        "    !apt-get update\n",
        "    !apt install python-opengl\n",
        "    !apt install ffmpeg\n",
        "    !apt install xvfb\n",
        "    !pip install PyVirtualDisplay==3.0\n",
        "    !pip install gym[classic_control]\n",
        "    #!pip install gym==0.21.0\n",
        "    from pyvirtualdisplay import Display\n",
        "    \n",
        "    # Start virtual display\n",
        "    dis = Display(visible=0, size=(400, 400))\n",
        "    dis.start()"
      ],
      "metadata": {
        "id": "mt4fLrG2Puzd",
        "colab": {
          "base_uri": "https://localhost:8080/"
        },
        "outputId": "419eb398-7c84-4c49-a506-b2e7bd5ac7bc"
      },
      "execution_count": null,
      "outputs": [
        {
          "output_type": "stream",
          "name": "stdout",
          "text": [
            "\r0% [Working]\r            \rGet:1 https://cloud.r-project.org/bin/linux/ubuntu bionic-cran40/ InRelease [3,626 B]\n",
            "\r0% [Connecting to archive.ubuntu.com (185.125.190.39)] [Waiting for headers] [1\r0% [Connecting to archive.ubuntu.com (185.125.190.39)] [Waiting for headers] [W\r0% [1 InRelease gpgv 3,626 B] [Connecting to archive.ubuntu.com (185.125.190.39\r                                                                               \rIgn:2 https://developer.download.nvidia.com/compute/machine-learning/repos/ubuntu1804/x86_64  InRelease\n",
            "\r0% [1 InRelease gpgv 3,626 B] [Waiting for headers] [Waiting for headers] [Wait\r                                                                               \rGet:3 http://security.ubuntu.com/ubuntu bionic-security InRelease [88.7 kB]\n",
            "\r0% [1 InRelease gpgv 3,626 B] [Waiting for headers] [3 InRelease 14.2 kB/88.7 k\r                                                                               \rGet:4 http://ppa.launchpad.net/c2d4u.team/c2d4u4.0+/ubuntu bionic InRelease [15.9 kB]\n",
            "Hit:5 https://developer.download.nvidia.com/compute/cuda/repos/ubuntu1804/x86_64  InRelease\n",
            "Hit:6 https://developer.download.nvidia.com/compute/machine-learning/repos/ubuntu1804/x86_64  Release\n",
            "Hit:7 http://archive.ubuntu.com/ubuntu bionic InRelease\n",
            "Get:8 http://archive.ubuntu.com/ubuntu bionic-updates InRelease [88.7 kB]\n",
            "Hit:9 http://ppa.launchpad.net/cran/libgit2/ubuntu bionic InRelease\n",
            "Hit:10 http://ppa.launchpad.net/deadsnakes/ppa/ubuntu bionic InRelease\n",
            "Get:11 http://archive.ubuntu.com/ubuntu bionic-backports InRelease [83.3 kB]\n",
            "Hit:13 http://ppa.launchpad.net/graphics-drivers/ppa/ubuntu bionic InRelease\n",
            "Get:14 http://ppa.launchpad.net/c2d4u.team/c2d4u4.0+/ubuntu bionic/main Sources [2,235 kB]\n",
            "Get:15 http://ppa.launchpad.net/c2d4u.team/c2d4u4.0+/ubuntu bionic/main amd64 Packages [1,143 kB]\n",
            "Fetched 3,659 kB in 4s (925 kB/s)\n",
            "Reading package lists... Done\n",
            "Reading package lists... Done\n",
            "Building dependency tree       \n",
            "Reading state information... Done\n",
            "The following package was automatically installed and is no longer required:\n",
            "  libnvidia-common-460\n",
            "Use 'apt autoremove' to remove it.\n",
            "The following additional packages will be installed:\n",
            "  freeglut3\n",
            "Suggested packages:\n",
            "  libgle3\n",
            "The following NEW packages will be installed:\n",
            "  freeglut3 python-opengl\n",
            "0 upgraded, 2 newly installed, 0 to remove and 20 not upgraded.\n",
            "Need to get 570 kB of archives.\n",
            "After this operation, 5,733 kB of additional disk space will be used.\n",
            "Get:1 http://archive.ubuntu.com/ubuntu bionic/universe amd64 freeglut3 amd64 2.8.1-3 [73.6 kB]\n",
            "Get:2 http://archive.ubuntu.com/ubuntu bionic/universe amd64 python-opengl all 3.1.0+dfsg-1 [496 kB]\n",
            "Fetched 570 kB in 1s (702 kB/s)\n",
            "Selecting previously unselected package freeglut3:amd64.\n",
            "(Reading database ... 124016 files and directories currently installed.)\n",
            "Preparing to unpack .../freeglut3_2.8.1-3_amd64.deb ...\n",
            "Unpacking freeglut3:amd64 (2.8.1-3) ...\n",
            "Selecting previously unselected package python-opengl.\n",
            "Preparing to unpack .../python-opengl_3.1.0+dfsg-1_all.deb ...\n",
            "Unpacking python-opengl (3.1.0+dfsg-1) ...\n",
            "Setting up freeglut3:amd64 (2.8.1-3) ...\n",
            "Setting up python-opengl (3.1.0+dfsg-1) ...\n",
            "Processing triggers for libc-bin (2.27-3ubuntu1.6) ...\n",
            "Reading package lists... Done\n",
            "Building dependency tree       \n",
            "Reading state information... Done\n",
            "ffmpeg is already the newest version (7:3.4.11-0ubuntu0.1).\n",
            "The following package was automatically installed and is no longer required:\n",
            "  libnvidia-common-460\n",
            "Use 'apt autoremove' to remove it.\n",
            "0 upgraded, 0 newly installed, 0 to remove and 20 not upgraded.\n",
            "Reading package lists... Done\n",
            "Building dependency tree       \n",
            "Reading state information... Done\n",
            "The following package was automatically installed and is no longer required:\n",
            "  libnvidia-common-460\n",
            "Use 'apt autoremove' to remove it.\n",
            "The following NEW packages will be installed:\n",
            "  xvfb\n",
            "0 upgraded, 1 newly installed, 0 to remove and 20 not upgraded.\n",
            "Need to get 785 kB of archives.\n",
            "After this operation, 2,271 kB of additional disk space will be used.\n",
            "Get:1 http://archive.ubuntu.com/ubuntu bionic-updates/universe amd64 xvfb amd64 2:1.19.6-1ubuntu4.13 [785 kB]\n",
            "Fetched 785 kB in 1s (1,044 kB/s)\n",
            "Selecting previously unselected package xvfb.\n",
            "(Reading database ... 126376 files and directories currently installed.)\n",
            "Preparing to unpack .../xvfb_2%3a1.19.6-1ubuntu4.13_amd64.deb ...\n",
            "Unpacking xvfb (2:1.19.6-1ubuntu4.13) ...\n",
            "Setting up xvfb (2:1.19.6-1ubuntu4.13) ...\n",
            "Processing triggers for man-db (2.8.3-2ubuntu0.1) ...\n",
            "Looking in indexes: https://pypi.org/simple, https://us-python.pkg.dev/colab-wheels/public/simple/\n",
            "Collecting PyVirtualDisplay==3.0\n",
            "  Downloading PyVirtualDisplay-3.0-py3-none-any.whl (15 kB)\n",
            "Installing collected packages: PyVirtualDisplay\n",
            "Successfully installed PyVirtualDisplay-3.0\n",
            "Looking in indexes: https://pypi.org/simple, https://us-python.pkg.dev/colab-wheels/public/simple/\n",
            "Requirement already satisfied: gym[classic_control] in /usr/local/lib/python3.8/dist-packages (0.25.2)\n",
            "Requirement already satisfied: cloudpickle>=1.2.0 in /usr/local/lib/python3.8/dist-packages (from gym[classic_control]) (1.5.0)\n",
            "Requirement already satisfied: importlib-metadata>=4.8.0 in /usr/local/lib/python3.8/dist-packages (from gym[classic_control]) (5.1.0)\n",
            "Requirement already satisfied: gym-notices>=0.0.4 in /usr/local/lib/python3.8/dist-packages (from gym[classic_control]) (0.0.8)\n",
            "Requirement already satisfied: numpy>=1.18.0 in /usr/local/lib/python3.8/dist-packages (from gym[classic_control]) (1.21.6)\n",
            "Collecting pygame==2.1.0\n",
            "  Downloading pygame-2.1.0-cp38-cp38-manylinux_2_17_x86_64.manylinux2014_x86_64.whl (18.3 MB)\n",
            "\u001b[K     |████████████████████████████████| 18.3 MB 1.2 MB/s \n",
            "\u001b[?25hRequirement already satisfied: zipp>=0.5 in /usr/local/lib/python3.8/dist-packages (from importlib-metadata>=4.8.0->gym[classic_control]) (3.11.0)\n",
            "Installing collected packages: pygame\n",
            "Successfully installed pygame-2.1.0\n"
          ]
        }
      ]
    },
    {
      "cell_type": "markdown",
      "source": [
        "## Import Dependencies"
      ],
      "metadata": {
        "id": "sHmjyfGJOTsV"
      }
    },
    {
      "cell_type": "code",
      "execution_count": null,
      "metadata": {
        "id": "GJ7ASlptVUES"
      },
      "outputs": [],
      "source": [
        "import os\n",
        "from typing import Dict, List, Tuple\n",
        "import math, random\n",
        "\n",
        "import gym\n",
        "import numpy as np\n",
        "import matplotlib.pyplot as plt\n",
        "%matplotlib inline\n",
        "\n",
        "\n",
        "import base64\n",
        "import glob\n",
        "import io\n",
        "import os\n",
        "\n",
        "\n",
        "import torch\n",
        "import torch.nn as nn\n",
        "import torch.optim as optim\n",
        "import torch.autograd as autograd \n",
        "import torch.nn.functional as F\n",
        "\n",
        "\n",
        "from IPython.display import HTML, display, clear_output\n",
        "\n"
      ]
    },
    {
      "cell_type": "markdown",
      "source": [
        "#**Implementation** "
      ],
      "metadata": {
        "id": "Eqs9Zs6rOZhy"
      }
    },
    {
      "cell_type": "markdown",
      "source": [
        "## **Show recorded video**\n",
        "The following functions are used in order to show in a video the obtained results"
      ],
      "metadata": {
        "id": "GaC0tjzZS6hG"
      }
    },
    {
      "cell_type": "code",
      "execution_count": null,
      "metadata": {
        "id": "4qPbPwvooax1"
      },
      "outputs": [],
      "source": [
        "def ipython_show_video(path: str) -> None:\n",
        "    \"\"\"Show a video at `path` within IPython Notebook.\"\"\"\n",
        "    if not os.path.isfile(path):\n",
        "        raise NameError(\"Cannot access: {}\".format(path))\n",
        "\n",
        "    video = io.open(path, \"r+b\").read()\n",
        "    encoded = base64.b64encode(video)\n",
        "\n",
        "    display(HTML(\n",
        "        data=\"\"\"\n",
        "        <video width=\"320\" height=\"240\" alt=\"test\" controls>\n",
        "        <source src=\"data:video/mp4;base64,{0}\" type=\"video/mp4\"/>\n",
        "        </video>\n",
        "        \"\"\".format(encoded.decode(\"ascii\"))\n",
        "    ))\n",
        "\n",
        "def remove_videos (video_folder: str):\n",
        "    list_of_files = glob.glob(os.path.join(video_folder, \"*.mp4\"))\n",
        "    for video in list_of_files:\n",
        "      try:\n",
        "          os.remove(video)\n",
        "      except:\n",
        "          print(\"Error while deleting file : \", video)\n",
        "\n",
        "def show_latest_video(video_folder: str) -> str:\n",
        "    \"\"\"Show the most recently recorded video from video folder.\"\"\"\n",
        "    list_of_files = glob.glob(os.path.join(video_folder, \"*.mp4\"))\n",
        "    print(\"files: \", list_of_files )\n",
        "    latest_file = max(list_of_files, key=os.path.getctime)\n",
        "    ipython_show_video(latest_file)\n",
        "    return latest_file\n",
        "\n",
        "def show_all_videos(video_folder: str) -> str:\n",
        "    \"\"\"Show all the videos recorded.\"\"\"\n",
        "    list_of_files = glob.glob(os.path.join(video_folder, \"*.mp4\"))\n",
        "    print(\"files: \", list_of_files )\n",
        "    for video in list_of_files:\n",
        "      ipython_show_video(video)\n",
        "    print(\"Played:\", video)\n"
      ]
    },
    {
      "cell_type": "markdown",
      "metadata": {
        "id": "PZzMzzVmIbKz"
      },
      "source": [
        "## Use Cuda"
      ]
    },
    {
      "cell_type": "code",
      "execution_count": null,
      "metadata": {
        "id": "HYyjk9ihIbK0"
      },
      "outputs": [],
      "source": [
        "USE_CUDA = torch.cuda.is_available()\n",
        "Variable = lambda *args, **kwargs: autograd.Variable(*args, **kwargs).cuda() if USE_CUDA else autograd.Variable(*args, **kwargs)"
      ]
    },
    {
      "cell_type": "markdown",
      "metadata": {
        "id": "TnjlYrW5IbK0"
      },
      "source": [
        "## Replay Buffer"
      ]
    },
    {
      "cell_type": "code",
      "source": [
        "from numpy.core.numeric import indices\n",
        "class ReplayBuffer(object):\n",
        "    def __init__(self, capacity):\n",
        "        self.capacity   = capacity\n",
        "        self.buffer     = []\n",
        "        self.pos        = 0\n",
        "        #******Añadido David*******\n",
        "        # array con las prioridades de cada experiencia en el buffer, para luego calcular la probabilidad de que se samplee\n",
        "        #self.prioridades = np.zeros(capacity)\n",
        "        self.prioridades = []\n",
        "        # beta=0.4, para el importance sampling\n",
        "        self.beta = 0.4\n",
        "        # kappa (k) = 0.6\n",
        "        self.kappa = 0.6\n",
        "        #**************************\n",
        "    \n",
        "    def push(self, state, action, reward, next_state, done):\n",
        "        state      = np.expand_dims(state, 0)\n",
        "        next_state = np.expand_dims(next_state, 0)\n",
        "                \n",
        "        if len(self.buffer) < self.capacity:\n",
        "            self.buffer.append((state, action, reward, next_state, done))\n",
        "            #******Añadido*******\n",
        "            self.prioridades.append(1)\n",
        "        else:\n",
        "            self.buffer[self.pos] = (state, action, reward, next_state, done)\n",
        "            self.prioridades[self.pos] = max(self.prioridades)\n",
        "            \n",
        "\n",
        "        self.pos = (self.pos + 1) % self.capacity\n",
        "    \n",
        "    #*****Añadido*****\n",
        "    #dado el peso delta y el indice, lo actualiza en el array de prioridades\n",
        "    def actualizar_peso(self, delta, indice):\n",
        "      # elevamos delta^2 (recomendacion de las tranparencias)\n",
        "      # self.prioridades[indice] = pow(delta,2)\n",
        "      # otra solucion: utilizar el valor absoluto en vez de ^2, como pone en las transparencias\n",
        "      self.prioridades[indice] = abs(delta)\n",
        "    #************************\n",
        "\n",
        "\n",
        "    # HELP:\n",
        "    # It can be helpful to use the following sequence:  \n",
        "    #   indices = random.choices(range(0,len(self.buffer)), weights=probabilities, k=batch_size )\n",
        "    # It samples \"k\" elements following \"probabilities\" distribution and returns the indices of the sampled elements\n",
        "    # Instead of this sequence you can also use numpy tools\n",
        "    def sample(self, batch_size):\n",
        "\n",
        "        #******Añadido*******\n",
        "\n",
        "        #calcular las probabilidades de las experiencias probabilities[j] = prioridad[j]^kappa / sum(prioridad ^ kappa)\n",
        "        prioridadesNumpy = np.array(self.prioridades)\n",
        "        probabilities = np.zeros(len(self.buffer)-1)\n",
        "        probabilities = pow(prioridadesNumpy, self.kappa)\n",
        "        probabilities = probabilities / np.sum(probabilities)\n",
        "\n",
        "        #obtener batch_size elementos siguiendo las probabilidades calculadas \n",
        "        #obtenemos una lista con los indices de las experiencias elegidas\n",
        "        indices = random.choices(range(0,len(self.buffer)), weights=probabilities, k=batch_size )\n",
        "\n",
        "        #obtenemos las experiencias elegidas a partir de los indices obtenidos\n",
        "        exp_elegidas = []\n",
        "        prob_elegidas = []\n",
        "        for i in indices:\n",
        "          exp_elegidas.append(self.buffer[i])\n",
        "          prob_elegidas.append(probabilities[i])\n",
        "\n",
        "        #la pasamos a numpy array para que sea más facil operar\n",
        "        prob_elegidas = np.array(prob_elegidas)\n",
        "\n",
        "        #importance sampling  w[i] = ( (1/N) * (1 / probabilities[i]) ) ^beta\n",
        "        N = len(self.buffer)\n",
        "        w = np.zeros(batch_size)\n",
        "        w = pow( ((1/N) * (1/prob_elegidas)) , self.beta)\n",
        "        w = w / w.max() #para normalizar\n",
        "\n",
        "        state, action, reward, next_state, done = zip(*exp_elegidas)\n",
        "        \n",
        "        return np.concatenate(state), action, reward, np.concatenate(next_state), done, w\n",
        "\n",
        "        #**************************\n",
        "        \n",
        "        #*****Comentado David******\n",
        "        #state, action, reward, next_state, done = zip(*random.sample(self.buffer, batch_size))\n",
        "        #return np.concatenate(state), action, reward, np.concatenate(next_state), done\n",
        "\n",
        "\n",
        "    def __len__(self):\n",
        "        return len(self.buffer)"
      ],
      "metadata": {
        "id": "WsoD9U8L-auG"
      },
      "execution_count": null,
      "outputs": []
    },
    {
      "cell_type": "markdown",
      "source": [
        "### Testing Replay Buffer"
      ],
      "metadata": {
        "id": "IyAYT95VwIvl"
      }
    },
    {
      "cell_type": "code",
      "source": [
        "# We build a Replay buffer for 5 elements\n",
        "rB = ReplayBuffer(5)\n",
        "\n",
        "# We are going to add 8 elements\n",
        "for i in range(8):\n",
        "  rB.push(i,i,i,i,i)\n",
        "print(\"We add 8 elements but there are only \", len(rB), \"\\nrB: \", rB.buffer)\n",
        "\n",
        "# We are going to add another value\n",
        "rB.push(10,10,10,10,10)\n",
        "print(\"\\nAfter we add a new element the buffer is: \", rB.buffer)\n",
        "\n",
        "# No we are going to see are sampled some experiences\n",
        "mini_batch = rB.sample(2)\n",
        "print(\"\\n The sampled elemenst: \", mini_batch )\n",
        "\n",
        "mini_batch = rB.sample(3)\n",
        "print(\"\\n The sampled elemenst: \", mini_batch )\n"
      ],
      "metadata": {
        "id": "B47-W5kjrEeA",
        "colab": {
          "base_uri": "https://localhost:8080/"
        },
        "outputId": "e7984bf0-117c-4652-a568-5d736f866708"
      },
      "execution_count": null,
      "outputs": [
        {
          "output_type": "stream",
          "name": "stdout",
          "text": [
            "We add 8 elements but there are only  5 \n",
            "rB:  [(array([5]), 5, 5, array([5]), 5), (array([6]), 6, 6, array([6]), 6), (array([7]), 7, 7, array([7]), 7), (array([3]), 3, 3, array([3]), 3), (array([4]), 4, 4, array([4]), 4)]\n",
            "\n",
            "After we add a new element the buffer is:  [(array([5]), 5, 5, array([5]), 5), (array([6]), 6, 6, array([6]), 6), (array([7]), 7, 7, array([7]), 7), (array([10]), 10, 10, array([10]), 10), (array([4]), 4, 4, array([4]), 4)]\n",
            "\n",
            " The sampled elemenst:  (array([7, 5]), (7, 5), (7, 5), array([7, 5]), (7, 5), array([1., 1.]))\n",
            "\n",
            " The sampled elemenst:  (array([7, 4, 4]), (7, 4, 4), (7, 4, 4), array([7, 4, 4]), (7, 4, 4), array([1., 1., 1.]))\n"
          ]
        }
      ]
    },
    {
      "cell_type": "markdown",
      "metadata": {
        "id": "voxkftv1IbK2"
      },
      "source": [
        "## Cart Pole Environment"
      ]
    },
    {
      "cell_type": "code",
      "execution_count": null,
      "metadata": {
        "id": "9EHbFDp6IbK4",
        "colab": {
          "base_uri": "https://localhost:8080/"
        },
        "outputId": "08782577-4377-42fc-8002-71302a23732d"
      },
      "outputs": [
        {
          "output_type": "stream",
          "name": "stderr",
          "text": [
            "/usr/local/lib/python3.8/dist-packages/gym/envs/registration.py:593: UserWarning: \u001b[33mWARN: The environment CartPole-v0 is out of date. You should consider upgrading to version `v1`.\u001b[0m\n",
            "  logger.warn(\n",
            "/usr/local/lib/python3.8/dist-packages/gym/core.py:317: DeprecationWarning: \u001b[33mWARN: Initializing wrapper in old step API which returns one bool instead of two. It is recommended to set `new_step_api=True` to use new step API. This will be the default behaviour in future.\u001b[0m\n",
            "  deprecation(\n",
            "/usr/local/lib/python3.8/dist-packages/gym/wrappers/step_api_compatibility.py:39: DeprecationWarning: \u001b[33mWARN: Initializing environment in old step API which returns one bool instead of two. It is recommended to set `new_step_api=True` to use new step API. This will be the default behaviour in future.\u001b[0m\n",
            "  deprecation(\n"
          ]
        }
      ],
      "source": [
        "env_id = \"CartPole-v0\"\n",
        "env = gym.make(env_id)"
      ]
    },
    {
      "cell_type": "code",
      "execution_count": null,
      "metadata": {
        "id": "pZySBOH5IbLA"
      },
      "outputs": [],
      "source": [
        "def plot(frame_idx, rewards):\n",
        "    clear_output(True)\n",
        "    plt.figure(figsize=(20,5))\n",
        "    plt.subplot(131)\n",
        "    plt.title('frame %s. reward: %s' % (frame_idx, np.mean(rewards[-10:])))\n",
        "    plt.plot(rewards)\n",
        "    plt.show()"
      ]
    },
    {
      "cell_type": "markdown",
      "metadata": {
        "id": "h7aZ3bYgIbK4"
      },
      "source": [
        "## Epsilon greedy exploration\n",
        "Epsilon value is dynamic. It starts with 1.0 value (exploration) and little by little it is going to decay until 0.01 (exploitation)"
      ]
    },
    {
      "cell_type": "code",
      "execution_count": null,
      "metadata": {
        "id": "hZCk-i69IbK5"
      },
      "outputs": [],
      "source": [
        "epsilon_start = 1.0\n",
        "epsilon_final = 0.01\n",
        "epsilon_decay = 500\n",
        "\n",
        "epsilon_by_frame = lambda frame_idx: epsilon_final + (epsilon_start - epsilon_final) * math.exp(-1. * frame_idx / epsilon_decay)"
      ]
    },
    {
      "cell_type": "code",
      "execution_count": null,
      "metadata": {
        "id": "DKVzXtD0IbK6",
        "colab": {
          "base_uri": "https://localhost:8080/",
          "height": 282
        },
        "outputId": "29cb23f4-8893-4983-f892-8bbaff193884"
      },
      "outputs": [
        {
          "output_type": "execute_result",
          "data": {
            "text/plain": [
              "[<matplotlib.lines.Line2D at 0x7f22d1dbb970>]"
            ]
          },
          "metadata": {},
          "execution_count": 80
        },
        {
          "output_type": "display_data",
          "data": {
            "text/plain": [
              "<Figure size 432x288 with 1 Axes>"
            ],
            "image/png": "[encoded data removed]"
          },
          "metadata": {
            "needs_background": "light"
          }
        }
      ],
      "source": [
        "plt.plot([epsilon_by_frame(i) for i in range(10000)])"
      ]
    },
    {
      "cell_type": "markdown",
      "metadata": {
        "id": "c6A-SD0_IbK7"
      },
      "source": [
        "## Deep Q Network"
      ]
    },
    {
      "cell_type": "code",
      "source": [
        "class DQN(nn.Module):\n",
        "    def __init__(self, num_inputs, num_actions):\n",
        "        super(DQN, self).__init__()\n",
        "        \n",
        "        self.layers = nn.Sequential(\n",
        "            nn.Linear(num_inputs, 128),\n",
        "            nn.ReLU(),\n",
        "            nn.Linear(128, 128),\n",
        "            nn.ReLU(),\n",
        "            nn.Linear(128, num_actions)\n",
        "        )\n",
        "\n",
        "    # This method computes output Tensors from input Tensors. That is, given an state it returns an array with q(s,a) values for all actions\n",
        "    def forward(self, x):\n",
        "        return self.layers(x)\n",
        "\n",
        "  "
      ],
      "metadata": {
        "id": "0HB3GTmOisfH"
      },
      "execution_count": null,
      "outputs": []
    },
    {
      "cell_type": "code",
      "execution_count": null,
      "metadata": {
        "id": "p4vsG_e3IbK7"
      },
      "outputs": [],
      "source": [
        "class Agent():\n",
        "    def __init__(self, env):\n",
        "        self.env = env\n",
        "        self.replay_buffer = ReplayBuffer(1000)\n",
        "        self.batch_size = 32\n",
        "        self.gamma = 0.99\n",
        "       \n",
        "        self.model = DQN(self.env.observation_space.shape[0], self.env.action_space.n)\n",
        "        self.optimizer = optim.Adam(self.model.parameters())\n",
        "\n",
        "    # This method defines the epsilon value. It started with 1.0 and it decays until 0.01 value   \n",
        "    def get_epsilon_value(self, frame_idx):\n",
        "      epsilon_start = 1.0\n",
        "      epsilon_final = 0.01\n",
        "      epsilon_decay = 500\n",
        "       \n",
        "      epsilon = lambda frame_idx: epsilon_final + (epsilon_start - epsilon_final) * math.exp(-1. * frame_idx / epsilon_decay)\n",
        "      return epsilon(frame_idx)\n",
        "    \n",
        "    # Given a state and epsilon value, this method returns an action following epsilong-greedy\n",
        "    def act(self, state, epsilon):\n",
        "        if random.random() > epsilon:\n",
        "            state   = Variable(torch.FloatTensor(state).unsqueeze(0), requires_grad=False)\n",
        "            q_value = self.model.forward(state)\n",
        "            action  = q_value.max(1)[1].item()\n",
        "        else:\n",
        "            action = random.randrange(self.env.action_space.n)\n",
        "        return action\n",
        "\n",
        "    # Given a model, it copyes the current model on it. \n",
        "    def update_target(self, target_model):\n",
        "      target_model.load_state_dict(self.model.state_dict())\n",
        "\n",
        "    # This method updates the weights \n",
        "    # It is solved using tensors\n",
        "    def compute_td_loss(self, target_model):\n",
        "      state, action, reward, next_state, done = self.replay_buffer.sample(self.batch_size)\n",
        "\n",
        "      state      = Variable(torch.FloatTensor(np.float32(state)))\n",
        "      next_state = Variable(torch.FloatTensor(np.float32(next_state)))\n",
        "      action     = Variable(torch.LongTensor(action))\n",
        "      reward     = Variable(torch.FloatTensor(reward))\n",
        "      done       = Variable(torch.FloatTensor(done))\n",
        "      \n",
        "      q_values      = self.model.forward(state)\n",
        "      next_q_values = self.model.forward(next_state)\n",
        "      next_q_state_values = target_model(next_state) \n",
        "\n",
        "      q_value       = q_values.gather(1, action.unsqueeze(1)).squeeze(1) \n",
        "      next_q_value = next_q_state_values.gather(1, torch.max(next_q_values, 1)[1].unsqueeze(1)).squeeze(1)\n",
        "      #next_q_value = next_q_state_values.max(1)[0]\n",
        "      expected_q_value = reward + self.gamma * next_q_value * (1 - done)\n",
        "      \n",
        "      loss = (q_value - Variable(expected_q_value.data)).pow(2).mean()\n",
        "          \n",
        "      self.optimizer.zero_grad()\n",
        "      loss.backward()\n",
        "      self.optimizer.step()\n",
        "      \n",
        "      return loss\n",
        "\n",
        "    # TODO\n",
        "    # This method updates the weights \n",
        "    def compute_td_loss_our(self, target_model):\n",
        "      # Obtain the mini_batch to train the weights.\n",
        "      # state, action, reward, next_state, done are numpy arrays, each position corresponds to one experience\n",
        "      \n",
        "      #*****Comentado David*****\n",
        "      #state, action, reward, next_state, done = self.replay_buffer.sample(self.batch_size)\n",
        "\n",
        "      state, action, reward, next_state, done, weights = self.replay_buffer.sample(self.batch_size)\n",
        "      #**************************\n",
        "\n",
        "      # Convert those numpy arrays to tensors. It is neccesary to work with Pytorch\n",
        "      states_tensor      = Variable(torch.FloatTensor(np.float32(state)))       # current_state S\n",
        "      actions_tensor     = Variable(torch.LongTensor(action))                   # action A\n",
        "      next_states_tensor = Variable(torch.FloatTensor(np.float32(next_state)))  # next_state S'\n",
        "\n",
        "      \n",
        "      # The approximated q_values of each current state \n",
        "      q_values_tensor      = self.model.forward(states_tensor) # Q(S, A, W)\n",
        "\n",
        "      # The approximated q_values of each next state calculated with the current_model and the target_model \n",
        "      next_q_values_current_model_tensor = self.model.forward(next_states_tensor) # Q(S', A', W)\n",
        "      next_q_values_target_model_tensor = target_model.forward(next_states_tensor) # Q(S', A', W')\n",
        "\n",
        "      # Convert the approximated next_states' q_values to numpy array. We are going to work with these arrays\n",
        "      next_q_values_current_model = next_q_values_current_model_tensor.detach().numpy(); \n",
        "      next_q_values_target_model = next_q_values_target_model_tensor.detach().numpy(); \n",
        "      expected_q_value = np.zeros(self.batch_size)\n",
        "      \n",
        "      # TODO\n",
        "      # input: next_q_values_current_model is a numpy array. In each element are stored all the approximated q values for the next state calculated with the current_model\n",
        "      # input: next_q_values_target_model is a numpy array. In each element are stored all the approximated q values for the next state calculated with the target_model\n",
        "      # input: reward is a numpy array with the rewards obtained in each experience of the mini_batch (batch_size)\n",
        "      # output: expected_q_value is a numpy array. You have to store in each position the target value of each experience using next_q_values_target_model and reward elements \n",
        "      # note: all these numpy arrays has the same length: the length of the mini_batch (batch_size)\n",
        "      #\n",
        "      # for all the elements on the batch size\n",
        "      #  calculate the target expected value and store in expected_q_value \n",
        "\n",
        "      for i in range(self.batch_size):      \n",
        "        next_q_value = 0\n",
        "        if not(done[i]):\n",
        "          next_q_value = max(next_q_values_target_model[i])\n",
        "\n",
        "          # with current model\n",
        "          #next_q_value = max(next_q_values_current_model[i])\n",
        "\n",
        "          # with current model action and target model approximation\n",
        "          #next_action = np.argmax(next_q_values_current_model[i])\n",
        "          #next_q_value = next_q_values_target_model[i][next_action]\n",
        "          \n",
        "        expected_q_value[i] = reward[i] + self.gamma*next_q_value\n",
        "        \n",
        "        #****Añadido******\n",
        "        #actualizar el peso en el buffer\n",
        "        self.replay_buffer.actualizar_peso(expected_q_value[i], i)\n",
        "        #***********************\n",
        "\n",
        "      # END TODO\n",
        "\n",
        "      # Prepare data for the loss function\n",
        "      q_value = q_values_tensor.gather(1, actions_tensor.unsqueeze(1)).squeeze(1)\n",
        "      expected_q_values = torch.tensor(expected_q_value)\n",
        "\n",
        "      # Loss function: to know how good the weights are\n",
        "      # lossMSE = nn.MSELoss()  \n",
        "      # loss = lossMSE(q_value.float(), expected_q_values.float())\n",
        "\n",
        "      #****Añadido******\n",
        "      loss  = (q_value - expected_q_values.detach()).pow(2) * torch.tensor(weights)\n",
        "      loss  = loss.mean()\n",
        "      #***********************\n",
        "\n",
        "\n",
        "      # Based on the results of the loss function, the weights are updated with gradient descent\n",
        "      self.optimizer.zero_grad()\n",
        "      loss.backward()\n",
        "      self.optimizer.step()\n",
        "      \n",
        "      return loss\n",
        "\n",
        "    # TODO\n",
        "    # Method to train the agent\n",
        "    def train(self):\n",
        "      #25000\n",
        "      num_frames = 25000\n",
        "      losses = []\n",
        "      all_rewards = []\n",
        "      all_losses = []\n",
        "      episode_reward = 0\n",
        "      episode_loss = 0\n",
        "      target_model  = DQN(self.env.observation_space.shape[0], self.env.action_space.n)\n",
        "      state = self.env.reset()\n",
        "\n",
        "      # TODO\n",
        "      # replay buffer attribute is empty\n",
        "      # for each frame\n",
        "      #   get current epsilon\n",
        "      #   get action following epsilon greedy\n",
        "      #   get next_state and reward\n",
        "      #   add new experience to the replay buffer \n",
        "      #   update state\n",
        "      #   update episode total reward\n",
        "      #   if done\n",
        "      #     reset environment\n",
        "      #     append the episode total reward to all_rewards array\n",
        "      #     set episode total reward to 0\n",
        "      #   if experience replay has more elements than batch_size\n",
        "      #     update the weights\n",
        "      #   every 100 frames update the target model\n",
        "      \n",
        "      for frame_idx in range(1, num_frames + 1):\n",
        "          epsilon = self.get_epsilon_value(frame_idx)\n",
        "          action = self.act(state, epsilon)\n",
        "          \n",
        "          next_state, reward, done, _ = self.env.step(action)\n",
        "          self.replay_buffer.push(state, action, reward, next_state, done)\n",
        "          state = next_state\n",
        "          episode_reward += reward\n",
        "          \n",
        "          if done:\n",
        "              state = self.env.reset()\n",
        "              all_rewards.append(episode_reward)\n",
        "              episode_reward = 0   \n",
        "              \n",
        "              all_losses.append(episode_loss)   \n",
        "              episode_loss = 0        \n",
        "              \n",
        "          if len(current_model.replay_buffer) > self.batch_size:\n",
        "              loss = self.compute_td_loss_our(target_model)\n",
        "              losses.append(loss.data)\n",
        "\n",
        "              episode_loss = loss\n",
        "\n",
        "          # to visualize how the agent is learning    \n",
        "          if frame_idx % 200 == 0:\n",
        "              plot(frame_idx, all_rewards)\n",
        "              \n",
        "              plt.figure(figsize=(20,5))\n",
        "              plt.subplot(131)\n",
        "              plt.title(\"loss a lo largo del tiempo\")\n",
        "              plt.plot(losses)\n",
        "              plt.show()\n",
        "              \n",
        "          if frame_idx % 100 == 0:\n",
        "              self.update_target(target_model)\n",
        "\n",
        "      print(\"Recompensa media en el entrenamiento (con las recompensas de cada estado final): \", sum(all_rewards)/len(all_rewards))\n",
        "      print(\"Loss medio en el entrenamiento:      (con los losses de cada frame):             \", sum(losses)/len(losses))\n",
        "      print(\"Loss medio en el entrenamiento:      (con los loses de cada estado final):       \", sum(all_losses)/len(all_losses))\n",
        "\n",
        "    # This method runs one episode and generates a video to observe the result\n",
        "    def test(self):\n",
        "        video_folder=\"videos\"\n",
        "\n",
        "        remove_videos(video_folder=video_folder)\n",
        "\n",
        "        # we are going to work over envVideo.\n",
        "        envVideo = gym.wrappers.RecordVideo(self.env, video_folder=video_folder)\n",
        "                \n",
        "        done = False #It is used to control if the episode is finished, if it is finished the environment must be reset\n",
        "        state = envVideo.reset()\n",
        "\n",
        "        total_reward = 0\n",
        "        while not(done):          \n",
        "            action = self.act(state, 0)\n",
        "            next_state, reward, done, _ = envVideo.step(action)\n",
        "            state = next_state\n",
        "            total_reward +=reward\n",
        "            if done:\n",
        "              break\n",
        "        envVideo.close()\n",
        "        print(\"rew: \", total_reward)\n",
        "        show_all_videos(video_folder=video_folder)\n",
        "        \n",
        "        "
      ]
    },
    {
      "cell_type": "markdown",
      "source": [
        "### Train the agent"
      ],
      "metadata": {
        "id": "ynxAQEvLmC6R"
      }
    },
    {
      "cell_type": "code",
      "source": [
        "current_model = Agent(env)\n",
        "current_model.train()"
      ],
      "metadata": {
        "id": "uQO4hDUn2vUa",
        "colab": {
          "base_uri": "https://localhost:8080/",
          "height": 664
        },
        "outputId": "8314870b-f1bc-4252-e233-02c7717f98e3"
      },
      "execution_count": null,
      "outputs": [
        {
          "output_type": "display_data",
          "data": {
            "text/plain": [
              "<Figure size 1440x360 with 1 Axes>"
            ],
            "image/png": "[encoded data removed]"
          },
          "metadata": {
            "needs_background": "light"
          }
        },
        {
          "output_type": "error",
          "ename": "KeyboardInterrupt",
          "evalue": "ignored",
          "traceback": [
            "\u001b[0;31m---------------------------------------------------------------------------\u001b[0m",
            "\u001b[0;31mKeyboardInterrupt\u001b[0m                         Traceback (most recent call last)",
            "\u001b[0;32m<ipython-input-85-9efdf25a488e>\u001b[0m in \u001b[0;36m<module>\u001b[0;34m\u001b[0m\n\u001b[1;32m      1\u001b[0m \u001b[0mcurrent_model\u001b[0m \u001b[0;34m=\u001b[0m \u001b[0mAgent\u001b[0m\u001b[0;34m(\u001b[0m\u001b[0menv\u001b[0m\u001b[0;34m)\u001b[0m\u001b[0;34m\u001b[0m\u001b[0;34m\u001b[0m\u001b[0m\n\u001b[0;32m----> 2\u001b[0;31m \u001b[0mcurrent_model\u001b[0m\u001b[0;34m.\u001b[0m\u001b[0mtrain\u001b[0m\u001b[0;34m(\u001b[0m\u001b[0;34m)\u001b[0m\u001b[0;34m\u001b[0m\u001b[0;34m\u001b[0m\u001b[0m\n\u001b[0m",
            "\u001b[0;32m<ipython-input-84-c24fe5d1054f>\u001b[0m in \u001b[0;36mtrain\u001b[0;34m(self)\u001b[0m\n\u001b[1;32m    200\u001b[0m \u001b[0;34m\u001b[0m\u001b[0m\n\u001b[1;32m    201\u001b[0m               \u001b[0mplt\u001b[0m\u001b[0;34m.\u001b[0m\u001b[0mfigure\u001b[0m\u001b[0;34m(\u001b[0m\u001b[0mfigsize\u001b[0m\u001b[0;34m=\u001b[0m\u001b[0;34m(\u001b[0m\u001b[0;36m20\u001b[0m\u001b[0;34m,\u001b[0m\u001b[0;36m5\u001b[0m\u001b[0;34m)\u001b[0m\u001b[0;34m)\u001b[0m\u001b[0;34m\u001b[0m\u001b[0;34m\u001b[0m\u001b[0m\n\u001b[0;32m--> 202\u001b[0;31m               \u001b[0mplt\u001b[0m\u001b[0;34m.\u001b[0m\u001b[0msubplot\u001b[0m\u001b[0;34m(\u001b[0m\u001b[0;36m131\u001b[0m\u001b[0;34m)\u001b[0m\u001b[0;34m\u001b[0m\u001b[0;34m\u001b[0m\u001b[0m\n\u001b[0m\u001b[1;32m    203\u001b[0m               \u001b[0mplt\u001b[0m\u001b[0;34m.\u001b[0m\u001b[0mtitle\u001b[0m\u001b[0;34m(\u001b[0m\u001b[0;34m\"loss a lo largo del tiempo\"\u001b[0m\u001b[0;34m)\u001b[0m\u001b[0;34m\u001b[0m\u001b[0;34m\u001b[0m\u001b[0m\n\u001b[1;32m    204\u001b[0m               \u001b[0mplt\u001b[0m\u001b[0;34m.\u001b[0m\u001b[0mplot\u001b[0m\u001b[0;34m(\u001b[0m\u001b[0mlosses\u001b[0m\u001b[0;34m)\u001b[0m\u001b[0;34m\u001b[0m\u001b[0;34m\u001b[0m\u001b[0m\n",
            "\u001b[0;32m/usr/local/lib/python3.8/dist-packages/matplotlib/pyplot.py\u001b[0m in \u001b[0;36msubplot\u001b[0;34m(*args, **kwargs)\u001b[0m\n\u001b[1;32m   1028\u001b[0m \u001b[0;34m\u001b[0m\u001b[0m\n\u001b[1;32m   1029\u001b[0m     \u001b[0mfig\u001b[0m \u001b[0;34m=\u001b[0m \u001b[0mgcf\u001b[0m\u001b[0;34m(\u001b[0m\u001b[0;34m)\u001b[0m\u001b[0;34m\u001b[0m\u001b[0;34m\u001b[0m\u001b[0m\n\u001b[0;32m-> 1030\u001b[0;31m     \u001b[0ma\u001b[0m \u001b[0;34m=\u001b[0m \u001b[0mfig\u001b[0m\u001b[0;34m.\u001b[0m\u001b[0madd_subplot\u001b[0m\u001b[0;34m(\u001b[0m\u001b[0;34m*\u001b[0m\u001b[0margs\u001b[0m\u001b[0;34m,\u001b[0m \u001b[0;34m**\u001b[0m\u001b[0mkwargs\u001b[0m\u001b[0;34m)\u001b[0m\u001b[0;34m\u001b[0m\u001b[0;34m\u001b[0m\u001b[0m\n\u001b[0m\u001b[1;32m   1031\u001b[0m     \u001b[0mbbox\u001b[0m \u001b[0;34m=\u001b[0m \u001b[0ma\u001b[0m\u001b[0;34m.\u001b[0m\u001b[0mbbox\u001b[0m\u001b[0;34m\u001b[0m\u001b[0;34m\u001b[0m\u001b[0m\n\u001b[1;32m   1032\u001b[0m     \u001b[0mbyebye\u001b[0m \u001b[0;34m=\u001b[0m \u001b[0;34m[\u001b[0m\u001b[0;34m]\u001b[0m\u001b[0;34m\u001b[0m\u001b[0;34m\u001b[0m\u001b[0m\n",
            "\u001b[0;32m/usr/local/lib/python3.8/dist-packages/matplotlib/figure.py\u001b[0m in \u001b[0;36madd_subplot\u001b[0;34m(self, *args, **kwargs)\u001b[0m\n\u001b[1;32m   1417\u001b[0m                     \u001b[0mself\u001b[0m\u001b[0;34m.\u001b[0m\u001b[0m_axstack\u001b[0m\u001b[0;34m.\u001b[0m\u001b[0mremove\u001b[0m\u001b[0;34m(\u001b[0m\u001b[0max\u001b[0m\u001b[0;34m)\u001b[0m\u001b[0;34m\u001b[0m\u001b[0;34m\u001b[0m\u001b[0m\n\u001b[1;32m   1418\u001b[0m \u001b[0;34m\u001b[0m\u001b[0m\n\u001b[0;32m-> 1419\u001b[0;31m             \u001b[0ma\u001b[0m \u001b[0;34m=\u001b[0m \u001b[0msubplot_class_factory\u001b[0m\u001b[0;34m(\u001b[0m\u001b[0mprojection_class\u001b[0m\u001b[0;34m)\u001b[0m\u001b[0;34m(\u001b[0m\u001b[0mself\u001b[0m\u001b[0;34m,\u001b[0m \u001b[0;34m*\u001b[0m\u001b[0margs\u001b[0m\u001b[0;34m,\u001b[0m \u001b[0;34m**\u001b[0m\u001b[0mkwargs\u001b[0m\u001b[0;34m)\u001b[0m\u001b[0;34m\u001b[0m\u001b[0;34m\u001b[0m\u001b[0m\n\u001b[0m\u001b[1;32m   1420\u001b[0m \u001b[0;34m\u001b[0m\u001b[0m\n\u001b[1;32m   1421\u001b[0m         \u001b[0;32mreturn\u001b[0m \u001b[0mself\u001b[0m\u001b[0;34m.\u001b[0m\u001b[0m_add_axes_internal\u001b[0m\u001b[0;34m(\u001b[0m\u001b[0mkey\u001b[0m\u001b[0;34m,\u001b[0m \u001b[0ma\u001b[0m\u001b[0;34m)\u001b[0m\u001b[0;34m\u001b[0m\u001b[0;34m\u001b[0m\u001b[0m\n",
            "\u001b[0;32m/usr/local/lib/python3.8/dist-packages/matplotlib/axes/_subplots.py\u001b[0m in \u001b[0;36m__init__\u001b[0;34m(self, fig, *args, **kwargs)\u001b[0m\n\u001b[1;32m     74\u001b[0m \u001b[0;34m\u001b[0m\u001b[0m\n\u001b[1;32m     75\u001b[0m         \u001b[0;31m# _axes_class is set in the subplot_class_factory\u001b[0m\u001b[0;34m\u001b[0m\u001b[0;34m\u001b[0m\u001b[0;34m\u001b[0m\u001b[0m\n\u001b[0;32m---> 76\u001b[0;31m         \u001b[0mself\u001b[0m\u001b[0;34m.\u001b[0m\u001b[0m_axes_class\u001b[0m\u001b[0;34m.\u001b[0m\u001b[0m__init__\u001b[0m\u001b[0;34m(\u001b[0m\u001b[0mself\u001b[0m\u001b[0;34m,\u001b[0m \u001b[0mfig\u001b[0m\u001b[0;34m,\u001b[0m \u001b[0mself\u001b[0m\u001b[0;34m.\u001b[0m\u001b[0mfigbox\u001b[0m\u001b[0;34m,\u001b[0m \u001b[0;34m**\u001b[0m\u001b[0mkwargs\u001b[0m\u001b[0;34m)\u001b[0m\u001b[0;34m\u001b[0m\u001b[0;34m\u001b[0m\u001b[0m\n\u001b[0m\u001b[1;32m     77\u001b[0m         \u001b[0;31m# add a layout box to this, for both the full axis, and the poss\u001b[0m\u001b[0;34m\u001b[0m\u001b[0;34m\u001b[0m\u001b[0;34m\u001b[0m\u001b[0m\n\u001b[1;32m     78\u001b[0m         \u001b[0;31m# of the axis.  We need both because the axes may become smaller\u001b[0m\u001b[0;34m\u001b[0m\u001b[0;34m\u001b[0m\u001b[0;34m\u001b[0m\u001b[0m\n",
            "\u001b[0;32m/usr/local/lib/python3.8/dist-packages/matplotlib/axes/_base.py\u001b[0m in \u001b[0;36m__init__\u001b[0;34m(self, fig, rect, facecolor, frameon, sharex, sharey, label, xscale, yscale, **kwargs)\u001b[0m\n\u001b[1;32m    441\u001b[0m         \u001b[0mself\u001b[0m\u001b[0;34m.\u001b[0m\u001b[0mset_axes_locator\u001b[0m\u001b[0;34m(\u001b[0m\u001b[0mkwargs\u001b[0m\u001b[0;34m.\u001b[0m\u001b[0mget\u001b[0m\u001b[0;34m(\u001b[0m\u001b[0;34m\"axes_locator\"\u001b[0m\u001b[0;34m,\u001b[0m \u001b[0;32mNone\u001b[0m\u001b[0;34m)\u001b[0m\u001b[0;34m)\u001b[0m\u001b[0;34m\u001b[0m\u001b[0;34m\u001b[0m\u001b[0m\n\u001b[1;32m    442\u001b[0m \u001b[0;34m\u001b[0m\u001b[0m\n\u001b[0;32m--> 443\u001b[0;31m         \u001b[0mself\u001b[0m\u001b[0;34m.\u001b[0m\u001b[0mspines\u001b[0m \u001b[0;34m=\u001b[0m \u001b[0mself\u001b[0m\u001b[0;34m.\u001b[0m\u001b[0m_gen_axes_spines\u001b[0m\u001b[0;34m(\u001b[0m\u001b[0;34m)\u001b[0m\u001b[0;34m\u001b[0m\u001b[0;34m\u001b[0m\u001b[0m\n\u001b[0m\u001b[1;32m    444\u001b[0m \u001b[0;34m\u001b[0m\u001b[0m\n\u001b[1;32m    445\u001b[0m         \u001b[0;31m# this call may differ for non-sep axes, e.g., polar\u001b[0m\u001b[0;34m\u001b[0m\u001b[0;34m\u001b[0m\u001b[0;34m\u001b[0m\u001b[0m\n",
            "\u001b[0;32m/usr/local/lib/python3.8/dist-packages/matplotlib/axes/_base.py\u001b[0m in \u001b[0;36m_gen_axes_spines\u001b[0;34m(self, locations, offset, units)\u001b[0m\n\u001b[1;32m    943\u001b[0m         \u001b[0mIntended\u001b[0m \u001b[0mto\u001b[0m \u001b[0mbe\u001b[0m \u001b[0moverridden\u001b[0m \u001b[0mby\u001b[0m \u001b[0mnew\u001b[0m \u001b[0mprojection\u001b[0m \u001b[0mtypes\u001b[0m\u001b[0;34m.\u001b[0m\u001b[0;34m\u001b[0m\u001b[0;34m\u001b[0m\u001b[0m\n\u001b[1;32m    944\u001b[0m         \"\"\"\n\u001b[0;32m--> 945\u001b[0;31m         return OrderedDict((side, mspines.Spine.linear_spine(self, side))\n\u001b[0m\u001b[1;32m    946\u001b[0m                            for side in ['left', 'right', 'bottom', 'top'])\n\u001b[1;32m    947\u001b[0m \u001b[0;34m\u001b[0m\u001b[0m\n",
            "\u001b[0;32m/usr/local/lib/python3.8/dist-packages/matplotlib/axes/_base.py\u001b[0m in \u001b[0;36m<genexpr>\u001b[0;34m(.0)\u001b[0m\n\u001b[1;32m    943\u001b[0m         \u001b[0mIntended\u001b[0m \u001b[0mto\u001b[0m \u001b[0mbe\u001b[0m \u001b[0moverridden\u001b[0m \u001b[0mby\u001b[0m \u001b[0mnew\u001b[0m \u001b[0mprojection\u001b[0m \u001b[0mtypes\u001b[0m\u001b[0;34m.\u001b[0m\u001b[0;34m\u001b[0m\u001b[0;34m\u001b[0m\u001b[0m\n\u001b[1;32m    944\u001b[0m         \"\"\"\n\u001b[0;32m--> 945\u001b[0;31m         return OrderedDict((side, mspines.Spine.linear_spine(self, side))\n\u001b[0m\u001b[1;32m    946\u001b[0m                            for side in ['left', 'right', 'bottom', 'top'])\n\u001b[1;32m    947\u001b[0m \u001b[0;34m\u001b[0m\u001b[0m\n",
            "\u001b[0;32m/usr/local/lib/python3.8/dist-packages/matplotlib/spines.py\u001b[0m in \u001b[0;36mlinear_spine\u001b[0;34m(cls, axes, spine_type, **kwargs)\u001b[0m\n\u001b[1;32m    526\u001b[0m             \u001b[0mpath\u001b[0m \u001b[0;34m=\u001b[0m \u001b[0mmpath\u001b[0m\u001b[0;34m.\u001b[0m\u001b[0mPath\u001b[0m\u001b[0;34m(\u001b[0m\u001b[0;34m[\u001b[0m\u001b[0;34m(\u001b[0m\u001b[0;36m1.0\u001b[0m\u001b[0;34m,\u001b[0m \u001b[0;36m0.999\u001b[0m\u001b[0;34m)\u001b[0m\u001b[0;34m,\u001b[0m \u001b[0;34m(\u001b[0m\u001b[0;36m1.0\u001b[0m\u001b[0;34m,\u001b[0m \u001b[0;36m0.999\u001b[0m\u001b[0;34m)\u001b[0m\u001b[0;34m]\u001b[0m\u001b[0;34m)\u001b[0m\u001b[0;34m\u001b[0m\u001b[0;34m\u001b[0m\u001b[0m\n\u001b[1;32m    527\u001b[0m         \u001b[0;32melif\u001b[0m \u001b[0mspine_type\u001b[0m \u001b[0;34m==\u001b[0m \u001b[0;34m'bottom'\u001b[0m\u001b[0;34m:\u001b[0m\u001b[0;34m\u001b[0m\u001b[0;34m\u001b[0m\u001b[0m\n\u001b[0;32m--> 528\u001b[0;31m             \u001b[0mpath\u001b[0m \u001b[0;34m=\u001b[0m \u001b[0mmpath\u001b[0m\u001b[0;34m.\u001b[0m\u001b[0mPath\u001b[0m\u001b[0;34m(\u001b[0m\u001b[0;34m[\u001b[0m\u001b[0;34m(\u001b[0m\u001b[0;36m0.999\u001b[0m\u001b[0;34m,\u001b[0m \u001b[0;36m0.0\u001b[0m\u001b[0;34m)\u001b[0m\u001b[0;34m,\u001b[0m \u001b[0;34m(\u001b[0m\u001b[0;36m0.999\u001b[0m\u001b[0;34m,\u001b[0m \u001b[0;36m0.0\u001b[0m\u001b[0;34m)\u001b[0m\u001b[0;34m]\u001b[0m\u001b[0;34m)\u001b[0m\u001b[0;34m\u001b[0m\u001b[0;34m\u001b[0m\u001b[0m\n\u001b[0m\u001b[1;32m    529\u001b[0m         \u001b[0;32melif\u001b[0m \u001b[0mspine_type\u001b[0m \u001b[0;34m==\u001b[0m \u001b[0;34m'top'\u001b[0m\u001b[0;34m:\u001b[0m\u001b[0;34m\u001b[0m\u001b[0;34m\u001b[0m\u001b[0m\n\u001b[1;32m    530\u001b[0m             \u001b[0mpath\u001b[0m \u001b[0;34m=\u001b[0m \u001b[0mmpath\u001b[0m\u001b[0;34m.\u001b[0m\u001b[0mPath\u001b[0m\u001b[0;34m(\u001b[0m\u001b[0;34m[\u001b[0m\u001b[0;34m(\u001b[0m\u001b[0;36m0.999\u001b[0m\u001b[0;34m,\u001b[0m \u001b[0;36m1.0\u001b[0m\u001b[0;34m)\u001b[0m\u001b[0;34m,\u001b[0m \u001b[0;34m(\u001b[0m\u001b[0;36m0.999\u001b[0m\u001b[0;34m,\u001b[0m \u001b[0;36m1.0\u001b[0m\u001b[0;34m)\u001b[0m\u001b[0;34m]\u001b[0m\u001b[0;34m)\u001b[0m\u001b[0;34m\u001b[0m\u001b[0;34m\u001b[0m\u001b[0m\n",
            "\u001b[0;32m/usr/local/lib/python3.8/dist-packages/matplotlib/path.py\u001b[0m in \u001b[0;36m__init__\u001b[0;34m(self, vertices, codes, _interpolation_steps, closed, readonly)\u001b[0m\n\u001b[1;32m    125\u001b[0m             \u001b[0;32mand\u001b[0m \u001b[0mcodes\u001b[0m \u001b[0;32mas\u001b[0m \u001b[0mread\u001b[0m\u001b[0;34m-\u001b[0m\u001b[0monly\u001b[0m \u001b[0marrays\u001b[0m\u001b[0;34m.\u001b[0m\u001b[0;34m\u001b[0m\u001b[0;34m\u001b[0m\u001b[0m\n\u001b[1;32m    126\u001b[0m         \"\"\"\n\u001b[0;32m--> 127\u001b[0;31m         \u001b[0mvertices\u001b[0m \u001b[0;34m=\u001b[0m \u001b[0m_to_unmasked_float_array\u001b[0m\u001b[0;34m(\u001b[0m\u001b[0mvertices\u001b[0m\u001b[0;34m)\u001b[0m\u001b[0;34m\u001b[0m\u001b[0;34m\u001b[0m\u001b[0m\n\u001b[0m\u001b[1;32m    128\u001b[0m         \u001b[0;32mif\u001b[0m \u001b[0mvertices\u001b[0m\u001b[0;34m.\u001b[0m\u001b[0mndim\u001b[0m \u001b[0;34m!=\u001b[0m \u001b[0;36m2\u001b[0m \u001b[0;32mor\u001b[0m \u001b[0mvertices\u001b[0m\u001b[0;34m.\u001b[0m\u001b[0mshape\u001b[0m\u001b[0;34m[\u001b[0m\u001b[0;36m1\u001b[0m\u001b[0;34m]\u001b[0m \u001b[0;34m!=\u001b[0m \u001b[0;36m2\u001b[0m\u001b[0;34m:\u001b[0m\u001b[0;34m\u001b[0m\u001b[0;34m\u001b[0m\u001b[0m\n\u001b[1;32m    129\u001b[0m             raise ValueError(\n",
            "\u001b[0;32m/usr/local/lib/python3.8/dist-packages/matplotlib/cbook/__init__.py\u001b[0m in \u001b[0;36m_to_unmasked_float_array\u001b[0;34m(x)\u001b[0m\n\u001b[1;32m   1315\u001b[0m         \u001b[0;32mreturn\u001b[0m \u001b[0mnp\u001b[0m\u001b[0;34m.\u001b[0m\u001b[0mma\u001b[0m\u001b[0;34m.\u001b[0m\u001b[0masarray\u001b[0m\u001b[0;34m(\u001b[0m\u001b[0mx\u001b[0m\u001b[0;34m,\u001b[0m \u001b[0mfloat\u001b[0m\u001b[0;34m)\u001b[0m\u001b[0;34m.\u001b[0m\u001b[0mfilled\u001b[0m\u001b[0;34m(\u001b[0m\u001b[0mnp\u001b[0m\u001b[0;34m.\u001b[0m\u001b[0mnan\u001b[0m\u001b[0;34m)\u001b[0m\u001b[0;34m\u001b[0m\u001b[0;34m\u001b[0m\u001b[0m\n\u001b[1;32m   1316\u001b[0m     \u001b[0;32melse\u001b[0m\u001b[0;34m:\u001b[0m\u001b[0;34m\u001b[0m\u001b[0;34m\u001b[0m\u001b[0m\n\u001b[0;32m-> 1317\u001b[0;31m         \u001b[0;32mreturn\u001b[0m \u001b[0mnp\u001b[0m\u001b[0;34m.\u001b[0m\u001b[0masarray\u001b[0m\u001b[0;34m(\u001b[0m\u001b[0mx\u001b[0m\u001b[0;34m,\u001b[0m \u001b[0mfloat\u001b[0m\u001b[0;34m)\u001b[0m\u001b[0;34m\u001b[0m\u001b[0;34m\u001b[0m\u001b[0m\n\u001b[0m\u001b[1;32m   1318\u001b[0m \u001b[0;34m\u001b[0m\u001b[0m\n\u001b[1;32m   1319\u001b[0m \u001b[0;34m\u001b[0m\u001b[0m\n",
            "\u001b[0;31mKeyboardInterrupt\u001b[0m: "
          ]
        },
        {
          "output_type": "display_data",
          "data": {
            "text/plain": [
              "<Figure size 1440x360 with 0 Axes>"
            ]
          },
          "metadata": {}
        }
      ]
    },
    {
      "cell_type": "markdown",
      "source": [
        "### Test the agent"
      ],
      "metadata": {
        "id": "WoZsHTkFl7Jq"
      }
    },
    {
      "cell_type": "code",
      "source": [
        "current_model.test()"
      ],
      "metadata": {
        "id": "YIVpEbfR4pVO",
        "colab": {
          "base_uri": "https://localhost:8080/",
          "height": 472
        },
        "outputId": "2f414380-34bc-47a4-d0fa-a7f4b5d75a25"
      },
      "execution_count": null,
      "outputs": [
        {
          "output_type": "stream",
          "name": "stderr",
          "text": [
            "/usr/local/lib/python3.8/dist-packages/gym/wrappers/monitoring/video_recorder.py:78: DeprecationWarning: \u001b[33mWARN: Recording ability for environment CartPole-v0 initialized with `render_mode=None` is marked as deprecated and will be removed in the future.\u001b[0m\n",
            "  logger.deprecation(\n",
            "/usr/local/lib/python3.8/dist-packages/gym/core.py:43: DeprecationWarning: \u001b[33mWARN: The argument mode in render method is deprecated; use render_mode during environment initialization instead.\n",
            "See here for more information: https://www.gymlibrary.ml/content/api/\u001b[0m\n",
            "  deprecation(\n",
            "/usr/local/lib/python3.8/dist-packages/gym/core.py:43: DeprecationWarning: \u001b[33mWARN: The argument mode in render method is deprecated; use render_mode during environment initialization instead.\n",
            "See here for more information: https://www.gymlibrary.ml/content/api/\u001b[0m\n",
            "  deprecation(\n"
          ]
        },
        {
          "output_type": "stream",
          "name": "stdout",
          "text": [
            "rew:  200.0\n",
            "files:  ['videos/rl-video-episode-0.mp4']\n"
          ]
        },
        {
          "output_type": "display_data",
          "data": {
            "text/plain": [
              "<IPython.core.display.HTML object>"
            ],
            "text/html": [
              "\n",
              "        <video width=\"320\" height=\"240\" alt=\"test\" controls>\n",
              "        <source src=\"data:video/mp4;base64,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\" type=\"video/mp4\"/>\n",
              "        </video>\n",
              "        "
            ]
          },
          "metadata": {}
        },
        {
          "output_type": "stream",
          "name": "stdout",
          "text": [
            "Played: videos/rl-video-episode-0.mp4\n"
          ]
        }
      ]
    }
  ],
  "metadata": {
    "kernelspec": {
      "display_name": "Python 3",
      "language": "python",
      "name": "python3"
    },
    "language_info": {
      "codemirror_mode": {
        "name": "ipython",
        "version": 3
      },
      "file_extension": ".py",
      "mimetype": "text/x-python",
      "name": "python",
      "nbconvert_exporter": "python",
      "pygments_lexer": "ipython3",
      "version": "3.6.8"
    },
    "colab": {
      "provenance": []
    },
    "gpuClass": "standard"
  },
  "nbformat": 4,
  "nbformat_minor": 0
}