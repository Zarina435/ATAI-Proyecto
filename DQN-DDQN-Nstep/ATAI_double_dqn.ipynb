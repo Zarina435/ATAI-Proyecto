{
  "cells": [
    {
      "cell_type": "markdown",
      "source": [
        "#  **Double Deep Q Network**\n",
        "Este collab es una modificación del cuaderno facilitado en clase: https://colab.research.google.com/drive/1rIYLqNBzAa6nOdCcJzHHngOYoVCSgZvD?usp=sharing\n",
        "\n",
        "Contiene la implementación de la mejora Double Deep Q Network.\n",
        "- David Bernal Gómez\n",
        "- Sara Martín Aramburu\n",
        "- Fernando Pérez Sanz\n",
        "- Ander Larrinaga Raya"
      ],
      "metadata": {
        "id": "P1orjSBFsa3x"
      }
    },
    {
      "cell_type": "markdown",
      "source": [
        "# **Initialization**"
      ],
      "metadata": {
        "id": "7p-FkdaHOISM"
      }
    },
    {
      "cell_type": "markdown",
      "source": [
        "## Install dependencies"
      ],
      "metadata": {
        "id": "VzfboO1QP_Uw"
      }
    },
    {
      "cell_type": "code",
      "source": [
        "import sys\n",
        "IN_COLAB = \"google.colab\" in sys.modules\n",
        "\n",
        "if IN_COLAB:\n",
        "    !apt-get update\n",
        "    !apt install python-opengl\n",
        "    !apt install ffmpeg\n",
        "    !apt install xvfb\n",
        "    !pip install PyVirtualDisplay==3.0\n",
        "    !pip install gym[classic_control]\n",
        "    #!pip install gym==0.21.0\n",
        "    from pyvirtualdisplay import Display\n",
        "    \n",
        "    # Start virtual display\n",
        "    dis = Display(visible=0, size=(400, 400))\n",
        "    dis.start()"
      ],
      "metadata": {
        "id": "mt4fLrG2Puzd",
        "colab": {
          "base_uri": "https://localhost:8080/"
        },
        "outputId": "9c875896-3721-4fdc-fd7f-54181b8a48dd"
      },
      "execution_count": null,
      "outputs": [
        {
          "output_type": "stream",
          "name": "stdout",
          "text": [
            "\r0% [Working]\r            \rHit:1 https://cloud.r-project.org/bin/linux/ubuntu bionic-cran40/ InRelease\n",
            "\r0% [Connecting to archive.ubuntu.com (185.125.190.39)] [Connecting to security.\r0% [1 InRelease gpgv 3,626 B] [Connecting to archive.ubuntu.com (185.125.190.39\r                                                                               \rIgn:2 https://developer.download.nvidia.com/compute/machine-learning/repos/ubuntu1804/x86_64  InRelease\n",
            "\r0% [1 InRelease gpgv 3,626 B] [Connecting to archive.ubuntu.com (185.125.190.39\r                                                                               \rHit:3 https://developer.download.nvidia.com/compute/cuda/repos/ubuntu1804/x86_64  InRelease\n",
            "Hit:4 https://developer.download.nvidia.com/compute/machine-learning/repos/ubuntu1804/x86_64  Release\n",
            "Hit:5 http://archive.ubuntu.com/ubuntu bionic InRelease\n",
            "Hit:6 http://security.ubuntu.com/ubuntu bionic-security InRelease\n",
            "Hit:7 http://ppa.launchpad.net/c2d4u.team/c2d4u4.0+/ubuntu bionic InRelease\n",
            "Hit:8 http://archive.ubuntu.com/ubuntu bionic-updates InRelease\n",
            "Hit:9 http://archive.ubuntu.com/ubuntu bionic-backports InRelease\n",
            "Hit:10 http://ppa.launchpad.net/cran/libgit2/ubuntu bionic InRelease\n",
            "Hit:11 http://ppa.launchpad.net/deadsnakes/ppa/ubuntu bionic InRelease\n",
            "Hit:13 http://ppa.launchpad.net/graphics-drivers/ppa/ubuntu bionic InRelease\n",
            "Reading package lists... Done\n",
            "Reading package lists... Done\n",
            "Building dependency tree       \n",
            "Reading state information... Done\n",
            "python-opengl is already the newest version (3.1.0+dfsg-1).\n",
            "The following package was automatically installed and is no longer required:\n",
            "  libnvidia-common-460\n",
            "Use 'apt autoremove' to remove it.\n",
            "0 upgraded, 0 newly installed, 0 to remove and 20 not upgraded.\n",
            "Reading package lists... Done\n",
            "Building dependency tree       \n",
            "Reading state information... Done\n",
            "ffmpeg is already the newest version (7:3.4.11-0ubuntu0.1).\n",
            "The following package was automatically installed and is no longer required:\n",
            "  libnvidia-common-460\n",
            "Use 'apt autoremove' to remove it.\n",
            "0 upgraded, 0 newly installed, 0 to remove and 20 not upgraded.\n",
            "Reading package lists... Done\n",
            "Building dependency tree       \n",
            "Reading state information... Done\n",
            "xvfb is already the newest version (2:1.19.6-1ubuntu4.13).\n",
            "The following package was automatically installed and is no longer required:\n",
            "  libnvidia-common-460\n",
            "Use 'apt autoremove' to remove it.\n",
            "0 upgraded, 0 newly installed, 0 to remove and 20 not upgraded.\n",
            "Looking in indexes: https://pypi.org/simple, https://us-python.pkg.dev/colab-wheels/public/simple/\n",
            "Requirement already satisfied: PyVirtualDisplay==3.0 in /usr/local/lib/python3.8/dist-packages (3.0)\n",
            "Looking in indexes: https://pypi.org/simple, https://us-python.pkg.dev/colab-wheels/public/simple/\n",
            "Requirement already satisfied: gym[classic_control] in /usr/local/lib/python3.8/dist-packages (0.25.2)\n",
            "Requirement already satisfied: gym-notices>=0.0.4 in /usr/local/lib/python3.8/dist-packages (from gym[classic_control]) (0.0.8)\n",
            "Requirement already satisfied: importlib-metadata>=4.8.0 in /usr/local/lib/python3.8/dist-packages (from gym[classic_control]) (5.1.0)\n",
            "Requirement already satisfied: cloudpickle>=1.2.0 in /usr/local/lib/python3.8/dist-packages (from gym[classic_control]) (1.5.0)\n",
            "Requirement already satisfied: numpy>=1.18.0 in /usr/local/lib/python3.8/dist-packages (from gym[classic_control]) (1.21.6)\n",
            "Requirement already satisfied: pygame==2.1.0 in /usr/local/lib/python3.8/dist-packages (from gym[classic_control]) (2.1.0)\n",
            "Requirement already satisfied: zipp>=0.5 in /usr/local/lib/python3.8/dist-packages (from importlib-metadata>=4.8.0->gym[classic_control]) (3.11.0)\n"
          ]
        }
      ]
    },
    {
      "cell_type": "markdown",
      "source": [
        "## Import Dependencies"
      ],
      "metadata": {
        "id": "sHmjyfGJOTsV"
      }
    },
    {
      "cell_type": "code",
      "execution_count": null,
      "metadata": {
        "id": "GJ7ASlptVUES"
      },
      "outputs": [],
      "source": [
        "import os\n",
        "from typing import Dict, List, Tuple\n",
        "import math, random\n",
        "\n",
        "import gym\n",
        "import numpy as np\n",
        "import matplotlib.pyplot as plt\n",
        "%matplotlib inline\n",
        "\n",
        "\n",
        "import base64\n",
        "import glob\n",
        "import io\n",
        "import os\n",
        "\n",
        "\n",
        "import torch\n",
        "import torch.nn as nn\n",
        "import torch.optim as optim\n",
        "import torch.autograd as autograd \n",
        "import torch.nn.functional as F\n",
        "\n",
        "\n",
        "from IPython.display import HTML, display, clear_output\n",
        "\n"
      ]
    },
    {
      "cell_type": "markdown",
      "source": [
        "#**Implementation** "
      ],
      "metadata": {
        "id": "Eqs9Zs6rOZhy"
      }
    },
    {
      "cell_type": "markdown",
      "source": [
        "## **Show recorded video**\n",
        "The following functions are used in order to show in a video the obtained results"
      ],
      "metadata": {
        "id": "GaC0tjzZS6hG"
      }
    },
    {
      "cell_type": "code",
      "execution_count": null,
      "metadata": {
        "id": "4qPbPwvooax1"
      },
      "outputs": [],
      "source": [
        "def ipython_show_video(path: str) -> None:\n",
        "    \"\"\"Show a video at `path` within IPython Notebook.\"\"\"\n",
        "    if not os.path.isfile(path):\n",
        "        raise NameError(\"Cannot access: {}\".format(path))\n",
        "\n",
        "    video = io.open(path, \"r+b\").read()\n",
        "    encoded = base64.b64encode(video)\n",
        "\n",
        "    display(HTML(\n",
        "        data=\"\"\"\n",
        "        <video width=\"320\" height=\"240\" alt=\"test\" controls>\n",
        "        <source src=\"data:video/mp4;base64,{0}\" type=\"video/mp4\"/>\n",
        "        </video>\n",
        "        \"\"\".format(encoded.decode(\"ascii\"))\n",
        "    ))\n",
        "\n",
        "def remove_videos (video_folder: str):\n",
        "    list_of_files = glob.glob(os.path.join(video_folder, \"*.mp4\"))\n",
        "    for video in list_of_files:\n",
        "      try:\n",
        "          os.remove(video)\n",
        "      except:\n",
        "          print(\"Error while deleting file : \", video)\n",
        "\n",
        "def show_latest_video(video_folder: str) -> str:\n",
        "    \"\"\"Show the most recently recorded video from video folder.\"\"\"\n",
        "    list_of_files = glob.glob(os.path.join(video_folder, \"*.mp4\"))\n",
        "    print(\"files: \", list_of_files )\n",
        "    latest_file = max(list_of_files, key=os.path.getctime)\n",
        "    ipython_show_video(latest_file)\n",
        "    return latest_file\n",
        "\n",
        "def show_all_videos(video_folder: str) -> str:\n",
        "    \"\"\"Show all the videos recorded.\"\"\"\n",
        "    list_of_files = glob.glob(os.path.join(video_folder, \"*.mp4\"))\n",
        "    print(\"files: \", list_of_files )\n",
        "    for video in list_of_files:\n",
        "      ipython_show_video(video)\n",
        "    print(\"Played:\", video)\n"
      ]
    },
    {
      "cell_type": "markdown",
      "metadata": {
        "id": "PZzMzzVmIbKz"
      },
      "source": [
        "## Use Cuda"
      ]
    },
    {
      "cell_type": "code",
      "execution_count": null,
      "metadata": {
        "id": "HYyjk9ihIbK0"
      },
      "outputs": [],
      "source": [
        "USE_CUDA = torch.cuda.is_available()\n",
        "Variable = lambda *args, **kwargs: autograd.Variable(*args, **kwargs).cuda() if USE_CUDA else autograd.Variable(*args, **kwargs)"
      ]
    },
    {
      "cell_type": "markdown",
      "metadata": {
        "id": "TnjlYrW5IbK0"
      },
      "source": [
        "## Replay Buffer"
      ]
    },
    {
      "cell_type": "code",
      "source": [
        "class ReplayBuffer(object):\n",
        "    def __init__(self, capacity):\n",
        "        self.capacity   = capacity\n",
        "        self.buffer     = []\n",
        "        self.pos        = 0\n",
        "    \n",
        "    def push(self, state, action, reward, next_state, done):\n",
        "        state      = np.expand_dims(state, 0)\n",
        "        next_state = np.expand_dims(next_state, 0)\n",
        "                \n",
        "        if len(self.buffer) < self.capacity:\n",
        "            self.buffer.append((state, action, reward, next_state, done))\n",
        "        else:\n",
        "            self.buffer[self.pos] = (state, action, reward, next_state, done)\n",
        "        \n",
        "        self.pos = (self.pos + 1) % self.capacity\n",
        "    \n",
        "    # HELP:\n",
        "    # It can be helpful to use the following sequence:  \n",
        "    #   indices = random.choices(range(0,len(self.buffer)), weights=probabilities, k=batch_size )\n",
        "    # It samples \"k\" elements following \"probabilities\" distribution and returns the indices of the sampled elements\n",
        "    # Instead of this sequence you can also use numpy tools\n",
        "    def sample(self, batch_size):\n",
        "        state, action, reward, next_state, done = zip(*random.sample(self.buffer, batch_size))\n",
        "        return np.concatenate(state), action, reward, np.concatenate(next_state), done\n",
        "\n",
        "\n",
        "    def __len__(self):\n",
        "        return len(self.buffer)"
      ],
      "metadata": {
        "id": "WsoD9U8L-auG"
      },
      "execution_count": null,
      "outputs": []
    },
    {
      "cell_type": "markdown",
      "source": [
        "### Testing Replay Buffer"
      ],
      "metadata": {
        "id": "IyAYT95VwIvl"
      }
    },
    {
      "cell_type": "code",
      "source": [
        "# We build a Replay buffer for 5 elements\n",
        "rB = ReplayBuffer(5)\n",
        "\n",
        "# We are going to add 8 elements\n",
        "for i in range(8):\n",
        "  rB.push(i,i,i,i,i)\n",
        "print(\"We add 8 elements but there are only \", len(rB), \"\\nrB: \", rB.buffer)\n",
        "\n",
        "# We are going to add another value\n",
        "rB.push(10,10,10,10,10)\n",
        "print(\"\\nAfter we add a new element the buffer is: \", rB.buffer)\n",
        "\n",
        "# No we are going to see are sampled some experiences\n",
        "mini_batch = rB.sample(2)\n",
        "print(\"\\n The sampled elemenst: \", mini_batch )\n",
        "\n",
        "mini_batch = rB.sample(3)\n",
        "print(\"\\n The sampled elemenst: \", mini_batch )\n"
      ],
      "metadata": {
        "id": "B47-W5kjrEeA",
        "colab": {
          "base_uri": "https://localhost:8080/"
        },
        "outputId": "15f0ba4f-00d4-43b5-9da1-6629910ae4a7"
      },
      "execution_count": null,
      "outputs": [
        {
          "output_type": "stream",
          "name": "stdout",
          "text": [
            "We add 8 elements but there are only  5 \n",
            "rB:  [(array([5]), 5, 5, array([5]), 5), (array([6]), 6, 6, array([6]), 6), (array([7]), 7, 7, array([7]), 7), (array([3]), 3, 3, array([3]), 3), (array([4]), 4, 4, array([4]), 4)]\n",
            "\n",
            "After we add a new element the buffer is:  [(array([5]), 5, 5, array([5]), 5), (array([6]), 6, 6, array([6]), 6), (array([7]), 7, 7, array([7]), 7), (array([10]), 10, 10, array([10]), 10), (array([4]), 4, 4, array([4]), 4)]\n",
            "\n",
            " The sampled elemenst:  (array([6, 4]), (6, 4), (6, 4), array([6, 4]), (6, 4))\n",
            "\n",
            " The sampled elemenst:  (array([10,  6,  5]), (10, 6, 5), (10, 6, 5), array([10,  6,  5]), (10, 6, 5))\n"
          ]
        }
      ]
    },
    {
      "cell_type": "markdown",
      "metadata": {
        "id": "voxkftv1IbK2"
      },
      "source": [
        "## Cart Pole Environment"
      ]
    },
    {
      "cell_type": "code",
      "execution_count": null,
      "metadata": {
        "id": "9EHbFDp6IbK4",
        "colab": {
          "base_uri": "https://localhost:8080/"
        },
        "outputId": "ab7aa57c-b6a5-4b02-837c-c9f9887db9b9"
      },
      "outputs": [
        {
          "output_type": "stream",
          "name": "stderr",
          "text": [
            "/usr/local/lib/python3.8/dist-packages/gym/envs/registration.py:593: UserWarning: \u001b[33mWARN: The environment CartPole-v0 is out of date. You should consider upgrading to version `v1`.\u001b[0m\n",
            "  logger.warn(\n",
            "/usr/local/lib/python3.8/dist-packages/gym/core.py:317: DeprecationWarning: \u001b[33mWARN: Initializing wrapper in old step API which returns one bool instead of two. It is recommended to set `new_step_api=True` to use new step API. This will be the default behaviour in future.\u001b[0m\n",
            "  deprecation(\n",
            "/usr/local/lib/python3.8/dist-packages/gym/wrappers/step_api_compatibility.py:39: DeprecationWarning: \u001b[33mWARN: Initializing environment in old step API which returns one bool instead of two. It is recommended to set `new_step_api=True` to use new step API. This will be the default behaviour in future.\u001b[0m\n",
            "  deprecation(\n"
          ]
        }
      ],
      "source": [
        "env_id = \"CartPole-v0\"\n",
        "env = gym.make(env_id)"
      ]
    },
    {
      "cell_type": "code",
      "execution_count": null,
      "metadata": {
        "id": "pZySBOH5IbLA"
      },
      "outputs": [],
      "source": [
        "def plot(frame_idx, rewards):\n",
        "    clear_output(True)\n",
        "    plt.figure(figsize=(20,5))\n",
        "    plt.subplot(131)\n",
        "    plt.title('frame %s. reward: %s' % (frame_idx, np.mean(rewards[-10:])))\n",
        "    plt.plot(rewards)\n",
        "    plt.show()"
      ]
    },
    {
      "cell_type": "markdown",
      "metadata": {
        "id": "h7aZ3bYgIbK4"
      },
      "source": [
        "## Epsilon greedy exploration\n",
        "Epsilon value is dynamic. It starts with 1.0 value (exploration) and little by little it is going to decay until 0.01 (exploitation)"
      ]
    },
    {
      "cell_type": "code",
      "execution_count": null,
      "metadata": {
        "id": "hZCk-i69IbK5"
      },
      "outputs": [],
      "source": [
        "epsilon_start = 1.0\n",
        "epsilon_final = 0.01\n",
        "epsilon_decay = 500\n",
        "\n",
        "epsilon_by_frame = lambda frame_idx: epsilon_final + (epsilon_start - epsilon_final) * math.exp(-1. * frame_idx / epsilon_decay)"
      ]
    },
    {
      "cell_type": "code",
      "execution_count": null,
      "metadata": {
        "id": "DKVzXtD0IbK6",
        "colab": {
          "base_uri": "https://localhost:8080/",
          "height": 282
        },
        "outputId": "820432f2-ab7e-423b-94ca-2d52f889449f"
      },
      "outputs": [
        {
          "output_type": "execute_result",
          "data": {
            "text/plain": [
              "[<matplotlib.lines.Line2D at 0x7f28ec879580>]"
            ]
          },
          "metadata": {},
          "execution_count": 22
        },
        {
          "output_type": "display_data",
          "data": {
            "text/plain": [
              "<Figure size 432x288 with 1 Axes>"
            ],
            "image/png": "[encoded data removed]"
          },
          "metadata": {
            "needs_background": "light"
          }
        }
      ],
      "source": [
        "plt.plot([epsilon_by_frame(i) for i in range(10000)])"
      ]
    },
    {
      "cell_type": "markdown",
      "metadata": {
        "id": "c6A-SD0_IbK7"
      },
      "source": [
        "## Deep Q Network"
      ]
    },
    {
      "cell_type": "code",
      "source": [
        "class DQN(nn.Module):\n",
        "    def __init__(self, num_inputs, num_actions):\n",
        "        super(DQN, self).__init__()\n",
        "         \n",
        "        self.layers = nn.Sequential(\n",
        "            nn.Linear(num_inputs, 128),\n",
        "            nn.ReLU(),\n",
        "            nn.Linear(128, 128),\n",
        "            nn.ReLU(),\n",
        "            nn.Linear(128, num_actions)\n",
        "        )\n",
        "\n",
        "    # This method computes output Tensors from input Tensors. That is, given an state it returns an array with q(s,a) values for all actions\n",
        "    def forward(self, x):\n",
        "        return self.layers(x)\n",
        "\n",
        "  "
      ],
      "metadata": {
        "id": "0HB3GTmOisfH"
      },
      "execution_count": null,
      "outputs": []
    },
    {
      "cell_type": "code",
      "execution_count": null,
      "metadata": {
        "id": "p4vsG_e3IbK7"
      },
      "outputs": [],
      "source": [
        "from numpy.core.fromnumeric import argmax\n",
        "class Agent():\n",
        "    def __init__(self, env):\n",
        "        self.env = env\n",
        "        self.replay_buffer = ReplayBuffer(1000)\n",
        "        self.batch_size = 32\n",
        "        self.gamma = 0.99\n",
        "\n",
        "        self.model = DQN(self.env.observation_space.shape[0], self.env.action_space.n)\n",
        "\n",
        "        self.optimizer = optim.Adam(self.model.parameters())\n",
        "\n",
        "    # This method defines the epsilon value. It started with 1.0 and it decays until 0.01 value   \n",
        "    def get_epsilon_value(self, frame_idx):\n",
        "      epsilon_start = 1.0\n",
        "      epsilon_final = 0.01\n",
        "      epsilon_decay = 500\n",
        "       \n",
        "      epsilon = lambda frame_idx: epsilon_final + (epsilon_start - epsilon_final) * math.exp(-1. * frame_idx / epsilon_decay)\n",
        "      return epsilon(frame_idx)\n",
        "    \n",
        "    # Given a state and epsilon value, this method returns an action following epsilong-greedy\n",
        "    def act(self, state, epsilon):\n",
        "        if random.random() > epsilon:\n",
        "            state   = Variable(torch.FloatTensor(state).unsqueeze(0), requires_grad=False)\n",
        "            q_value = self.model.forward(state)\n",
        "            action  = q_value.max(1)[1].item()\n",
        "        else:\n",
        "            action = random.randrange(self.env.action_space.n)\n",
        "        return action\n",
        "\n",
        "    # Given a model, it copyes the current model on it. \n",
        "    def update_target(self, target_model):\n",
        "      target_model.load_state_dict(self.model.state_dict())\n",
        "\n",
        "    # This method updates the weights \n",
        "    # It is solved using tensors\n",
        "    def compute_td_loss(self, target_model):\n",
        "      state, action, reward, next_state, done = self.replay_buffer.sample(self.batch_size)\n",
        "\n",
        "      state      = Variable(torch.FloatTensor(np.float32(state)))\n",
        "      next_state = Variable(torch.FloatTensor(np.float32(next_state)))\n",
        "      action     = Variable(torch.LongTensor(action))\n",
        "      reward     = Variable(torch.FloatTensor(reward))\n",
        "      done       = Variable(torch.FloatTensor(done))\n",
        "      \n",
        "      q_values      = self.model.forward(state)\n",
        "      next_q_values = self.model.forward(next_state)\n",
        "      next_q_state_values = target_model(next_state) \n",
        "\n",
        "      q_value       = q_values.gather(1, action.unsqueeze(1)).squeeze(1) \n",
        "      next_q_value = next_q_state_values.gather(1, torch.max(next_q_values, 1)[1].unsqueeze(1)).squeeze(1)\n",
        "      #next_q_value = next_q_state_values.max(1)[0]\n",
        "      expected_q_value = reward + self.gamma * next_q_value * (1 - done)\n",
        "      \n",
        "      loss = (q_value - Variable(expected_q_value.data)).pow(2).mean()\n",
        "          \n",
        "      self.optimizer.zero_grad()\n",
        "      loss.backward()\n",
        "      self.optimizer.step()\n",
        "      \n",
        "      return loss\n",
        "\n",
        "    # TODO\n",
        "    # This method updates the weights \n",
        "    def compute_td_loss_our(self, target_model):\n",
        "      # Obtain the mini_batch to train the weights.\n",
        "      # state, action, reward, next_state, done are numpy arrays, each position corresponds to one experience\n",
        "      state, action, reward, next_state, done = self.replay_buffer.sample(self.batch_size)\n",
        "\n",
        "      # Convert those numpy arrays to tensors. It is neccesary to work with Pytorch\n",
        "      states_tensor      = Variable(torch.FloatTensor(np.float32(state)))       # current_state S\n",
        "      actions_tensor     = Variable(torch.LongTensor(action))                   # action A\n",
        "      next_states_tensor = Variable(torch.FloatTensor(np.float32(next_state)))  # next_state S'\n",
        "\n",
        "      \n",
        "      # The approximated q_values of each current state \n",
        "      q_values_tensor      = self.model.forward(states_tensor) # Q(S, A, W)\n",
        "\n",
        "      # The approximated q_values of each next state calculated with the current_model and the target_model \n",
        "      next_q_values_current_model_tensor = self.model.forward(next_states_tensor) # Q(S', A', W)\n",
        "      next_q_values_target_model_tensor = target_model.forward(next_states_tensor) # Q(S', A', W')\n",
        "\n",
        "      # Convert the approximated next_states' q_values to numpy array. We are going to work with these arrays\n",
        "      next_q_values_current_model = next_q_values_current_model_tensor.detach().numpy(); \n",
        "      next_q_values_target_model = next_q_values_target_model_tensor.detach().numpy(); \n",
        "      expected_q_value = np.zeros(self.batch_size)\n",
        "      \n",
        "      # TODO\n",
        "      # input: next_q_values_current_model is a numpy array. In each element are stored all the approximated q values for the next state calculated with the current_model\n",
        "      # input: next_q_values_target_model is a numpy array. In each element are stored all the approximated q values for the next state calculated with the target_model\n",
        "      # input: reward is a numpy array with the rewards obtained in each experience of the mini_batch (batch_size)\n",
        "      # output: expected_q_value is a numpy array. You have to store in each position the target value of each experience using next_q_values_target_model and reward elements \n",
        "      # note: all these numpy arrays has the same length: the length of the mini_batch (batch_size)\n",
        "      #\n",
        "      # for all the elements on the batch size\n",
        "      #  calculate the target expected value and store in expected_q_value \n",
        "\n",
        "\n",
        "      #**********COMENTARIOS DAVID**********\n",
        "      # usaremos:\n",
        "      # - next_q_values_current_model\n",
        "      # - next_q_values_target_model\n",
        "      # current (self en train)  = Q(S', A' , W) (W son las W nuevas, que elegiran la accion)\n",
        "      # target (target en train) = Q(S', A', W') (W' son las W viejas, que evaluaran la accion)\n",
        "      # en double q learning se elegia aleatorio, aqui no: la antigua evalua, la nueva elige\n",
        "\n",
        "      for i in range(self.batch_size):      \n",
        "        next_q_value = 0\n",
        "        if not(done[i]):\n",
        "          #next_q_value = max(next_q_values_target_model[i])\n",
        "\n",
        "          # with current model\n",
        "          #next_q_value = max(next_q_values_current_model[i])\n",
        "\n",
        "          #with current model action and target model approximation\n",
        "\n",
        "          next_action = np.argmax(next_q_values_current_model[i])       # elegimos la accion con mayor q value (con el current model)\n",
        "          next_q_value = next_q_values_target_model[i][next_action]     # obtenemos el q value (con el target model) de la accion elegida\n",
        "\n",
        "        expected_q_value[i] = reward[i] + self.gamma*next_q_value\n",
        "\n",
        "      # END TODO\n",
        "\n",
        "      # Prepare data for the loss function\n",
        "      q_value = q_values_tensor.gather(1, actions_tensor.unsqueeze(1)).squeeze(1)\n",
        "      expected_q_values = torch.tensor(expected_q_value)\n",
        "\n",
        "      # Loss function: to know how good the weights are\n",
        "      lossMSE = nn.MSELoss()  \n",
        "      loss = lossMSE(q_value.float(), expected_q_values.float())\n",
        "\n",
        "      # Based on the results of the loss function, the weights are updated with gradient descent\n",
        "      self.optimizer.zero_grad()\n",
        "      loss.backward()\n",
        "      self.optimizer.step()\n",
        "      \n",
        "      return loss\n",
        "\n",
        "    # TODO\n",
        "    # Method to train the agent\n",
        "    def train(self):\n",
        "      num_frames = 25000\n",
        "      losses = []\n",
        "      all_rewards = []\n",
        "      episode_reward = 0\n",
        "      target_model  = DQN(self.env.observation_space.shape[0], self.env.action_space.n)\n",
        "\n",
        "      #DOS REDES:\n",
        "      # - target_model: anteriores (se actualiza cada ciertos espisodios)\n",
        "      # - self: actual (al cual le hacemos las actualizaciones)\n",
        "\n",
        "      state = self.env.reset()\n",
        "\n",
        "      # TODO\n",
        "      # replay buffer attribute is empty\n",
        "      # for each frame\n",
        "      #   get current epsilon\n",
        "      #   get action following epsilon greedy\n",
        "      #   get next_state and reward\n",
        "      #   add new experience to the replay buffer \n",
        "      #   update state\n",
        "      #   update episode total reward\n",
        "      #   if done\n",
        "      #     reset environment\n",
        "      #     append the episode total reward to all_rewards array\n",
        "      #     set episode total reward to 0\n",
        "      #   if experience replay has more elements than batch_size\n",
        "      #     update the weights\n",
        "      #   every 100 frames update the target model\n",
        "\n",
        "      for frame_idx in range(1, num_frames + 1):\n",
        "          epsilon = self.get_epsilon_value(frame_idx)\n",
        "\n",
        "          action = self.act(state, epsilon)\n",
        "          \n",
        "          next_state, reward, done, _ = self.env.step(action)\n",
        "          self.replay_buffer.push(state, action, reward, next_state, done)\n",
        "          \n",
        "          state = next_state\n",
        "          episode_reward += reward\n",
        "          \n",
        "          if done:\n",
        "              state = self.env.reset()\n",
        "              all_rewards.append(episode_reward)\n",
        "              episode_reward = 0              \n",
        "              \n",
        "          if len(current_model.replay_buffer) > self.batch_size:\n",
        "              loss = self.compute_td_loss_our(target_model)\n",
        "              losses.append(loss.data)\n",
        "\n",
        "          # to visualize how the agent is learning    \n",
        "          if frame_idx % 200 == 0:\n",
        "              plot(frame_idx, all_rewards)\n",
        "\n",
        "              plt.figure(figsize=(20,5))\n",
        "              plt.subplot(131)\n",
        "              plt.title(\"loss a lo largo del tiempo\")\n",
        "              plt.plot(losses)\n",
        "              plt.show()\n",
        "              \n",
        "          if frame_idx % 100 == 0:\n",
        "              self.update_target(target_model)\n",
        "\n",
        "      print(\"Recompensa media en el entrenamiento (con las recompensas de cada estado final): \", sum(all_rewards)/len(all_rewards))\n",
        "\n",
        "    # This method runs one episode and generates a video to observe the result\n",
        "    def test(self):\n",
        "        video_folder=\"videos\"\n",
        "\n",
        "        remove_videos(video_folder=video_folder)\n",
        "\n",
        "        # we are going to work over envVideo.\n",
        "        envVideo = gym.wrappers.RecordVideo(self.env, video_folder=video_folder)\n",
        "                \n",
        "        done = False #It is used to control if the episode is finished, if it is finished the environment must be reset\n",
        "        state = envVideo.reset()\n",
        "\n",
        "        total_reward = 0\n",
        "        while not(done):          \n",
        "            action = self.act(state, 0)\n",
        "            next_state, reward, done, _ = envVideo.step(action)\n",
        "            state = next_state\n",
        "            total_reward +=reward\n",
        "            if done:\n",
        "              break\n",
        "        envVideo.close()\n",
        "        print(\"rew: \", total_reward)\n",
        "        show_all_videos(video_folder=video_folder)\n",
        "        \n",
        "        "
      ]
    },
    {
      "cell_type": "markdown",
      "source": [
        "### Train the agent"
      ],
      "metadata": {
        "id": "ynxAQEvLmC6R"
      }
    },
    {
      "cell_type": "code",
      "source": [
        "current_model = Agent(env)\n",
        "current_model.train()"
      ],
      "metadata": {
        "id": "uQO4hDUn2vUa",
        "colab": {
          "base_uri": "https://localhost:8080/",
          "height": 655
        },
        "outputId": "d8f2aeb5-bc0f-4cc5-c808-5729502a51c5"
      },
      "execution_count": null,
      "outputs": [
        {
          "output_type": "display_data",
          "data": {
            "text/plain": [
              "<Figure size 1440x360 with 1 Axes>"
            ],
            "image/png": "[encoded data removed]"
          },
          "metadata": {
            "needs_background": "light"
          }
        },
        {
          "output_type": "display_data",
          "data": {
            "text/plain": [
              "<Figure size 1440x360 with 1 Axes>"
            ],
            "image/png": "[encoded data removed]"
          },
          "metadata": {
            "needs_background": "light"
          }
        }
      ]
    },
    {
      "cell_type": "markdown",
      "source": [
        "### Test the agent"
      ],
      "metadata": {
        "id": "WoZsHTkFl7Jq"
      }
    },
    {
      "cell_type": "code",
      "source": [
        "current_model.test()"
      ],
      "metadata": {
        "id": "YIVpEbfR4pVO",
        "colab": {
          "base_uri": "https://localhost:8080/",
          "height": 504
        },
        "outputId": "848ac90b-0a5a-41ae-ea1e-c3608f506d77"
      },
      "execution_count": null,
      "outputs": [
        {
          "output_type": "stream",
          "name": "stderr",
          "text": [
            "/usr/local/lib/python3.8/dist-packages/gym/core.py:317: DeprecationWarning: \u001b[33mWARN: Initializing wrapper in old step API which returns one bool instead of two. It is recommended to set `new_step_api=True` to use new step API. This will be the default behaviour in future.\u001b[0m\n",
            "  deprecation(\n",
            "/usr/local/lib/python3.8/dist-packages/gym/wrappers/record_video.py:78: UserWarning: \u001b[33mWARN: Overwriting existing videos at /content/videos folder (try specifying a different `video_folder` for the `RecordVideo` wrapper if this is not desired)\u001b[0m\n",
            "  logger.warn(\n",
            "/usr/local/lib/python3.8/dist-packages/gym/wrappers/monitoring/video_recorder.py:78: DeprecationWarning: \u001b[33mWARN: Recording ability for environment CartPole-v0 initialized with `render_mode=None` is marked as deprecated and will be removed in the future.\u001b[0m\n",
            "  logger.deprecation(\n",
            "/usr/local/lib/python3.8/dist-packages/gym/core.py:43: DeprecationWarning: \u001b[33mWARN: The argument mode in render method is deprecated; use render_mode during environment initialization instead.\n",
            "See here for more information: https://www.gymlibrary.ml/content/api/\u001b[0m\n",
            "  deprecation(\n"
          ]
        },
        {
          "output_type": "stream",
          "name": "stdout",
          "text": [
            "rew:  149.0\n",
            "files:  ['videos/rl-video-episode-0.mp4']\n"
          ]
        },
        {
          "output_type": "display_data",
          "data": {
            "text/plain": [
              "<IPython.core.display.HTML object>"
            ],
            "text/html": [
              "\n",
              "        <video width=\"320\" height=\"240\" alt=\"test\" controls>\n",
              "        <source src=\"data:video/mp4;base64,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\" type=\"video/mp4\"/>\n",
              "        </video>\n",
              "        "
            ]
          },
          "metadata": {}
        },
        {
          "output_type": "stream",
          "name": "stdout",
          "text": [
            "Played: videos/rl-video-episode-0.mp4\n"
          ]
        }
      ]
    }
  ],
  "metadata": {
    "kernelspec": {
      "display_name": "Python 3",
      "language": "python",
      "name": "python3"
    },
    "language_info": {
      "codemirror_mode": {
        "name": "ipython",
        "version": 3
      },
      "file_extension": ".py",
      "mimetype": "text/x-python",
      "name": "python",
      "nbconvert_exporter": "python",
      "pygments_lexer": "ipython3",
      "version": "3.6.8"
    },
    "colab": {
      "provenance": [],
      "collapsed_sections": [
        "sHmjyfGJOTsV"
      ]
    },
    "gpuClass": "standard"
  },
  "nbformat": 4,
  "nbformat_minor": 0
}