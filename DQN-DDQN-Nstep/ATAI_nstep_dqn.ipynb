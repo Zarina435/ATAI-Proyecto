{
  "cells": [
    {
      "cell_type": "markdown",
      "metadata": {
        "id": "P1orjSBFsa3x"
      },
      "source": [
        "#  **N-step Deep Q Network**\n",
        "Este collab es una modificación del cuaderno facilitado en clase: https://colab.research.google.com/drive/1rIYLqNBzAa6nOdCcJzHHngOYoVCSgZvD?usp=sharing\n",
        "\n",
        "Contiene la implementación de la mejora N-step Q Network.\n",
        "\n",
        "- David Bernal Gómez\n",
        "- Sara Martín Aramburu\n",
        "- Fernando Pérez Sanz\n",
        "- Ander Larrinaga Raya"
      ]
    },
    {
      "cell_type": "markdown",
      "metadata": {
        "id": "7p-FkdaHOISM"
      },
      "source": [
        "# **Initialization**"
      ]
    },
    {
      "cell_type": "markdown",
      "metadata": {
        "id": "VzfboO1QP_Uw"
      },
      "source": [
        "## Install dependencies"
      ]
    },
    {
      "cell_type": "code",
      "execution_count": null,
      "metadata": {
        "colab": {
          "base_uri": "https://localhost:8080/"
        },
        "id": "mt4fLrG2Puzd",
        "outputId": "50a2eb8d-5813-4544-8082-887d493fbbe3"
      },
      "outputs": [
        {
          "output_type": "stream",
          "name": "stdout",
          "text": [
            "\r0% [Working]\r            \rHit:1 https://cloud.r-project.org/bin/linux/ubuntu bionic-cran40/ InRelease\n",
            "\r0% [Connecting to archive.ubuntu.com (185.125.190.36)] [Waiting for headers] [W\r0% [1 InRelease gpgv 3,626 B] [Connecting to archive.ubuntu.com (185.125.190.36\r                                                                               \rHit:2 http://security.ubuntu.com/ubuntu bionic-security InRelease\n",
            "\r0% [1 InRelease gpgv 3,626 B] [Waiting for headers] [Waiting for headers] [Wait\r                                                                               \rIgn:3 https://developer.download.nvidia.com/compute/machine-learning/repos/ubuntu1804/x86_64  InRelease\n",
            "\r0% [1 InRelease gpgv 3,626 B] [Waiting for headers] [Waiting for headers] [Wait\r                                                                               \rHit:4 https://developer.download.nvidia.com/compute/cuda/repos/ubuntu1804/x86_64  InRelease\n",
            "\r                                                                               \r0% [1 InRelease gpgv 3,626 B] [Waiting for headers] [Waiting for headers]\r                                                                         \rHit:5 http://ppa.launchpad.net/c2d4u.team/c2d4u4.0+/ubuntu bionic InRelease\n",
            "\r0% [1 InRelease gpgv 3,626 B] [Waiting for headers] [Waiting for headers] [Conn\r                                                                               \rHit:6 https://developer.download.nvidia.com/compute/machine-learning/repos/ubuntu1804/x86_64  Release\n",
            "Hit:7 http://archive.ubuntu.com/ubuntu bionic InRelease\n",
            "Hit:8 http://archive.ubuntu.com/ubuntu bionic-updates InRelease\n",
            "Hit:9 http://ppa.launchpad.net/cran/libgit2/ubuntu bionic InRelease\n",
            "Hit:10 http://archive.ubuntu.com/ubuntu bionic-backports InRelease\n",
            "Hit:11 http://ppa.launchpad.net/deadsnakes/ppa/ubuntu bionic InRelease\n",
            "Hit:12 http://ppa.launchpad.net/graphics-drivers/ppa/ubuntu bionic InRelease\n",
            "Reading package lists... Done\n",
            "Reading package lists... Done\n",
            "Building dependency tree       \n",
            "Reading state information... Done\n",
            "python-opengl is already the newest version (3.1.0+dfsg-1).\n",
            "The following package was automatically installed and is no longer required:\n",
            "  libnvidia-common-460\n",
            "Use 'apt autoremove' to remove it.\n",
            "0 upgraded, 0 newly installed, 0 to remove and 20 not upgraded.\n",
            "Reading package lists... Done\n",
            "Building dependency tree       \n",
            "Reading state information... Done\n",
            "ffmpeg is already the newest version (7:3.4.11-0ubuntu0.1).\n",
            "The following package was automatically installed and is no longer required:\n",
            "  libnvidia-common-460\n",
            "Use 'apt autoremove' to remove it.\n",
            "0 upgraded, 0 newly installed, 0 to remove and 20 not upgraded.\n",
            "Reading package lists... Done\n",
            "Building dependency tree       \n",
            "Reading state information... Done\n",
            "xvfb is already the newest version (2:1.19.6-1ubuntu4.13).\n",
            "The following package was automatically installed and is no longer required:\n",
            "  libnvidia-common-460\n",
            "Use 'apt autoremove' to remove it.\n",
            "0 upgraded, 0 newly installed, 0 to remove and 20 not upgraded.\n",
            "Looking in indexes: https://pypi.org/simple, https://us-python.pkg.dev/colab-wheels/public/simple/\n",
            "Requirement already satisfied: PyVirtualDisplay==3.0 in /usr/local/lib/python3.8/dist-packages (3.0)\n",
            "Looking in indexes: https://pypi.org/simple, https://us-python.pkg.dev/colab-wheels/public/simple/\n",
            "Requirement already satisfied: gym[classic_control] in /usr/local/lib/python3.8/dist-packages (0.25.2)\n",
            "Requirement already satisfied: numpy>=1.18.0 in /usr/local/lib/python3.8/dist-packages (from gym[classic_control]) (1.21.6)\n",
            "Requirement already satisfied: gym-notices>=0.0.4 in /usr/local/lib/python3.8/dist-packages (from gym[classic_control]) (0.0.8)\n",
            "Requirement already satisfied: importlib-metadata>=4.8.0 in /usr/local/lib/python3.8/dist-packages (from gym[classic_control]) (5.1.0)\n",
            "Requirement already satisfied: cloudpickle>=1.2.0 in /usr/local/lib/python3.8/dist-packages (from gym[classic_control]) (1.5.0)\n",
            "Requirement already satisfied: pygame==2.1.0 in /usr/local/lib/python3.8/dist-packages (from gym[classic_control]) (2.1.0)\n",
            "Requirement already satisfied: zipp>=0.5 in /usr/local/lib/python3.8/dist-packages (from importlib-metadata>=4.8.0->gym[classic_control]) (3.11.0)\n"
          ]
        }
      ],
      "source": [
        "import sys\n",
        "IN_COLAB = \"google.colab\" in sys.modules\n",
        "\n",
        "if IN_COLAB:\n",
        "    !apt-get update\n",
        "    !apt install python-opengl\n",
        "    !apt install ffmpeg\n",
        "    !apt install xvfb\n",
        "    !pip install PyVirtualDisplay==3.0\n",
        "    !pip install gym[classic_control]\n",
        "    #!pip install gym==0.21.0\n",
        "    from pyvirtualdisplay import Display\n",
        "    \n",
        "    # Start virtual display\n",
        "    dis = Display(visible=0, size=(400, 400))\n",
        "    dis.start()"
      ]
    },
    {
      "cell_type": "markdown",
      "metadata": {
        "id": "sHmjyfGJOTsV"
      },
      "source": [
        "## Import Dependencies"
      ]
    },
    {
      "cell_type": "code",
      "execution_count": null,
      "metadata": {
        "id": "GJ7ASlptVUES"
      },
      "outputs": [],
      "source": [
        "import os\n",
        "from typing import Dict, List, Tuple\n",
        "import math, random\n",
        "\n",
        "import gym\n",
        "import numpy as np\n",
        "import matplotlib.pyplot as plt\n",
        "%matplotlib inline\n",
        "\n",
        "\n",
        "import base64\n",
        "import glob\n",
        "import io\n",
        "import os\n",
        "\n",
        "\n",
        "import torch\n",
        "import torch.nn as nn\n",
        "import torch.optim as optim\n",
        "import torch.autograd as autograd \n",
        "import torch.nn.functional as F\n",
        "\n",
        "\n",
        "from IPython.display import HTML, display, clear_output\n",
        "\n"
      ]
    },
    {
      "cell_type": "markdown",
      "metadata": {
        "id": "Eqs9Zs6rOZhy"
      },
      "source": [
        "#**Implementation** "
      ]
    },
    {
      "cell_type": "markdown",
      "metadata": {
        "id": "GaC0tjzZS6hG"
      },
      "source": [
        "## **Show recorded video**\n",
        "The following functions are used in order to show in a video the obtained results"
      ]
    },
    {
      "cell_type": "code",
      "execution_count": null,
      "metadata": {
        "id": "4qPbPwvooax1"
      },
      "outputs": [],
      "source": [
        "def ipython_show_video(path: str) -> None:\n",
        "    \"\"\"Show a video at `path` within IPython Notebook.\"\"\"\n",
        "    if not os.path.isfile(path):\n",
        "        raise NameError(\"Cannot access: {}\".format(path))\n",
        "\n",
        "    video = io.open(path, \"r+b\").read()\n",
        "    encoded = base64.b64encode(video)\n",
        "\n",
        "    display(HTML(\n",
        "        data=\"\"\"\n",
        "        <video width=\"320\" height=\"240\" alt=\"test\" controls>\n",
        "        <source src=\"data:video/mp4;base64,{0}\" type=\"video/mp4\"/>\n",
        "        </video>\n",
        "        \"\"\".format(encoded.decode(\"ascii\"))\n",
        "    ))\n",
        "\n",
        "def remove_videos (video_folder: str):\n",
        "    list_of_files = glob.glob(os.path.join(video_folder, \"*.mp4\"))\n",
        "    for video in list_of_files:\n",
        "      try:\n",
        "          os.remove(video)\n",
        "      except:\n",
        "          print(\"Error while deleting file : \", video)\n",
        "\n",
        "def show_latest_video(video_folder: str) -> str:\n",
        "    \"\"\"Show the most recently recorded video from video folder.\"\"\"\n",
        "    list_of_files = glob.glob(os.path.join(video_folder, \"*.mp4\"))\n",
        "    print(\"files: \", list_of_files )\n",
        "    latest_file = max(list_of_files, key=os.path.getctime)\n",
        "    ipython_show_video(latest_file)\n",
        "    return latest_file\n",
        "\n",
        "def show_all_videos(video_folder: str) -> str:\n",
        "    \"\"\"Show all the videos recorded.\"\"\"\n",
        "    list_of_files = glob.glob(os.path.join(video_folder, \"*.mp4\"))\n",
        "    print(\"files: \", list_of_files )\n",
        "    for video in list_of_files:\n",
        "      ipython_show_video(video)\n",
        "    print(\"Played:\", video)\n"
      ]
    },
    {
      "cell_type": "markdown",
      "metadata": {
        "id": "PZzMzzVmIbKz"
      },
      "source": [
        "## Use Cuda"
      ]
    },
    {
      "cell_type": "code",
      "execution_count": null,
      "metadata": {
        "id": "HYyjk9ihIbK0"
      },
      "outputs": [],
      "source": [
        "USE_CUDA = torch.cuda.is_available()\n",
        "Variable = lambda *args, **kwargs: autograd.Variable(*args, **kwargs).cuda() if USE_CUDA else autograd.Variable(*args, **kwargs)"
      ]
    },
    {
      "cell_type": "markdown",
      "metadata": {
        "id": "TnjlYrW5IbK0"
      },
      "source": [
        "## Replay Buffer"
      ]
    },
    {
      "cell_type": "code",
      "execution_count": null,
      "metadata": {
        "id": "WsoD9U8L-auG"
      },
      "outputs": [],
      "source": [
        "class ReplayBuffer(object):\n",
        "    def __init__(self, capacity):\n",
        "        self.capacity   = capacity\n",
        "        self.buffer     = []\n",
        "        self.pos        = 0\n",
        "    \n",
        "    def push(self, state, action, reward, next_state, done):\n",
        "        state      = np.expand_dims(state, 0)\n",
        "        next_state = np.expand_dims(next_state, 0)\n",
        "                \n",
        "        if len(self.buffer) < self.capacity:\n",
        "            self.buffer.append((state, action, reward, next_state, done))\n",
        "        else:\n",
        "            self.buffer[self.pos] = (state, action, reward, next_state, done)\n",
        "        \n",
        "        self.pos = (self.pos + 1) % self.capacity\n",
        "    \n",
        "    # HELP:\n",
        "    # It can be helpful to use the following sequence:  \n",
        "    #   indices = random.choices(range(0,len(self.buffer)), weights=probabilities, k=batch_size )\n",
        "    # It samples \"k\" elements following \"probabilities\" distribution and returns the indices of the sampled elements\n",
        "    # Instead of this sequence you can also use numpy tools\n",
        "    def sample(self, batch_size):\n",
        "        state, action, reward, next_state, done = zip(*random.sample(self.buffer, batch_size))\n",
        "        return np.concatenate(state), action, reward, np.concatenate(next_state), done\n",
        "\n",
        "\n",
        "    def __len__(self):\n",
        "        return len(self.buffer)"
      ]
    },
    {
      "cell_type": "markdown",
      "metadata": {
        "id": "IyAYT95VwIvl"
      },
      "source": [
        "### Testing Replay Buffer"
      ]
    },
    {
      "cell_type": "code",
      "execution_count": null,
      "metadata": {
        "id": "B47-W5kjrEeA",
        "colab": {
          "base_uri": "https://localhost:8080/"
        },
        "outputId": "6d97b4ab-e4bc-4484-f1bc-f77b7f9328ee"
      },
      "outputs": [
        {
          "output_type": "stream",
          "name": "stdout",
          "text": [
            "We add 8 elements but there are only  5 \n",
            "rB:  [(array([5]), 5, 5, array([5]), 5), (array([6]), 6, 6, array([6]), 6), (array([7]), 7, 7, array([7]), 7), (array([3]), 3, 3, array([3]), 3), (array([4]), 4, 4, array([4]), 4)]\n",
            "\n",
            "After we add a new element the buffer is:  [(array([5]), 5, 5, array([5]), 5), (array([6]), 6, 6, array([6]), 6), (array([7]), 7, 7, array([7]), 7), (array([10]), 10, 10, array([10]), 10), (array([4]), 4, 4, array([4]), 4)]\n",
            "\n",
            " The sampled elemenst:  (array([4, 7]), (4, 7), (4, 7), array([4, 7]), (4, 7))\n",
            "\n",
            " The sampled elemenst:  (array([5, 6, 4]), (5, 6, 4), (5, 6, 4), array([5, 6, 4]), (5, 6, 4))\n"
          ]
        }
      ],
      "source": [
        "# We build a Replay buffer for 5 elements\n",
        "rB = ReplayBuffer(5)\n",
        "\n",
        "# We are going to add 8 elements\n",
        "for i in range(8):\n",
        "  rB.push(i,i,i,i,i)\n",
        "print(\"We add 8 elements but there are only \", len(rB), \"\\nrB: \", rB.buffer)\n",
        "\n",
        "# We are going to add another value\n",
        "rB.push(10,10,10,10,10)\n",
        "print(\"\\nAfter we add a new element the buffer is: \", rB.buffer)\n",
        "\n",
        "# No we are going to see are sampled some experiences\n",
        "mini_batch = rB.sample(2)\n",
        "print(\"\\n The sampled elemenst: \", mini_batch )\n",
        "\n",
        "mini_batch = rB.sample(3)\n",
        "print(\"\\n The sampled elemenst: \", mini_batch )\n"
      ]
    },
    {
      "cell_type": "markdown",
      "metadata": {
        "id": "voxkftv1IbK2"
      },
      "source": [
        "## Cart Pole Environment"
      ]
    },
    {
      "cell_type": "code",
      "execution_count": null,
      "metadata": {
        "id": "9EHbFDp6IbK4",
        "colab": {
          "base_uri": "https://localhost:8080/"
        },
        "outputId": "298fa2cf-95c1-4908-a7b9-90ff2d7ce058"
      },
      "outputs": [
        {
          "output_type": "stream",
          "name": "stderr",
          "text": [
            "/usr/local/lib/python3.8/dist-packages/gym/envs/registration.py:593: UserWarning: \u001b[33mWARN: The environment CartPole-v0 is out of date. You should consider upgrading to version `v1`.\u001b[0m\n",
            "  logger.warn(\n",
            "/usr/local/lib/python3.8/dist-packages/gym/core.py:317: DeprecationWarning: \u001b[33mWARN: Initializing wrapper in old step API which returns one bool instead of two. It is recommended to set `new_step_api=True` to use new step API. This will be the default behaviour in future.\u001b[0m\n",
            "  deprecation(\n",
            "/usr/local/lib/python3.8/dist-packages/gym/wrappers/step_api_compatibility.py:39: DeprecationWarning: \u001b[33mWARN: Initializing environment in old step API which returns one bool instead of two. It is recommended to set `new_step_api=True` to use new step API. This will be the default behaviour in future.\u001b[0m\n",
            "  deprecation(\n"
          ]
        }
      ],
      "source": [
        "env_id = \"CartPole-v0\"\n",
        "env = gym.make(env_id)"
      ]
    },
    {
      "cell_type": "code",
      "execution_count": null,
      "metadata": {
        "id": "pZySBOH5IbLA"
      },
      "outputs": [],
      "source": [
        "def plot(frame_idx, rewards):\n",
        "    clear_output(True)\n",
        "    plt.figure(figsize=(20,5))\n",
        "    plt.subplot(131)\n",
        "    plt.title('frame %s. reward: %s' % (frame_idx, np.mean(rewards[-10:])))\n",
        "    plt.plot(rewards)\n",
        "    plt.show()"
      ]
    },
    {
      "cell_type": "markdown",
      "metadata": {
        "id": "h7aZ3bYgIbK4"
      },
      "source": [
        "## Epsilon greedy exploration\n",
        "Epsilon value is dynamic. It starts with 1.0 value (exploration) and little by little it is going to decay until 0.01 (exploitation)"
      ]
    },
    {
      "cell_type": "code",
      "execution_count": null,
      "metadata": {
        "id": "hZCk-i69IbK5"
      },
      "outputs": [],
      "source": [
        "epsilon_start = 1.0\n",
        "epsilon_final = 0.01\n",
        "epsilon_decay = 500\n",
        "\n",
        "epsilon_by_frame = lambda frame_idx: epsilon_final + (epsilon_start - epsilon_final) * math.exp(-1. * frame_idx / epsilon_decay)"
      ]
    },
    {
      "cell_type": "code",
      "execution_count": null,
      "metadata": {
        "id": "DKVzXtD0IbK6",
        "colab": {
          "base_uri": "https://localhost:8080/",
          "height": 282
        },
        "outputId": "cd721c7a-9eb2-4e2d-f9c4-eb37290407ce"
      },
      "outputs": [
        {
          "output_type": "execute_result",
          "data": {
            "text/plain": [
              "[<matplotlib.lines.Line2D at 0x7f2f65d990a0>]"
            ]
          },
          "metadata": {},
          "execution_count": 24
        },
        {
          "output_type": "display_data",
          "data": {
            "text/plain": [
              "<Figure size 432x288 with 1 Axes>"
            ],
            "image/png": "[encoded data removed]"
          },
          "metadata": {
            "needs_background": "light"
          }
        }
      ],
      "source": [
        "plt.plot([epsilon_by_frame(i) for i in range(10000)])"
      ]
    },
    {
      "cell_type": "markdown",
      "metadata": {
        "id": "c6A-SD0_IbK7"
      },
      "source": [
        "## Deep Q Network"
      ]
    },
    {
      "cell_type": "code",
      "execution_count": null,
      "metadata": {
        "id": "0HB3GTmOisfH"
      },
      "outputs": [],
      "source": [
        "class DQN(nn.Module):\n",
        "    def __init__(self, num_inputs, num_actions):\n",
        "        super(DQN, self).__init__()\n",
        "        \n",
        "        self.layers = nn.Sequential(\n",
        "            nn.Linear(num_inputs, 128),\n",
        "            nn.ReLU(),\n",
        "            nn.Linear(128, 128),\n",
        "            nn.ReLU(),\n",
        "            nn.Linear(128, num_actions)\n",
        "        )\n",
        "\n",
        "    # This method computes output Tensors from input Tensors. That is, given an state it returns an array with q(s,a) values for all actions\n",
        "    def forward(self, x):\n",
        "        return self.layers(x)"
      ]
    },
    {
      "cell_type": "code",
      "execution_count": null,
      "metadata": {
        "id": "p4vsG_e3IbK7"
      },
      "outputs": [],
      "source": [
        "class Agent():\n",
        "    def __init__(self, env):\n",
        "        self.env = env\n",
        "        self.replay_buffer = ReplayBuffer(1000)\n",
        "        self.batch_size = 32\n",
        "        self.gamma = 0.99\n",
        "       \n",
        "        self.model = DQN(self.env.observation_space.shape[0], self.env.action_space.n)\n",
        "        self.optimizer = optim.Adam(self.model.parameters())\n",
        "\n",
        "    # This method defines the epsilon value. It started with 1.0 and it decays until 0.01 value   \n",
        "    def get_epsilon_value(self, frame_idx):\n",
        "      epsilon_start = 1.0\n",
        "      epsilon_final = 0.01\n",
        "      epsilon_decay = 500\n",
        "       \n",
        "      epsilon = lambda frame_idx: epsilon_final + (epsilon_start - epsilon_final) * math.exp(-1. * frame_idx / epsilon_decay)\n",
        "      return epsilon(frame_idx)\n",
        "    \n",
        "    # Given a state and epsilon value, this method returns an action following epsilong-greedy\n",
        "    def act(self, state, epsilon):\n",
        "        if random.random() > epsilon:\n",
        "            state   = Variable(torch.FloatTensor(state).unsqueeze(0), requires_grad=False)\n",
        "            q_value = self.model.forward(state)\n",
        "            action  = q_value.max(1)[1].item()\n",
        "        else:\n",
        "            action = random.randrange(self.env.action_space.n)\n",
        "        return action\n",
        "\n",
        "    # Given a model, it copyes the current model on it. \n",
        "    def update_target(self, target_model):\n",
        "      target_model.load_state_dict(self.model.state_dict())\n",
        "\n",
        "    # This method updates the weights \n",
        "    # It is solved using tensors\n",
        "    def compute_td_loss(self, target_model):\n",
        "      state, action, reward, next_state, done = self.replay_buffer.sample(self.batch_size)\n",
        "\n",
        "      state      = Variable(torch.FloatTensor(np.float32(state)))\n",
        "      next_state = Variable(torch.FloatTensor(np.float32(next_state)))\n",
        "      action     = Variable(torch.LongTensor(action))\n",
        "      reward     = Variable(torch.FloatTensor(reward))\n",
        "      done       = Variable(torch.FloatTensor(done))\n",
        "      \n",
        "      q_values      = self.model.forward(state)\n",
        "      next_q_values = self.model.forward(next_state)\n",
        "      next_q_state_values = target_model(next_state) \n",
        "\n",
        "      q_value       = q_values.gather(1, action.unsqueeze(1)).squeeze(1) \n",
        "      next_q_value = next_q_state_values.gather(1, torch.max(next_q_values, 1)[1].unsqueeze(1)).squeeze(1)\n",
        "      #next_q_value = next_q_state_values.max(1)[0]\n",
        "      expected_q_value = reward + self.gamma * next_q_value * (1 - done)\n",
        "      \n",
        "      loss = (q_value - Variable(expected_q_value.data)).pow(2).mean()\n",
        "          \n",
        "      self.optimizer.zero_grad()\n",
        "      loss.backward()\n",
        "      self.optimizer.step()\n",
        "      \n",
        "      return loss\n",
        "\n",
        "    # TODO\n",
        "    # This method updates the weights \n",
        "    def compute_td_loss_our(self, target_model,n):\n",
        "      # Obtain the mini_batch to train the weights.\n",
        "      # state, action, reward, next_state, done are numpy arrays, each position corresponds to one experience\n",
        "      \n",
        "      state, action, reward, next_state, done = self.replay_buffer.sample(self.batch_size)\n",
        "\n",
        "      # Convert those numpy arrays to tensors. It is neccesary to work with Pytorch\n",
        "      states_tensor      = Variable(torch.FloatTensor(np.float32(state)))       # current_state S\n",
        "      actions_tensor     = Variable(torch.LongTensor(action))                   # action A\n",
        "      next_states_tensor = Variable(torch.FloatTensor(np.float32(next_state)))  # next_state S'\n",
        "\n",
        "      \n",
        "      # The approximated q_values of each current state \n",
        "      q_values_tensor      = self.model.forward(states_tensor) # Q(S, A, W)\n",
        "\n",
        "      # The approximated q_values of each next state calculated with the current_model and the target_model \n",
        "      next_q_values_current_model_tensor = self.model.forward(next_states_tensor) # Q(S', A', W)\n",
        "      next_q_values_target_model_tensor = target_model.forward(next_states_tensor) # Q(S', A', W')\n",
        "\n",
        "      # Convert the approximated next_states' q_values to numpy array. We are going to work with these arrays\n",
        "      next_q_values_current_model = next_q_values_current_model_tensor.detach().numpy(); \n",
        "      next_q_values_target_model = next_q_values_target_model_tensor.detach().numpy(); \n",
        "      expected_q_value = np.zeros(self.batch_size)\n",
        "      #Los expected_q_value inician todos a 0.\n",
        "      \n",
        "      # TODO\n",
        "      # input: next_q_values_current_model is a numpy array. In each element are stored all the approximated q values for the next state calculated with the current_model\n",
        "      # input: next_q_values_target_model is a numpy array. In each element are stored all the approximated q values for the next state calculated with the target_model\n",
        "      # input: reward is a numpy array with the rewards obtained in each experience of the mini_batch (batch_size)\n",
        "      # output: expected_q_value is a numpy array. You have to store in each position the target value of each experience using next_q_values_target_model and reward elements \n",
        "      # note: all these numpy arrays has the same length: the length of the mini_batch (batch_size)\n",
        "      #\n",
        "      # for all the elements on the batch size\n",
        "      #  calculate the target expected value and store in expected_q_value \n",
        "      for i in range(self.batch_size):      \n",
        "        next_q_value = 0\n",
        "        if not(done[i]):\n",
        "          next_q_value = max(next_q_values_target_model[i])\n",
        "\n",
        "          # with current model\n",
        "          #next_q_value = max(next_q_values_current_model[i])\n",
        "\n",
        "          # with current model action and target model approximation\n",
        "          #next_action = np.argmax(next_q_values_current_model[i])\n",
        "          #next_q_value = next_q_values_target_model[i][next_action]\n",
        "          \n",
        "        expected_q_value[i] = reward[i] + pow(self.gamma,n)*next_q_value\n",
        "        #expt_V(St) =  G + gamma^n*V(St+n)\n",
        "      # END TODO\n",
        "\n",
        "      # Prepare data for the loss function\n",
        "      q_value = q_values_tensor.gather(1, actions_tensor.unsqueeze(1)).squeeze(1)\n",
        "      expected_q_values = torch.tensor(expected_q_value)\n",
        "\n",
        "\n",
        "      # Loss function: to know how good the weights are\n",
        "      lossMSE = nn.MSELoss()  \n",
        "      loss = lossMSE(q_value.float(), expected_q_values.float())\n",
        "\n",
        "\n",
        "      #alpha * (G + gamma^n*V(St+n) - V(St))\n",
        "      # Based on the results of the loss function, the weights are updated with gradient descent\n",
        "      self.optimizer.zero_grad() #Esto reinicia los gradiantes para no tener acumulado de las anterires pasadas\n",
        "      loss.backward() #Esto calcula los gradiantes\n",
        "      self.optimizer.step() #Esto actualiza los pesos usando los gradiantes\n",
        "      \n",
        "      return loss\n",
        "\n",
        "\n",
        "    # TODO\n",
        "    # Method to train the agent\n",
        "    def train(self,n):\n",
        "      num_frames = 25000\n",
        "      losses = []\n",
        "      all_rewards = []\n",
        "      episode_reward = 0\n",
        "      target_model  = DQN(self.env.observation_space.shape[0], self.env.action_space.n)\n",
        "      state = self.env.reset()\n",
        "\n",
        "      # TODO\n",
        "      # replay buffer attribute is empty\n",
        "      # for each frame\n",
        "      #   get current epsilon\n",
        "      #   get action following epsilon greedy\n",
        "      #   get next_state and reward\n",
        "      #   add new experience to the replay buffer \n",
        "      #   update state\n",
        "      #   update episode total reward\n",
        "      #   if done\n",
        "      #     reset environment\n",
        "      #     append the episode total reward to all_rewards array\n",
        "      #     set episode total reward to 0\n",
        "      #   if experience replay has more elements than batch_size\n",
        "      #     update the weights\n",
        "      #   every 100 frames update the target model\n",
        "\n",
        "      list_states = []\n",
        "      list_actions = []\n",
        "      list_rewards = []\n",
        "\n",
        "      for frame_idx in range(1, num_frames + 1):\n",
        "          epsilon = self.get_epsilon_value(frame_idx)\n",
        "          action = self.act(state, epsilon) \n",
        "          \n",
        "\n",
        "          next_state, reward, done, _ = self.env.step(action)\n",
        "          list_states.append(state)\n",
        "          list_actions.append(action)\n",
        "          list_rewards.append(reward) \n",
        "          \n",
        "          #Si estamos en un estado terminal, debemos subir todas las experiencias guardadas\n",
        "          if done:\n",
        "              for i in range (len(list_states)):\n",
        "                 experience_reward = 0\n",
        "                 for i in range(len(list_rewards)):\n",
        "                  experience_reward += pow(self.gamma,i)*list_rewards[i]\n",
        "                 list_rewards.pop(0)\n",
        "                 self.replay_buffer.push(list_states.pop(0),list_actions.pop(0),experience_reward,state, done)  #Cada vez que se sube una experiencia, se borra su información de los arrays de guardado\n",
        "\n",
        "              state = self.env.reset()\n",
        "              all_rewards.append(episode_reward)\n",
        "              episode_reward = 0 \n",
        "\n",
        "          #Si no es terminal pero ya tenemos los n estado siguientes de un estado, se sube su experiencia\n",
        "          if len(list_states) == n+1:\n",
        "            \n",
        "              experience_reward = 0\n",
        "              for i in range(len(list_rewards)):\n",
        "                experience_reward += pow(self.gamma,i)*list_rewards[i]\n",
        "              list_rewards.pop(0)\n",
        "              self.replay_buffer.push(list_states.pop(0),list_actions.pop(0),experience_reward,state, done)   #Cada vez que se sube una experiencia, se borra su información de los arrays de guardado\n",
        "                \n",
        "          if not done:\n",
        "            state = next_state \n",
        "            episode_reward += reward                            \n",
        "                  \n",
        "          if len(current_model.replay_buffer) > self.batch_size:\n",
        "              loss = self.compute_td_loss_our(target_model,n)\n",
        "              losses.append(loss.data)\n",
        "\n",
        "          # to visualize how the agent is learning    \n",
        "          if frame_idx % 200 == 0:\n",
        "              plot(frame_idx, all_rewards)\n",
        "              \n",
        "          if frame_idx % 100 == 0:\n",
        "              self.update_target(target_model)  \n",
        "      \n",
        "    # This method runs one episode and generates a video to observe the result\n",
        "    def test(self):\n",
        "        video_folder=\"videos\"\n",
        "\n",
        "        remove_videos(video_folder=video_folder)\n",
        "\n",
        "        # we are going to work over envVideo.\n",
        "        envVideo = gym.wrappers.RecordVideo(self.env, video_folder=video_folder)\n",
        "                \n",
        "        done = False #It is used to control if the episode is finished, if it is finished the environment must be reset\n",
        "        state = envVideo.reset()\n",
        "\n",
        "        total_reward = 0\n",
        "        while not(done):          \n",
        "            action = self.act(state, 0)\n",
        "            next_state, reward, done, _ = envVideo.step(action)\n",
        "            state = next_state\n",
        "            total_reward +=reward\n",
        "            if done:\n",
        "              break\n",
        "        envVideo.close()\n",
        "        print(\"rew: \", total_reward)\n",
        "        show_all_videos(video_folder=video_folder)"
      ]
    },
    {
      "cell_type": "markdown",
      "metadata": {
        "id": "ynxAQEvLmC6R"
      },
      "source": [
        "### Train the agent"
      ]
    },
    {
      "cell_type": "code",
      "execution_count": null,
      "metadata": {
        "id": "uQO4hDUn2vUa",
        "colab": {
          "base_uri": "https://localhost:8080/",
          "height": 336
        },
        "outputId": "e0c4f88b-bc2a-427f-d1ab-2913b53f1bf8"
      },
      "outputs": [
        {
          "output_type": "display_data",
          "data": {
            "text/plain": [
              "<Figure size 1440x360 with 1 Axes>"
            ],
            "image/png": "[encoded data removed]"
          },
          "metadata": {
            "needs_background": "light"
          }
        }
      ],
      "source": [
        "current_model = Agent(env)\n",
        "current_model.train(3)"
      ]
    },
    {
      "cell_type": "markdown",
      "metadata": {
        "id": "WoZsHTkFl7Jq"
      },
      "source": [
        "### Test the agent"
      ]
    },
    {
      "cell_type": "code",
      "execution_count": null,
      "metadata": {
        "id": "YIVpEbfR4pVO",
        "colab": {
          "base_uri": "https://localhost:8080/"
        },
        "outputId": "1cdd1f76-7282-4593-ea0e-edaae8984f80"
      },
      "outputs": [
        {
          "output_type": "stream",
          "name": "stderr",
          "text": [
            "/usr/local/lib/python3.8/dist-packages/gym/wrappers/record_video.py:78: UserWarning: \u001b[33mWARN: Overwriting existing videos at /content/videos folder (try specifying a different `video_folder` for the `RecordVideo` wrapper if this is not desired)\u001b[0m\n",
            "  logger.warn(\n",
            "/usr/local/lib/python3.8/dist-packages/gym/wrappers/monitoring/video_recorder.py:78: DeprecationWarning: \u001b[33mWARN: Recording ability for environment CartPole-v0 initialized with `render_mode=None` is marked as deprecated and will be removed in the future.\u001b[0m\n",
            "  logger.deprecation(\n",
            "/usr/local/lib/python3.8/dist-packages/gym/core.py:43: DeprecationWarning: \u001b[33mWARN: The argument mode in render method is deprecated; use render_mode during environment initialization instead.\n",
            "See here for more information: https://www.gymlibrary.ml/content/api/\u001b[0m\n",
            "  deprecation(\n",
            "/usr/local/lib/python3.8/dist-packages/gym/core.py:43: DeprecationWarning: \u001b[33mWARN: The argument mode in render method is deprecated; use render_mode during environment initialization instead.\n",
            "See here for more information: https://www.gymlibrary.ml/content/api/\u001b[0m\n",
            "  deprecation(\n"
          ]
        },
        {
          "output_type": "stream",
          "name": "stdout",
          "text": [
            "rew:  200.0\n",
            "files:  ['videos/rl-video-episode-0.mp4']\n"
          ]
        },
        {
          "output_type": "display_data",
          "data": {
            "text/plain": [
              "<IPython.core.display.HTML object>"
            ],
            "text/html": [
              "\n",
              "        <video width=\"320\" height=\"240\" alt=\"test\" controls>\n",
              "        <source src=\"data:video/mp4;base64,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\" type=\"video/mp4\"/>\n",
              "        </video>\n",
              "        "
            ]
          },
          "metadata": {}
        },
        {
          "output_type": "stream",
          "name": "stdout",
          "text": [
            "Played: videos/rl-video-episode-0.mp4\n"
          ]
        }
      ],
      "source": [
        "current_model.test()"
      ]
    }
  ],
  "metadata": {
    "colab": {
      "provenance": []
    },
    "gpuClass": "standard",
    "kernelspec": {
      "display_name": "Python 3",
      "language": "python",
      "name": "python3"
    },
    "language_info": {
      "codemirror_mode": {
        "name": "ipython",
        "version": 3
      },
      "file_extension": ".py",
      "mimetype": "text/x-python",
      "name": "python",
      "nbconvert_exporter": "python",
      "pygments_lexer": "ipython3",
      "version": "3.6.8"
    }
  },
  "nbformat": 4,
  "nbformat_minor": 0
}