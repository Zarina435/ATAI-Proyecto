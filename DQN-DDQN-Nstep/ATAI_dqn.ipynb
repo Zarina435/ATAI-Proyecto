{
  "cells": [
    {
      "cell_type": "markdown",
      "source": [
        "#  **Deep Q Network Lab**\n",
        "In this lab we are going to implement Deep Q-Network Algorithm"
      ],
      "metadata": {
        "id": "P1orjSBFsa3x"
      }
    },
    {
      "cell_type": "markdown",
      "source": [
        "# **Initialization**"
      ],
      "metadata": {
        "id": "7p-FkdaHOISM"
      }
    },
    {
      "cell_type": "markdown",
      "source": [
        "## Install dependencies"
      ],
      "metadata": {
        "id": "VzfboO1QP_Uw"
      }
    },
    {
      "cell_type": "code",
      "source": [
        "import sys\n",
        "IN_COLAB = \"google.colab\" in sys.modules\n",
        "\n",
        "if IN_COLAB:\n",
        "    !apt-get update\n",
        "    !apt install python-opengl\n",
        "    !apt install ffmpeg\n",
        "    !apt install xvfb\n",
        "    !pip install PyVirtualDisplay==3.0\n",
        "    !pip install gym[classic_control]\n",
        "    #!pip install gym==0.21.0\n",
        "    from pyvirtualdisplay import Display\n",
        "    \n",
        "    # Start virtual display\n",
        "    dis = Display(visible=0, size=(400, 400))\n",
        "    dis.start()"
      ],
      "metadata": {
        "id": "mt4fLrG2Puzd",
        "colab": {
          "base_uri": "https://localhost:8080/"
        },
        "outputId": "92f07e15-d80e-4b7d-90ec-0a54cf772b91"
      },
      "execution_count": null,
      "outputs": [
        {
          "output_type": "stream",
          "name": "stdout",
          "text": [
            "\r0% [Working]\r            \rGet:1 https://cloud.r-project.org/bin/linux/ubuntu bionic-cran40/ InRelease [3,626 B]\n",
            "\r0% [Connecting to archive.ubuntu.com (185.125.190.36)] [Waiting for headers] [1\r0% [Connecting to archive.ubuntu.com (185.125.190.36)] [Waiting for headers] [W\r0% [1 InRelease gpgv 3,626 B] [Waiting for headers] [Waiting for headers] [Wait\r                                                                               \rGet:2 http://security.ubuntu.com/ubuntu bionic-security InRelease [88.7 kB]\n",
            "\r                                                                               \rIgn:3 https://developer.download.nvidia.com/compute/machine-learning/repos/ubuntu1804/x86_64  InRelease\n",
            "\r0% [1 InRelease gpgv 3,626 B] [Waiting for headers] [2 InRelease 14.2 kB/88.7 k\r                                                                               \rHit:4 https://developer.download.nvidia.com/compute/cuda/repos/ubuntu1804/x86_64  InRelease\n",
            "\r0% [1 InRelease gpgv 3,626 B] [Waiting for headers] [2 InRelease 14.2 kB/88.7 k\r                                                                               \rHit:5 http://archive.ubuntu.com/ubuntu bionic InRelease\n",
            "\r0% [1 InRelease gpgv 3,626 B] [Waiting for headers] [2 InRelease 14.2 kB/88.7 k\r                                                                               \rHit:6 https://developer.download.nvidia.com/compute/machine-learning/repos/ubuntu1804/x86_64  Release\n",
            "Get:7 http://ppa.launchpad.net/c2d4u.team/c2d4u4.0+/ubuntu bionic InRelease [15.9 kB]\n",
            "Get:8 http://archive.ubuntu.com/ubuntu bionic-updates InRelease [88.7 kB]\n",
            "Hit:9 http://ppa.launchpad.net/cran/libgit2/ubuntu bionic InRelease\n",
            "Get:10 http://archive.ubuntu.com/ubuntu bionic-backports InRelease [83.3 kB]\n",
            "Hit:11 http://ppa.launchpad.net/deadsnakes/ppa/ubuntu bionic InRelease\n",
            "Hit:12 http://ppa.launchpad.net/graphics-drivers/ppa/ubuntu bionic InRelease\n",
            "Get:14 http://ppa.launchpad.net/c2d4u.team/c2d4u4.0+/ubuntu bionic/main Sources [2,235 kB]\n",
            "Get:15 http://ppa.launchpad.net/c2d4u.team/c2d4u4.0+/ubuntu bionic/main amd64 Packages [1,143 kB]\n",
            "Fetched 3,659 kB in 3s (1,288 kB/s)\n",
            "Reading package lists... Done\n",
            "Reading package lists... Done\n",
            "Building dependency tree       \n",
            "Reading state information... Done\n",
            "The following package was automatically installed and is no longer required:\n",
            "  libnvidia-common-460\n",
            "Use 'apt autoremove' to remove it.\n",
            "The following additional packages will be installed:\n",
            "  freeglut3\n",
            "Suggested packages:\n",
            "  libgle3\n",
            "The following NEW packages will be installed:\n",
            "  freeglut3 python-opengl\n",
            "0 upgraded, 2 newly installed, 0 to remove and 20 not upgraded.\n",
            "Need to get 570 kB of archives.\n",
            "After this operation, 5,733 kB of additional disk space will be used.\n",
            "Get:1 http://archive.ubuntu.com/ubuntu bionic/universe amd64 freeglut3 amd64 2.8.1-3 [73.6 kB]\n",
            "Get:2 http://archive.ubuntu.com/ubuntu bionic/universe amd64 python-opengl all 3.1.0+dfsg-1 [496 kB]\n",
            "Fetched 570 kB in 1s (719 kB/s)\n",
            "Selecting previously unselected package freeglut3:amd64.\n",
            "(Reading database ... 124016 files and directories currently installed.)\n",
            "Preparing to unpack .../freeglut3_2.8.1-3_amd64.deb ...\n",
            "Unpacking freeglut3:amd64 (2.8.1-3) ...\n",
            "Selecting previously unselected package python-opengl.\n",
            "Preparing to unpack .../python-opengl_3.1.0+dfsg-1_all.deb ...\n",
            "Unpacking python-opengl (3.1.0+dfsg-1) ...\n",
            "Setting up freeglut3:amd64 (2.8.1-3) ...\n",
            "Setting up python-opengl (3.1.0+dfsg-1) ...\n",
            "Processing triggers for libc-bin (2.27-3ubuntu1.6) ...\n",
            "Reading package lists... Done\n",
            "Building dependency tree       \n",
            "Reading state information... Done\n",
            "ffmpeg is already the newest version (7:3.4.11-0ubuntu0.1).\n",
            "The following package was automatically installed and is no longer required:\n",
            "  libnvidia-common-460\n",
            "Use 'apt autoremove' to remove it.\n",
            "0 upgraded, 0 newly installed, 0 to remove and 20 not upgraded.\n",
            "Reading package lists... Done\n",
            "Building dependency tree       \n",
            "Reading state information... Done\n",
            "The following package was automatically installed and is no longer required:\n",
            "  libnvidia-common-460\n",
            "Use 'apt autoremove' to remove it.\n",
            "The following NEW packages will be installed:\n",
            "  xvfb\n",
            "0 upgraded, 1 newly installed, 0 to remove and 20 not upgraded.\n",
            "Need to get 785 kB of archives.\n",
            "After this operation, 2,271 kB of additional disk space will be used.\n",
            "Get:1 http://archive.ubuntu.com/ubuntu bionic-updates/universe amd64 xvfb amd64 2:1.19.6-1ubuntu4.13 [785 kB]\n",
            "Fetched 785 kB in 1s (1,057 kB/s)\n",
            "Selecting previously unselected package xvfb.\n",
            "(Reading database ... 126376 files and directories currently installed.)\n",
            "Preparing to unpack .../xvfb_2%3a1.19.6-1ubuntu4.13_amd64.deb ...\n",
            "Unpacking xvfb (2:1.19.6-1ubuntu4.13) ...\n",
            "Setting up xvfb (2:1.19.6-1ubuntu4.13) ...\n",
            "Processing triggers for man-db (2.8.3-2ubuntu0.1) ...\n",
            "Looking in indexes: https://pypi.org/simple, https://us-python.pkg.dev/colab-wheels/public/simple/\n",
            "Collecting PyVirtualDisplay==3.0\n",
            "  Downloading PyVirtualDisplay-3.0-py3-none-any.whl (15 kB)\n",
            "Installing collected packages: PyVirtualDisplay\n",
            "Successfully installed PyVirtualDisplay-3.0\n",
            "Looking in indexes: https://pypi.org/simple, https://us-python.pkg.dev/colab-wheels/public/simple/\n",
            "Requirement already satisfied: gym[classic_control] in /usr/local/lib/python3.8/dist-packages (0.25.2)\n",
            "Requirement already satisfied: importlib-metadata>=4.8.0 in /usr/local/lib/python3.8/dist-packages (from gym[classic_control]) (5.1.0)\n",
            "Requirement already satisfied: cloudpickle>=1.2.0 in /usr/local/lib/python3.8/dist-packages (from gym[classic_control]) (1.5.0)\n",
            "Requirement already satisfied: gym-notices>=0.0.4 in /usr/local/lib/python3.8/dist-packages (from gym[classic_control]) (0.0.8)\n",
            "Requirement already satisfied: numpy>=1.18.0 in /usr/local/lib/python3.8/dist-packages (from gym[classic_control]) (1.21.6)\n",
            "Collecting pygame==2.1.0\n",
            "  Downloading pygame-2.1.0-cp38-cp38-manylinux_2_17_x86_64.manylinux2014_x86_64.whl (18.3 MB)\n",
            "\u001b[K     |████████████████████████████████| 18.3 MB 153 kB/s \n",
            "\u001b[?25hRequirement already satisfied: zipp>=0.5 in /usr/local/lib/python3.8/dist-packages (from importlib-metadata>=4.8.0->gym[classic_control]) (3.11.0)\n",
            "Installing collected packages: pygame\n",
            "Successfully installed pygame-2.1.0\n"
          ]
        }
      ]
    },
    {
      "cell_type": "markdown",
      "source": [
        "## Import Dependencies"
      ],
      "metadata": {
        "id": "sHmjyfGJOTsV"
      }
    },
    {
      "cell_type": "code",
      "execution_count": null,
      "metadata": {
        "id": "GJ7ASlptVUES"
      },
      "outputs": [],
      "source": [
        "import os\n",
        "from typing import Dict, List, Tuple\n",
        "import math, random\n",
        "\n",
        "import gym\n",
        "import numpy as np\n",
        "import matplotlib.pyplot as plt\n",
        "%matplotlib inline\n",
        "\n",
        "\n",
        "import base64\n",
        "import glob\n",
        "import io\n",
        "import os\n",
        "\n",
        "\n",
        "import torch\n",
        "import torch.nn as nn\n",
        "import torch.optim as optim\n",
        "import torch.autograd as autograd \n",
        "import torch.nn.functional as F\n",
        "\n",
        "\n",
        "from IPython.display import HTML, display, clear_output\n",
        "\n"
      ]
    },
    {
      "cell_type": "markdown",
      "source": [
        "#**Implementation** "
      ],
      "metadata": {
        "id": "Eqs9Zs6rOZhy"
      }
    },
    {
      "cell_type": "markdown",
      "source": [
        "## **Show recorded video**\n",
        "The following functions are used in order to show in a video the obtained results"
      ],
      "metadata": {
        "id": "GaC0tjzZS6hG"
      }
    },
    {
      "cell_type": "code",
      "execution_count": null,
      "metadata": {
        "id": "4qPbPwvooax1"
      },
      "outputs": [],
      "source": [
        "def ipython_show_video(path: str) -> None:\n",
        "    \"\"\"Show a video at `path` within IPython Notebook.\"\"\"\n",
        "    if not os.path.isfile(path):\n",
        "        raise NameError(\"Cannot access: {}\".format(path))\n",
        "\n",
        "    video = io.open(path, \"r+b\").read()\n",
        "    encoded = base64.b64encode(video)\n",
        "\n",
        "    display(HTML(\n",
        "        data=\"\"\"\n",
        "        <video width=\"320\" height=\"240\" alt=\"test\" controls>\n",
        "        <source src=\"data:video/mp4;base64,{0}\" type=\"video/mp4\"/>\n",
        "        </video>\n",
        "        \"\"\".format(encoded.decode(\"ascii\"))\n",
        "    ))\n",
        "\n",
        "def remove_videos (video_folder: str):\n",
        "    list_of_files = glob.glob(os.path.join(video_folder, \"*.mp4\"))\n",
        "    for video in list_of_files:\n",
        "      try:\n",
        "          os.remove(video)\n",
        "      except:\n",
        "          print(\"Error while deleting file : \", video)\n",
        "\n",
        "def show_latest_video(video_folder: str) -> str:\n",
        "    \"\"\"Show the most recently recorded video from video folder.\"\"\"\n",
        "    list_of_files = glob.glob(os.path.join(video_folder, \"*.mp4\"))\n",
        "    print(\"files: \", list_of_files )\n",
        "    latest_file = max(list_of_files, key=os.path.getctime)\n",
        "    ipython_show_video(latest_file)\n",
        "    return latest_file\n",
        "\n",
        "def show_all_videos(video_folder: str) -> str:\n",
        "    \"\"\"Show all the videos recorded.\"\"\"\n",
        "    list_of_files = glob.glob(os.path.join(video_folder, \"*.mp4\"))\n",
        "    print(\"files: \", list_of_files )\n",
        "    for video in list_of_files:\n",
        "      ipython_show_video(video)\n",
        "    print(\"Played:\", video)\n"
      ]
    },
    {
      "cell_type": "markdown",
      "metadata": {
        "id": "PZzMzzVmIbKz"
      },
      "source": [
        "## Use Cuda"
      ]
    },
    {
      "cell_type": "code",
      "execution_count": null,
      "metadata": {
        "id": "HYyjk9ihIbK0"
      },
      "outputs": [],
      "source": [
        "USE_CUDA = torch.cuda.is_available()\n",
        "Variable = lambda *args, **kwargs: autograd.Variable(*args, **kwargs).cuda() if USE_CUDA else autograd.Variable(*args, **kwargs)"
      ]
    },
    {
      "cell_type": "markdown",
      "metadata": {
        "id": "TnjlYrW5IbK0"
      },
      "source": [
        "## Replay Buffer"
      ]
    },
    {
      "cell_type": "code",
      "source": [
        "class ReplayBuffer(object):\n",
        "    def __init__(self, capacity):\n",
        "        self.capacity   = capacity\n",
        "        self.buffer     = []\n",
        "        self.pos        = 0\n",
        "    \n",
        "    def push(self, state, action, reward, next_state, done):\n",
        "        state      = np.expand_dims(state, 0)\n",
        "        next_state = np.expand_dims(next_state, 0)\n",
        "                \n",
        "        if len(self.buffer) < self.capacity:\n",
        "            self.buffer.append((state, action, reward, next_state, done))\n",
        "        else:\n",
        "            self.buffer[self.pos] = (state, action, reward, next_state, done)\n",
        "        \n",
        "        self.pos = (self.pos + 1) % self.capacity\n",
        "    \n",
        "    # HELP:\n",
        "    # It can be helpful to use the following sequence:  \n",
        "    #   indices = random.choices(range(0,len(self.buffer)), weights=probabilities, k=batch_size )\n",
        "    # It samples \"k\" elements following \"probabilities\" distribution and returns the indices of the sampled elements\n",
        "    # Instead of this sequence you can also use numpy tools\n",
        "    def sample(self, batch_size):\n",
        "        state, action, reward, next_state, done = zip(*random.sample(self.buffer, batch_size))\n",
        "        return np.concatenate(state), action, reward, np.concatenate(next_state), done\n",
        "\n",
        "\n",
        "    def __len__(self):\n",
        "        return len(self.buffer)"
      ],
      "metadata": {
        "id": "WsoD9U8L-auG"
      },
      "execution_count": null,
      "outputs": []
    },
    {
      "cell_type": "markdown",
      "source": [
        "### Testing Replay Buffer"
      ],
      "metadata": {
        "id": "IyAYT95VwIvl"
      }
    },
    {
      "cell_type": "code",
      "source": [
        "# We build a Replay buffer for 5 elements\n",
        "rB = ReplayBuffer(5)\n",
        "\n",
        "# We are going to add 8 elements\n",
        "for i in range(8):\n",
        "  rB.push(i,i,i,i,i)\n",
        "print(\"We add 8 elements but there are only \", len(rB), \"\\nrB: \", rB.buffer)\n",
        "\n",
        "# We are going to add another value\n",
        "rB.push(10,10,10,10,10)\n",
        "print(\"\\nAfter we add a new element the buffer is: \", rB.buffer)\n",
        "\n",
        "# No we are going to see are sampled some experiences\n",
        "mini_batch = rB.sample(2)\n",
        "print(\"\\n The sampled elemenst: \", mini_batch )\n",
        "\n",
        "mini_batch = rB.sample(3)\n",
        "print(\"\\n The sampled elemenst: \", mini_batch )\n"
      ],
      "metadata": {
        "id": "B47-W5kjrEeA",
        "colab": {
          "base_uri": "https://localhost:8080/"
        },
        "outputId": "b81679d3-a202-42e8-a0f2-9565bc27ce3b"
      },
      "execution_count": null,
      "outputs": [
        {
          "output_type": "stream",
          "name": "stdout",
          "text": [
            "We add 8 elements but there are only  5 \n",
            "rB:  [(array([5]), 5, 5, array([5]), 5), (array([6]), 6, 6, array([6]), 6), (array([7]), 7, 7, array([7]), 7), (array([3]), 3, 3, array([3]), 3), (array([4]), 4, 4, array([4]), 4)]\n",
            "\n",
            "After we add a new element the buffer is:  [(array([5]), 5, 5, array([5]), 5), (array([6]), 6, 6, array([6]), 6), (array([7]), 7, 7, array([7]), 7), (array([10]), 10, 10, array([10]), 10), (array([4]), 4, 4, array([4]), 4)]\n",
            "\n",
            " The sampled elemenst:  (array([7, 6]), (7, 6), (7, 6), array([7, 6]), (7, 6))\n",
            "\n",
            " The sampled elemenst:  (array([5, 4, 6]), (5, 4, 6), (5, 4, 6), array([5, 4, 6]), (5, 4, 6))\n"
          ]
        }
      ]
    },
    {
      "cell_type": "markdown",
      "metadata": {
        "id": "voxkftv1IbK2"
      },
      "source": [
        "## Cart Pole Environment"
      ]
    },
    {
      "cell_type": "code",
      "execution_count": null,
      "metadata": {
        "id": "9EHbFDp6IbK4",
        "colab": {
          "base_uri": "https://localhost:8080/"
        },
        "outputId": "603aadec-97cf-47a9-c32f-86d11d3407e4"
      },
      "outputs": [
        {
          "output_type": "stream",
          "name": "stderr",
          "text": [
            "/usr/local/lib/python3.8/dist-packages/gym/envs/registration.py:593: UserWarning: \u001b[33mWARN: The environment CartPole-v0 is out of date. You should consider upgrading to version `v1`.\u001b[0m\n",
            "  logger.warn(\n",
            "/usr/local/lib/python3.8/dist-packages/gym/core.py:317: DeprecationWarning: \u001b[33mWARN: Initializing wrapper in old step API which returns one bool instead of two. It is recommended to set `new_step_api=True` to use new step API. This will be the default behaviour in future.\u001b[0m\n",
            "  deprecation(\n",
            "/usr/local/lib/python3.8/dist-packages/gym/wrappers/step_api_compatibility.py:39: DeprecationWarning: \u001b[33mWARN: Initializing environment in old step API which returns one bool instead of two. It is recommended to set `new_step_api=True` to use new step API. This will be the default behaviour in future.\u001b[0m\n",
            "  deprecation(\n"
          ]
        }
      ],
      "source": [
        "env_id = \"CartPole-v0\"\n",
        "env = gym.make(env_id)"
      ]
    },
    {
      "cell_type": "code",
      "execution_count": null,
      "metadata": {
        "id": "pZySBOH5IbLA"
      },
      "outputs": [],
      "source": [
        "def plot(frame_idx, rewards):\n",
        "    clear_output(True)\n",
        "    plt.figure(figsize=(20,5))\n",
        "    plt.subplot(131)\n",
        "    plt.title('frame %s. reward: %s' % (frame_idx, np.mean(rewards[-10:])))\n",
        "    plt.plot(rewards)\n",
        "    plt.show()"
      ]
    },
    {
      "cell_type": "markdown",
      "metadata": {
        "id": "h7aZ3bYgIbK4"
      },
      "source": [
        "## Epsilon greedy exploration\n",
        "Epsilon value is dynamic. It starts with 1.0 value (exploration) and little by little it is going to decay until 0.01 (exploitation)"
      ]
    },
    {
      "cell_type": "code",
      "execution_count": null,
      "metadata": {
        "id": "hZCk-i69IbK5"
      },
      "outputs": [],
      "source": [
        "epsilon_start = 1.0\n",
        "epsilon_final = 0.01\n",
        "epsilon_decay = 500\n",
        "\n",
        "epsilon_by_frame = lambda frame_idx: epsilon_final + (epsilon_start - epsilon_final) * math.exp(-1. * frame_idx / epsilon_decay)"
      ]
    },
    {
      "cell_type": "code",
      "execution_count": null,
      "metadata": {
        "id": "DKVzXtD0IbK6",
        "colab": {
          "base_uri": "https://localhost:8080/",
          "height": 282
        },
        "outputId": "4535037a-7a80-448b-9319-eedeee1c0d91"
      },
      "outputs": [
        {
          "output_type": "execute_result",
          "data": {
            "text/plain": [
              "[<matplotlib.lines.Line2D at 0x7f6646596af0>]"
            ]
          },
          "metadata": {},
          "execution_count": 10
        },
        {
          "output_type": "display_data",
          "data": {
            "text/plain": [
              "<Figure size 432x288 with 1 Axes>"
            ],
            "image/png": "[encoded data removed]"
          },
          "metadata": {
            "needs_background": "light"
          }
        }
      ],
      "source": [
        "plt.plot([epsilon_by_frame(i) for i in range(10000)])"
      ]
    },
    {
      "cell_type": "markdown",
      "metadata": {
        "id": "c6A-SD0_IbK7"
      },
      "source": [
        "## Deep Q Network"
      ]
    },
    {
      "cell_type": "code",
      "source": [
        "class DQN(nn.Module):\n",
        "    def __init__(self, num_inputs, num_actions):\n",
        "        super(DQN, self).__init__()\n",
        "        \n",
        "        self.layers = nn.Sequential(\n",
        "            nn.Linear(num_inputs, 128),\n",
        "            nn.ReLU(),\n",
        "            nn.Linear(128, 128),\n",
        "            nn.ReLU(),\n",
        "            nn.Linear(128, num_actions)\n",
        "        )\n",
        "\n",
        "    # This method computes output Tensors from input Tensors. That is, given an state it returns an array with q(s,a) values for all actions\n",
        "    def forward(self, x):\n",
        "        return self.layers(x)\n",
        "\n",
        "  "
      ],
      "metadata": {
        "id": "0HB3GTmOisfH"
      },
      "execution_count": null,
      "outputs": []
    },
    {
      "cell_type": "code",
      "execution_count": null,
      "metadata": {
        "id": "p4vsG_e3IbK7"
      },
      "outputs": [],
      "source": [
        "class Agent():\n",
        "    def __init__(self, env):\n",
        "        self.env = env\n",
        "        self.replay_buffer = ReplayBuffer(1000)\n",
        "        self.batch_size = 32\n",
        "        self.gamma = 0.99\n",
        "       \n",
        "        self.model = DQN(self.env.observation_space.shape[0], self.env.action_space.n)\n",
        "        self.optimizer = optim.Adam(self.model.parameters())\n",
        "\n",
        "    # This method defines the epsilon value. It started with 1.0 and it decays until 0.01 value   \n",
        "    def get_epsilon_value(self, frame_idx):\n",
        "      epsilon_start = 1.0\n",
        "      epsilon_final = 0.01\n",
        "      epsilon_decay = 500\n",
        "       \n",
        "      epsilon = lambda frame_idx: epsilon_final + (epsilon_start - epsilon_final) * math.exp(-1. * frame_idx / epsilon_decay)\n",
        "      return epsilon(frame_idx)\n",
        "    \n",
        "    # Given a state and epsilon value, this method returns an action following epsilong-greedy\n",
        "    def act(self, state, epsilon):\n",
        "        if random.random() > epsilon:\n",
        "            state   = Variable(torch.FloatTensor(state).unsqueeze(0), requires_grad=False)\n",
        "            q_value = self.model.forward(state)\n",
        "            action  = q_value.max(1)[1].item()\n",
        "        else:\n",
        "            action = random.randrange(self.env.action_space.n)\n",
        "        return action\n",
        "\n",
        "    # Given a model, it copyes the current model on it. \n",
        "    def update_target(self, target_model):\n",
        "      target_model.load_state_dict(self.model.state_dict())\n",
        "\n",
        "    # This method updates the weights \n",
        "    # It is solved using tensors\n",
        "    def compute_td_loss(self, target_model):\n",
        "      state, action, reward, next_state, done = self.replay_buffer.sample(self.batch_size)\n",
        "\n",
        "      state      = Variable(torch.FloatTensor(np.float32(state)))\n",
        "      next_state = Variable(torch.FloatTensor(np.float32(next_state)))\n",
        "      action     = Variable(torch.LongTensor(action))\n",
        "      reward     = Variable(torch.FloatTensor(reward))\n",
        "      done       = Variable(torch.FloatTensor(done))\n",
        "      \n",
        "      q_values      = self.model.forward(state)\n",
        "      next_q_values = self.model.forward(next_state)\n",
        "      next_q_state_values = target_model(next_state) \n",
        "\n",
        "      q_value       = q_values.gather(1, action.unsqueeze(1)).squeeze(1) \n",
        "      next_q_value = next_q_state_values.gather(1, torch.max(next_q_values, 1)[1].unsqueeze(1)).squeeze(1)\n",
        "      #next_q_value = next_q_state_values.max(1)[0]\n",
        "      expected_q_value = reward + self.gamma * next_q_value * (1 - done)\n",
        "      \n",
        "      loss = (q_value - Variable(expected_q_value.data)).pow(2).mean()\n",
        "          \n",
        "      self.optimizer.zero_grad()\n",
        "      loss.backward()\n",
        "      self.optimizer.step()\n",
        "      \n",
        "      return loss\n",
        "\n",
        "    # TODO\n",
        "    # This method updates the weights \n",
        "    def compute_td_loss_our(self, target_model):\n",
        "      # Obtain the mini_batch to train the weights.\n",
        "      # state, action, reward, next_state, done are numpy arrays, each position corresponds to one experience\n",
        "      state, action, reward, next_state, done = self.replay_buffer.sample(self.batch_size)\n",
        "\n",
        "      # Convert those numpy arrays to tensors. It is neccesary to work with Pytorch\n",
        "      states_tensor      = Variable(torch.FloatTensor(np.float32(state)))       # current_state S\n",
        "      actions_tensor     = Variable(torch.LongTensor(action))                   # action A\n",
        "      next_states_tensor = Variable(torch.FloatTensor(np.float32(next_state)))  # next_state S'\n",
        "\n",
        "      \n",
        "      # The approximated q_values of each current state \n",
        "      q_values_tensor      = self.model.forward(states_tensor) # Q(S, A, W)\n",
        "\n",
        "      # The approximated q_values of each next state calculated with the current_model and the target_model \n",
        "      next_q_values_current_model_tensor = self.model.forward(next_states_tensor) # Q(S', A', W)\n",
        "      next_q_values_target_model_tensor = target_model.forward(next_states_tensor) # Q(S', A', W')\n",
        "\n",
        "      # Convert the approximated next_states' q_values to numpy array. We are going to work with these arrays\n",
        "      next_q_values_current_model = next_q_values_current_model_tensor.detach().numpy(); \n",
        "      next_q_values_target_model = next_q_values_target_model_tensor.detach().numpy(); \n",
        "      expected_q_value = np.zeros(self.batch_size)\n",
        "      \n",
        "      # TODO\n",
        "      # input: next_q_values_current_model is a numpy array. In each element are stored all the approximated q values for the next state calculated with the current_model\n",
        "      # input: next_q_values_target_model is a numpy array. In each element are stored all the approximated q values for the next state calculated with the target_model\n",
        "      # input: reward is a numpy array with the rewards obtained in each experience of the mini_batch (batch_size)\n",
        "      # output: expected_q_value is a numpy array. You have to store in each position the target value of each experience using next_q_values_target_model and reward elements \n",
        "      # note: all these numpy arrays has the same length: the length of the mini_batch (batch_size)\n",
        "      #\n",
        "      # for all the elements on the batch size\n",
        "      #  calculate the target expected value and store in expected_q_value \n",
        "\n",
        "      for i in range(self.batch_size):      \n",
        "        next_q_value = 0\n",
        "        if not(done[i]):\n",
        "          next_q_value = max(next_q_values_target_model[i])\n",
        "\n",
        "          # with current model\n",
        "          #next_q_value = max(next_q_values_current_model[i])\n",
        "\n",
        "          # with current model action and target model approximation\n",
        "          #next_action = np.argmax(next_q_values_current_model[i])\n",
        "          #next_q_value = next_q_values_target_model[i][next_action]\n",
        "          \n",
        "        expected_q_value[i] = reward[i] + self.gamma*next_q_value\n",
        "\n",
        "      # END TODO\n",
        "\n",
        "      # Prepare data for the loss function\n",
        "      q_value = q_values_tensor.gather(1, actions_tensor.unsqueeze(1)).squeeze(1)\n",
        "      expected_q_values = torch.tensor(expected_q_value)\n",
        "\n",
        "      # Loss function: to know how good the weights are\n",
        "      lossMSE = nn.MSELoss()  \n",
        "      loss = lossMSE(q_value.float(), expected_q_values.float())\n",
        "\n",
        "      # Based on the results of the loss function, the weights are updated with gradient descent\n",
        "      self.optimizer.zero_grad()\n",
        "      loss.backward()\n",
        "      self.optimizer.step()\n",
        "      \n",
        "      return loss\n",
        "\n",
        "    # TODO\n",
        "    # Method to train the agent\n",
        "    def train(self):\n",
        "      num_frames = 25000\n",
        "      losses = []\n",
        "      all_rewards = []\n",
        "      all_losses = []\n",
        "      episode_reward = 0\n",
        "      episode_loss = 0\n",
        "      target_model  = DQN(self.env.observation_space.shape[0], self.env.action_space.n)\n",
        "      state = self.env.reset()\n",
        "\n",
        "      # TODO\n",
        "      # replay buffer attribute is empty\n",
        "      # for each frame\n",
        "      #   get current epsilon\n",
        "      #   get action following epsilon greedy\n",
        "      #   get next_state and reward\n",
        "      #   add new experience to the replay buffer \n",
        "      #   update state\n",
        "      #   update episode total reward\n",
        "      #   if done\n",
        "      #     reset environment\n",
        "      #     append the episode total reward to all_rewards array\n",
        "      #     set episode total reward to 0\n",
        "      #   if experience replay has more elements than batch_size\n",
        "      #     update the weights\n",
        "      #   every 100 frames update the target model\n",
        "\n",
        "      for frame_idx in range(1, num_frames + 1):\n",
        "          epsilon = self.get_epsilon_value(frame_idx)\n",
        "          action = self.act(state, epsilon)\n",
        "          \n",
        "          next_state, reward, done, _ = self.env.step(action)\n",
        "          self.replay_buffer.push(state, action, reward, next_state, done)\n",
        "          \n",
        "          state = next_state\n",
        "          episode_reward += reward\n",
        "          \n",
        "          if done:\n",
        "              state = self.env.reset()\n",
        "              all_rewards.append(episode_reward)\n",
        "              episode_reward = 0\n",
        "\n",
        "              all_losses.append(episode_loss)   \n",
        "              episode_loss = 0    \n",
        "              \n",
        "          if len(current_model.replay_buffer) > self.batch_size:\n",
        "              loss = self.compute_td_loss_our(target_model)\n",
        "              losses.append(loss.data)\n",
        "\n",
        "              episode_loss = loss\n",
        "\n",
        "          # to visualize how the agent is learning    \n",
        "          if frame_idx % 200 == 0:\n",
        "              plot(frame_idx, all_rewards)\n",
        "\n",
        "              plt.figure(figsize=(20,5))\n",
        "              plt.subplot(131)\n",
        "              plt.title(\"loss a lo largo del tiempo\")\n",
        "              plt.plot(losses)\n",
        "              plt.show()\n",
        "              \n",
        "          if frame_idx % 100 == 0:\n",
        "              self.update_target(target_model)  \n",
        "\n",
        "      print(\"Recompensa media en el entrenamiento (con las recompensas de cada estado final): \", sum(all_rewards)/len(all_rewards))\n",
        "      print(\"Loss medio en el entrenamiento:      (con los losses de cada frame):             \", sum(losses)/len(losses))\n",
        "      print(\"Loss medio en el entrenamiento:      (con los loses de cada estado final):       \", sum(all_losses)/len(all_losses))\n",
        "\n",
        "    # This method runs one episode and generates a video to observe the result\n",
        "    def test(self):\n",
        "        video_folder=\"videos\"\n",
        "\n",
        "        remove_videos(video_folder=video_folder)\n",
        "\n",
        "        # we are going to work over envVideo.\n",
        "        envVideo = gym.wrappers.RecordVideo(self.env, video_folder=video_folder)\n",
        "                \n",
        "        done = False #It is used to control if the episode is finished, if it is finished the environment must be reset\n",
        "        state = envVideo.reset()\n",
        "\n",
        "        total_reward = 0\n",
        "        while not(done):          \n",
        "            action = self.act(state, 0)\n",
        "            next_state, reward, done, _ = envVideo.step(action)\n",
        "            state = next_state\n",
        "            total_reward +=reward\n",
        "            if done:\n",
        "              break\n",
        "        envVideo.close()\n",
        "        print(\"rew: \", total_reward)\n",
        "        show_all_videos(video_folder=video_folder)\n",
        "        \n",
        "        "
      ]
    },
    {
      "cell_type": "markdown",
      "source": [
        "### Train the agent"
      ],
      "metadata": {
        "id": "ynxAQEvLmC6R"
      }
    },
    {
      "cell_type": "code",
      "source": [
        "current_model = Agent(env)\n",
        "current_model.train()"
      ],
      "metadata": {
        "id": "uQO4hDUn2vUa",
        "colab": {
          "base_uri": "https://localhost:8080/",
          "height": 707
        },
        "outputId": "57cefd7c-507d-4782-ddba-e2b3d20d3343"
      },
      "execution_count": null,
      "outputs": [
        {
          "output_type": "display_data",
          "data": {
            "text/plain": [
              "<Figure size 1440x360 with 1 Axes>"
            ],
            "image/png": "[encoded data removed]"
          },
          "metadata": {
            "needs_background": "light"
          }
        },
        {
          "output_type": "display_data",
          "data": {
            "text/plain": [
              "<Figure size 1440x360 with 1 Axes>"
            ],
            "image/png": "[encoded data removed]"
          },
          "metadata": {
            "needs_background": "light"
          }
        },
        {
          "output_type": "stream",
          "name": "stdout",
          "text": [
            "Recompensa media en el entrenamiento (con las recompensas de cada estado final):  144.1907514450867\n",
            "Loss medio en el entrenamiento:      (con los losses de cada frame):              tensor(7.7913)\n",
            "Loss medio en el entrenamiento:      (con los loses de cada estado final):        tensor(4.3528, grad_fn=<DivBackward0>)\n"
          ]
        }
      ]
    },
    {
      "cell_type": "markdown",
      "source": [
        "### Test the agent"
      ],
      "metadata": {
        "id": "WoZsHTkFl7Jq"
      }
    },
    {
      "cell_type": "code",
      "source": [
        "current_model.test()"
      ],
      "metadata": {
        "id": "YIVpEbfR4pVO",
        "outputId": "f72de7ca-5804-4127-dc06-2d249a51a514",
        "colab": {
          "base_uri": "https://localhost:8080/",
          "height": 485
        }
      },
      "execution_count": null,
      "outputs": [
        {
          "output_type": "stream",
          "name": "stderr",
          "text": [
            "/usr/local/lib/python3.8/dist-packages/gym/wrappers/monitoring/video_recorder.py:78: DeprecationWarning: \u001b[33mWARN: Recording ability for environment CartPole-v0 initialized with `render_mode=None` is marked as deprecated and will be removed in the future.\u001b[0m\n",
            "  logger.deprecation(\n",
            "/usr/local/lib/python3.8/dist-packages/gym/core.py:43: DeprecationWarning: \u001b[33mWARN: The argument mode in render method is deprecated; use render_mode during environment initialization instead.\n",
            "See here for more information: https://www.gymlibrary.ml/content/api/\u001b[0m\n",
            "  deprecation(\n",
            "/usr/local/lib/python3.8/dist-packages/gym/core.py:43: DeprecationWarning: \u001b[33mWARN: The argument mode in render method is deprecated; use render_mode during environment initialization instead.\n",
            "See here for more information: https://www.gymlibrary.ml/content/api/\u001b[0m\n",
            "  deprecation(\n"
          ]
        },
        {
          "output_type": "stream",
          "name": "stdout",
          "text": [
            "rew:  200.0\n",
            "files:  ['videos/rl-video-episode-0.mp4']\n"
          ]
        },
        {
          "output_type": "display_data",
          "data": {
            "text/plain": [
              "<IPython.core.display.HTML object>"
            ],
            "text/html": [
              "\n",
              "        <video width=\"320\" height=\"240\" alt=\"test\" controls>\n",
              "        <source src=\"data:video/mp4;base64,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\" type=\"video/mp4\"/>\n",
              "        </video>\n",
              "        "
            ]
          },
          "metadata": {}
        },
        {
          "output_type": "stream",
          "name": "stdout",
          "text": [
            "Played: videos/rl-video-episode-0.mp4\n"
          ]
        }
      ]
    }
  ],
  "metadata": {
    "kernelspec": {
      "display_name": "Python 3",
      "language": "python",
      "name": "python3"
    },
    "language_info": {
      "codemirror_mode": {
        "name": "ipython",
        "version": 3
      },
      "file_extension": ".py",
      "mimetype": "text/x-python",
      "name": "python",
      "nbconvert_exporter": "python",
      "pygments_lexer": "ipython3",
      "version": "3.6.8"
    },
    "colab": {
      "provenance": []
    },
    "gpuClass": "standard"
  },
  "nbformat": 4,
  "nbformat_minor": 0
}