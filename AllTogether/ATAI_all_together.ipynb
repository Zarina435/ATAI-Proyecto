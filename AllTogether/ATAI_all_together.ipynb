{
  "cells": [
    {
      "cell_type": "markdown",
      "source": [
        "#  **Rainbow DQN: all together**\n",
        "In this lab we are going to implement Deep Q-Network Algorithm"
      ],
      "metadata": {
        "id": "P1orjSBFsa3x"
      }
    },
    {
      "cell_type": "markdown",
      "source": [
        "# **Initialization**"
      ],
      "metadata": {
        "id": "7p-FkdaHOISM"
      }
    },
    {
      "cell_type": "markdown",
      "source": [
        "## Install dependencies"
      ],
      "metadata": {
        "id": "VzfboO1QP_Uw"
      }
    },
    {
      "cell_type": "code",
      "source": [
        "import sys\n",
        "IN_COLAB = \"google.colab\" in sys.modules\n",
        "\n",
        "if IN_COLAB:\n",
        "    !apt-get update\n",
        "    !apt install python-opengl\n",
        "    !apt install ffmpeg\n",
        "    !apt install xvfb\n",
        "    !pip install PyVirtualDisplay==3.0\n",
        "    !pip install gym[classic_control]\n",
        "    #!pip install gym==0.21.0\n",
        "    from pyvirtualdisplay import Display\n",
        "    \n",
        "    # Start virtual display\n",
        "    dis = Display(visible=0, size=(400, 400))\n",
        "    dis.start()"
      ],
      "metadata": {
        "id": "mt4fLrG2Puzd",
        "colab": {
          "base_uri": "https://localhost:8080/"
        },
        "outputId": "9fb692c1-f95b-4e21-f4f6-077fbe4bd87e"
      },
      "execution_count": null,
      "outputs": [
        {
          "output_type": "stream",
          "name": "stdout",
          "text": [
            "\r0% [Working]\r            \rGet:1 http://security.ubuntu.com/ubuntu bionic-security InRelease [88.7 kB]\n",
            "Hit:2 http://archive.ubuntu.com/ubuntu bionic InRelease\n",
            "Get:3 https://cloud.r-project.org/bin/linux/ubuntu bionic-cran40/ InRelease [3,626 B]\n",
            "Get:4 http://archive.ubuntu.com/ubuntu bionic-updates InRelease [88.7 kB]\n",
            "Get:5 http://ppa.launchpad.net/c2d4u.team/c2d4u4.0+/ubuntu bionic InRelease [15.9 kB]\n",
            "Ign:6 https://developer.download.nvidia.com/compute/machine-learning/repos/ubuntu1804/x86_64  InRelease\n",
            "Hit:7 https://developer.download.nvidia.com/compute/cuda/repos/ubuntu1804/x86_64  InRelease\n",
            "Get:8 http://archive.ubuntu.com/ubuntu bionic-backports InRelease [83.3 kB]\n",
            "Hit:9 https://developer.download.nvidia.com/compute/machine-learning/repos/ubuntu1804/x86_64  Release\n",
            "Hit:10 http://ppa.launchpad.net/cran/libgit2/ubuntu bionic InRelease\n",
            "Hit:11 http://ppa.launchpad.net/deadsnakes/ppa/ubuntu bionic InRelease\n",
            "Hit:12 http://ppa.launchpad.net/graphics-drivers/ppa/ubuntu bionic InRelease\n",
            "Get:14 http://ppa.launchpad.net/c2d4u.team/c2d4u4.0+/ubuntu bionic/main Sources [2,235 kB]\n",
            "Get:15 http://ppa.launchpad.net/c2d4u.team/c2d4u4.0+/ubuntu bionic/main amd64 Packages [1,143 kB]\n",
            "Fetched 3,659 kB in 4s (1,032 kB/s)\n",
            "Reading package lists... Done\n",
            "Reading package lists... Done\n",
            "Building dependency tree       \n",
            "Reading state information... Done\n",
            "The following package was automatically installed and is no longer required:\n",
            "  libnvidia-common-460\n",
            "Use 'apt autoremove' to remove it.\n",
            "The following additional packages will be installed:\n",
            "  freeglut3\n",
            "Suggested packages:\n",
            "  libgle3\n",
            "The following NEW packages will be installed:\n",
            "  freeglut3 python-opengl\n",
            "0 upgraded, 2 newly installed, 0 to remove and 20 not upgraded.\n",
            "Need to get 570 kB of archives.\n",
            "After this operation, 5,733 kB of additional disk space will be used.\n",
            "Get:1 http://archive.ubuntu.com/ubuntu bionic/universe amd64 freeglut3 amd64 2.8.1-3 [73.6 kB]\n",
            "Get:2 http://archive.ubuntu.com/ubuntu bionic/universe amd64 python-opengl all 3.1.0+dfsg-1 [496 kB]\n",
            "Fetched 570 kB in 0s (2,114 kB/s)\n",
            "Selecting previously unselected package freeglut3:amd64.\n",
            "(Reading database ... 124016 files and directories currently installed.)\n",
            "Preparing to unpack .../freeglut3_2.8.1-3_amd64.deb ...\n",
            "Unpacking freeglut3:amd64 (2.8.1-3) ...\n",
            "Selecting previously unselected package python-opengl.\n",
            "Preparing to unpack .../python-opengl_3.1.0+dfsg-1_all.deb ...\n",
            "Unpacking python-opengl (3.1.0+dfsg-1) ...\n",
            "Setting up freeglut3:amd64 (2.8.1-3) ...\n",
            "Setting up python-opengl (3.1.0+dfsg-1) ...\n",
            "Processing triggers for libc-bin (2.27-3ubuntu1.6) ...\n",
            "Reading package lists... Done\n",
            "Building dependency tree       \n",
            "Reading state information... Done\n",
            "ffmpeg is already the newest version (7:3.4.11-0ubuntu0.1).\n",
            "The following package was automatically installed and is no longer required:\n",
            "  libnvidia-common-460\n",
            "Use 'apt autoremove' to remove it.\n",
            "0 upgraded, 0 newly installed, 0 to remove and 20 not upgraded.\n",
            "Reading package lists... Done\n",
            "Building dependency tree       \n",
            "Reading state information... Done\n",
            "The following package was automatically installed and is no longer required:\n",
            "  libnvidia-common-460\n",
            "Use 'apt autoremove' to remove it.\n",
            "The following NEW packages will be installed:\n",
            "  xvfb\n",
            "0 upgraded, 1 newly installed, 0 to remove and 20 not upgraded.\n",
            "Need to get 785 kB of archives.\n",
            "After this operation, 2,271 kB of additional disk space will be used.\n",
            "Get:1 http://archive.ubuntu.com/ubuntu bionic-updates/universe amd64 xvfb amd64 2:1.19.6-1ubuntu4.13 [785 kB]\n",
            "Fetched 785 kB in 0s (3,091 kB/s)\n",
            "Selecting previously unselected package xvfb.\n",
            "(Reading database ... 126376 files and directories currently installed.)\n",
            "Preparing to unpack .../xvfb_2%3a1.19.6-1ubuntu4.13_amd64.deb ...\n",
            "Unpacking xvfb (2:1.19.6-1ubuntu4.13) ...\n",
            "Setting up xvfb (2:1.19.6-1ubuntu4.13) ...\n",
            "Processing triggers for man-db (2.8.3-2ubuntu0.1) ...\n",
            "Looking in indexes: https://pypi.org/simple, https://us-python.pkg.dev/colab-wheels/public/simple/\n",
            "Collecting PyVirtualDisplay==3.0\n",
            "  Downloading PyVirtualDisplay-3.0-py3-none-any.whl (15 kB)\n",
            "Installing collected packages: PyVirtualDisplay\n",
            "Successfully installed PyVirtualDisplay-3.0\n",
            "Looking in indexes: https://pypi.org/simple, https://us-python.pkg.dev/colab-wheels/public/simple/\n",
            "Requirement already satisfied: gym[classic_control] in /usr/local/lib/python3.8/dist-packages (0.25.2)\n",
            "Requirement already satisfied: importlib-metadata>=4.8.0 in /usr/local/lib/python3.8/dist-packages (from gym[classic_control]) (5.1.0)\n",
            "Requirement already satisfied: gym-notices>=0.0.4 in /usr/local/lib/python3.8/dist-packages (from gym[classic_control]) (0.0.8)\n",
            "Requirement already satisfied: cloudpickle>=1.2.0 in /usr/local/lib/python3.8/dist-packages (from gym[classic_control]) (1.5.0)\n",
            "Requirement already satisfied: numpy>=1.18.0 in /usr/local/lib/python3.8/dist-packages (from gym[classic_control]) (1.21.6)\n",
            "Collecting pygame==2.1.0\n",
            "  Downloading pygame-2.1.0-cp38-cp38-manylinux_2_17_x86_64.manylinux2014_x86_64.whl (18.3 MB)\n",
            "\u001b[K     |████████████████████████████████| 18.3 MB 155 kB/s \n",
            "\u001b[?25hRequirement already satisfied: zipp>=0.5 in /usr/local/lib/python3.8/dist-packages (from importlib-metadata>=4.8.0->gym[classic_control]) (3.11.0)\n",
            "Installing collected packages: pygame\n",
            "Successfully installed pygame-2.1.0\n"
          ]
        }
      ]
    },
    {
      "cell_type": "markdown",
      "source": [
        "## Import Dependencies"
      ],
      "metadata": {
        "id": "sHmjyfGJOTsV"
      }
    },
    {
      "cell_type": "code",
      "execution_count": null,
      "metadata": {
        "id": "GJ7ASlptVUES"
      },
      "outputs": [],
      "source": [
        "import os\n",
        "from typing import Dict, List, Tuple\n",
        "import math, random\n",
        "\n",
        "import gym\n",
        "import numpy as np\n",
        "import matplotlib.pyplot as plt\n",
        "%matplotlib inline\n",
        "\n",
        "\n",
        "import base64\n",
        "import glob\n",
        "import io\n",
        "import os\n",
        "\n",
        "\n",
        "import torch\n",
        "import torch.nn as nn\n",
        "import torch.optim as optim\n",
        "import torch.autograd as autograd \n",
        "import torch.nn.functional as F\n",
        "\n",
        "\n",
        "from IPython.display import HTML, display, clear_output\n",
        "\n"
      ]
    },
    {
      "cell_type": "markdown",
      "source": [
        "#**Implementation** "
      ],
      "metadata": {
        "id": "Eqs9Zs6rOZhy"
      }
    },
    {
      "cell_type": "markdown",
      "source": [
        "## **Show recorded video**\n",
        "The following functions are used in order to show in a video the obtained results"
      ],
      "metadata": {
        "id": "GaC0tjzZS6hG"
      }
    },
    {
      "cell_type": "code",
      "execution_count": null,
      "metadata": {
        "id": "4qPbPwvooax1"
      },
      "outputs": [],
      "source": [
        "def ipython_show_video(path: str) -> None:\n",
        "    \"\"\"Show a video at `path` within IPython Notebook.\"\"\"\n",
        "    if not os.path.isfile(path):\n",
        "        raise NameError(\"Cannot access: {}\".format(path))\n",
        "\n",
        "    video = io.open(path, \"r+b\").read()\n",
        "    encoded = base64.b64encode(video)\n",
        "\n",
        "    display(HTML(\n",
        "        data=\"\"\"\n",
        "        <video width=\"320\" height=\"240\" alt=\"test\" controls>\n",
        "        <source src=\"data:video/mp4;base64,{0}\" type=\"video/mp4\"/>\n",
        "        </video>\n",
        "        \"\"\".format(encoded.decode(\"ascii\"))\n",
        "    ))\n",
        "\n",
        "def remove_videos (video_folder: str):\n",
        "    list_of_files = glob.glob(os.path.join(video_folder, \"*.mp4\"))\n",
        "    for video in list_of_files:\n",
        "      try:\n",
        "          os.remove(video)\n",
        "      except:\n",
        "          print(\"Error while deleting file : \", video)\n",
        "\n",
        "def show_latest_video(video_folder: str) -> str:\n",
        "    \"\"\"Show the most recently recorded video from video folder.\"\"\"\n",
        "    list_of_files = glob.glob(os.path.join(video_folder, \"*.mp4\"))\n",
        "    print(\"files: \", list_of_files )\n",
        "    latest_file = max(list_of_files, key=os.path.getctime)\n",
        "    ipython_show_video(latest_file)\n",
        "    return latest_file\n",
        "\n",
        "def show_all_videos(video_folder: str) -> str:\n",
        "    \"\"\"Show all the videos recorded.\"\"\"\n",
        "    list_of_files = glob.glob(os.path.join(video_folder, \"*.mp4\"))\n",
        "    print(\"files: \", list_of_files )\n",
        "    for video in list_of_files:\n",
        "      ipython_show_video(video)\n",
        "    print(\"Played:\", video)\n"
      ]
    },
    {
      "cell_type": "markdown",
      "metadata": {
        "id": "PZzMzzVmIbKz"
      },
      "source": [
        "## Use Cuda"
      ]
    },
    {
      "cell_type": "code",
      "execution_count": null,
      "metadata": {
        "id": "HYyjk9ihIbK0"
      },
      "outputs": [],
      "source": [
        "USE_CUDA = torch.cuda.is_available()\n",
        "Variable = lambda *args, **kwargs: autograd.Variable(*args, **kwargs).cuda() if USE_CUDA else autograd.Variable(*args, **kwargs)"
      ]
    },
    {
      "cell_type": "markdown",
      "metadata": {
        "id": "TnjlYrW5IbK0"
      },
      "source": [
        "## Replay Buffer"
      ]
    },
    {
      "cell_type": "code",
      "source": [
        "from numpy.core.numeric import indices\n",
        "\n",
        "class ReplayBuffer(object):\n",
        "    def __init__(self, capacity):\n",
        "        self.capacity   = capacity\n",
        "        self.buffer     = []\n",
        "        self.pos        = 0\n",
        "        #******Añadido David*******\n",
        "        # array con las prioridades de cada experiencia en el buffer, para luego calcular la probabilidad de que se samplee\n",
        "        #self.prioridades = np.zeros(capacity)\n",
        "        self.prioridades = []\n",
        "        # beta=0.4, para el importance sampling\n",
        "        self.beta = 0.4\n",
        "        # kappa (k) = 0.6\n",
        "        self.kappa = 0.6\n",
        "        #**************************\n",
        "    \n",
        "    def push(self, state, action, reward, next_state, done):\n",
        "        state      = np.expand_dims(state, 0)\n",
        "        next_state = np.expand_dims(next_state, 0)\n",
        "                \n",
        "        if len(self.buffer) < self.capacity:\n",
        "            self.buffer.append((state, action, reward, next_state, done))\n",
        "            #******Añadido*******\n",
        "            self.prioridades.append(1)\n",
        "        else:\n",
        "            self.buffer[self.pos] = (state, action, reward, next_state, done)\n",
        "            self.prioridades[self.pos] = max(self.prioridades)\n",
        "            \n",
        "\n",
        "        self.pos = (self.pos + 1) % self.capacity\n",
        "    \n",
        "    #*****Añadido*****\n",
        "    #dado el peso delta y el indice, lo actualiza en el array de prioridades\n",
        "    def actualizar_peso(self, delta, indice):\n",
        "      # elevamos delta^2 (recomendacion de las tranparencias)\n",
        "      # self.prioridades[indice] = pow(delta,2)\n",
        "      # otra solucion: utilizar el valor absoluto en vez de ^2, como pone en las transparencias\n",
        "      self.prioridades[indice] = abs(delta)\n",
        "    #************************\n",
        "\n",
        "\n",
        "    # HELP:\n",
        "    # It can be helpful to use the following sequence:  \n",
        "    #   indices = random.choices(range(0,len(self.buffer)), weights=probabilities, k=batch_size )\n",
        "    # It samples \"k\" elements following \"probabilities\" distribution and returns the indices of the sampled elements\n",
        "    # Instead of this sequence you can also use numpy tools\n",
        "    def sample(self, batch_size):\n",
        "\n",
        "        #******Añadido*******\n",
        "\n",
        "        #calcular las probabilidades de las experiencias probabilities[j] = prioridad[j]^kappa / sum(prioridad ^ kappa)\n",
        "        prioridadesNumpy = np.array(self.prioridades)\n",
        "        probabilities = np.zeros(len(self.buffer)-1)\n",
        "        probabilities = pow(prioridadesNumpy, self.kappa)\n",
        "        probabilities = probabilities / np.sum(probabilities)\n",
        "\n",
        "        #obtener batch_size elementos siguiendo las probabilidades calculadas \n",
        "        #obtenemos una lista con los indices de las experiencias elegidas\n",
        "        indices = random.choices(range(0,len(self.buffer)), weights=probabilities, k=batch_size )\n",
        "\n",
        "        #obtenemos las experiencias elegidas a partir de los indices obtenidos\n",
        "        exp_elegidas = []\n",
        "        prob_elegidas = []\n",
        "        for i in indices:\n",
        "          exp_elegidas.append(self.buffer[i])\n",
        "          prob_elegidas.append(probabilities[i])\n",
        "\n",
        "        #la pasamos a numpy array para que sea más facil operar\n",
        "        prob_elegidas = np.array(prob_elegidas)\n",
        "\n",
        "        #importance sampling  w[i] = ( (1/N) * (1 / probabilities[i]) ) ^beta\n",
        "        N = len(self.buffer)\n",
        "        w = np.zeros(batch_size)\n",
        "        w = pow( ((1/N) * (1/prob_elegidas)) , self.beta)\n",
        "        w = w / w.max() #para normalizar\n",
        "\n",
        "        state, action, reward, next_state, done = zip(*exp_elegidas)\n",
        "        \n",
        "        return np.concatenate(state), action, reward, np.concatenate(next_state), done, w\n",
        "\n",
        "        #**************************\n",
        "        \n",
        "        #*****Comentado David******\n",
        "        #state, action, reward, next_state, done = zip(*random.sample(self.buffer, batch_size))\n",
        "        #return np.concatenate(state), action, reward, np.concatenate(next_state), done\n",
        "\n",
        "\n",
        "    def __len__(self):\n",
        "        return len(self.buffer)"
      ],
      "metadata": {
        "id": "WsoD9U8L-auG"
      },
      "execution_count": null,
      "outputs": []
    },
    {
      "cell_type": "markdown",
      "source": [
        "### Testing Replay Buffer"
      ],
      "metadata": {
        "id": "IyAYT95VwIvl"
      }
    },
    {
      "cell_type": "code",
      "source": [
        "# We build a Replay buffer for 5 elements\n",
        "rB = ReplayBuffer(5)\n",
        "\n",
        "# We are going to add 8 elements\n",
        "for i in range(8):\n",
        "  rB.push(i,i,i,i,i)\n",
        "print(\"We add 8 elements but there are only \", len(rB), \"\\nrB: \", rB.buffer)\n",
        "\n",
        "# We are going to add another value\n",
        "rB.push(10,10,10,10,10)\n",
        "print(\"\\nAfter we add a new element the buffer is: \", rB.buffer)\n",
        "\n",
        "# No we are going to see are sampled some experiences\n",
        "mini_batch = rB.sample(2)\n",
        "print(\"\\n The sampled elemenst: \", mini_batch )\n",
        "\n",
        "mini_batch = rB.sample(3)\n",
        "print(\"\\n The sampled elemenst: \", mini_batch )\n"
      ],
      "metadata": {
        "id": "B47-W5kjrEeA",
        "colab": {
          "base_uri": "https://localhost:8080/"
        },
        "outputId": "b22dc0d5-3c32-4fff-d90c-383b201f36c4"
      },
      "execution_count": null,
      "outputs": [
        {
          "output_type": "stream",
          "name": "stdout",
          "text": [
            "We add 8 elements but there are only  5 \n",
            "rB:  [(array([5]), 5, 5, array([5]), 5), (array([6]), 6, 6, array([6]), 6), (array([7]), 7, 7, array([7]), 7), (array([3]), 3, 3, array([3]), 3), (array([4]), 4, 4, array([4]), 4)]\n",
            "\n",
            "After we add a new element the buffer is:  [(array([5]), 5, 5, array([5]), 5), (array([6]), 6, 6, array([6]), 6), (array([7]), 7, 7, array([7]), 7), (array([10]), 10, 10, array([10]), 10), (array([4]), 4, 4, array([4]), 4)]\n",
            "\n",
            " The sampled elemenst:  (array([5, 5]), (5, 5), (5, 5), array([5, 5]), (5, 5), array([1., 1.]))\n",
            "\n",
            " The sampled elemenst:  (array([10,  7,  6]), (10, 7, 6), (10, 7, 6), array([10,  7,  6]), (10, 7, 6), array([1., 1., 1.]))\n"
          ]
        }
      ]
    },
    {
      "cell_type": "markdown",
      "metadata": {
        "id": "voxkftv1IbK2"
      },
      "source": [
        "## Cart Pole Environment"
      ]
    },
    {
      "cell_type": "code",
      "execution_count": null,
      "metadata": {
        "id": "9EHbFDp6IbK4",
        "colab": {
          "base_uri": "https://localhost:8080/"
        },
        "outputId": "be496747-1662-4072-baf0-f267fa1d9cf7"
      },
      "outputs": [
        {
          "output_type": "stream",
          "name": "stderr",
          "text": [
            "/usr/local/lib/python3.8/dist-packages/gym/envs/registration.py:593: UserWarning: \u001b[33mWARN: The environment CartPole-v0 is out of date. You should consider upgrading to version `v1`.\u001b[0m\n",
            "  logger.warn(\n",
            "/usr/local/lib/python3.8/dist-packages/gym/core.py:317: DeprecationWarning: \u001b[33mWARN: Initializing wrapper in old step API which returns one bool instead of two. It is recommended to set `new_step_api=True` to use new step API. This will be the default behaviour in future.\u001b[0m\n",
            "  deprecation(\n",
            "/usr/local/lib/python3.8/dist-packages/gym/wrappers/step_api_compatibility.py:39: DeprecationWarning: \u001b[33mWARN: Initializing environment in old step API which returns one bool instead of two. It is recommended to set `new_step_api=True` to use new step API. This will be the default behaviour in future.\u001b[0m\n",
            "  deprecation(\n"
          ]
        }
      ],
      "source": [
        "env_id = \"CartPole-v0\"\n",
        "env = gym.make(env_id)"
      ]
    },
    {
      "cell_type": "code",
      "execution_count": null,
      "metadata": {
        "id": "pZySBOH5IbLA"
      },
      "outputs": [],
      "source": [
        "def plot(frame_idx, rewards):\n",
        "    clear_output(True)\n",
        "    plt.figure(figsize=(20,5))\n",
        "    plt.subplot(131)\n",
        "    plt.title('frame %s. reward: %s' % (frame_idx, np.mean(rewards[-10:])))\n",
        "    plt.plot(rewards)\n",
        "    plt.show()"
      ]
    },
    {
      "cell_type": "markdown",
      "metadata": {
        "id": "h7aZ3bYgIbK4"
      },
      "source": [
        "## Epsilon greedy exploration\n",
        "Epsilon value is dynamic. It starts with 1.0 value (exploration) and little by little it is going to decay until 0.01 (exploitation)"
      ]
    },
    {
      "cell_type": "code",
      "execution_count": null,
      "metadata": {
        "id": "hZCk-i69IbK5"
      },
      "outputs": [],
      "source": [
        "epsilon_start = 1.0\n",
        "epsilon_final = 0.01\n",
        "epsilon_decay = 500\n",
        "\n",
        "epsilon_by_frame = lambda frame_idx: epsilon_final + (epsilon_start - epsilon_final) * math.exp(-1. * frame_idx / epsilon_decay)"
      ]
    },
    {
      "cell_type": "code",
      "execution_count": null,
      "metadata": {
        "id": "DKVzXtD0IbK6",
        "colab": {
          "base_uri": "https://localhost:8080/",
          "height": 282
        },
        "outputId": "66a3eac0-1e17-4a9b-b82d-d3cdf16f6293"
      },
      "outputs": [
        {
          "output_type": "execute_result",
          "data": {
            "text/plain": [
              "[<matplotlib.lines.Line2D at 0x7fafdbb6f280>]"
            ]
          },
          "metadata": {},
          "execution_count": 10
        },
        {
          "output_type": "display_data",
          "data": {
            "text/plain": [
              "<Figure size 432x288 with 1 Axes>"
            ],
            "image/png": "[encoded data removed]"
          },
          "metadata": {
            "needs_background": "light"
          }
        }
      ],
      "source": [
        "plt.plot([epsilon_by_frame(i) for i in range(10000)])"
      ]
    },
    {
      "cell_type": "markdown",
      "metadata": {
        "id": "c6A-SD0_IbK7"
      },
      "source": [
        "## Deep Q Network"
      ]
    },
    {
      "cell_type": "code",
      "source": [
        "class DQN(nn.Module):\n",
        "    def __init__(self, num_inputs, num_actions):\n",
        "        super(DQN, self).__init__()\n",
        "        \n",
        "        #***********Añadido************\n",
        "        #Usar dos redes, una para obtener v() y otra para a()\n",
        "        self.a = nn.Sequential(\n",
        "            nn.Linear(num_inputs, 128),\n",
        "            nn.ReLU(),\n",
        "            nn.Linear(128, 128),\n",
        "            nn.ReLU(),\n",
        "            nn.Linear(128, num_actions)\n",
        "        )\n",
        "\n",
        "        self.v = nn.Sequential(\n",
        "            nn.Linear(num_inputs, 128),\n",
        "            nn.ReLU(),\n",
        "            nn.Linear(128, 128),\n",
        "            nn.ReLU(),\n",
        "            nn.Linear(128, 1)\n",
        "        )\n",
        "        #********************************\n",
        "\n",
        "    # This method computes output Tensors from input Tensors. That is, given an state it returns an array with q(s,a) values for all actions\n",
        "    def forward(self, x):\n",
        "        #******Añadido**********\n",
        "        output_a = self.a(x)\n",
        "        output_v = self.v(x)\n",
        "        \n",
        "        return output_v + (output_a - output_a.mean())\n",
        "        #***************************\n",
        "\n",
        "  "
      ],
      "metadata": {
        "id": "0HB3GTmOisfH"
      },
      "execution_count": null,
      "outputs": []
    },
    {
      "cell_type": "code",
      "execution_count": null,
      "metadata": {
        "id": "p4vsG_e3IbK7"
      },
      "outputs": [],
      "source": [
        "class Agent():\n",
        "    def __init__(self, env):\n",
        "        self.env = env\n",
        "        self.replay_buffer = ReplayBuffer(1000)\n",
        "        self.batch_size = 32\n",
        "        self.gamma = 0.99\n",
        "       \n",
        "        self.model = DQN(self.env.observation_space.shape[0], self.env.action_space.n)\n",
        "        self.optimizer = optim.Adam(self.model.parameters())\n",
        "\n",
        "    # This method defines the epsilon value. It started with 1.0 and it decays until 0.01 value   \n",
        "    def get_epsilon_value(self, frame_idx):\n",
        "      epsilon_start = 1.0\n",
        "      epsilon_final = 0.01\n",
        "      epsilon_decay = 500\n",
        "       \n",
        "      epsilon = lambda frame_idx: epsilon_final + (epsilon_start - epsilon_final) * math.exp(-1. * frame_idx / epsilon_decay)\n",
        "      return epsilon(frame_idx)\n",
        "    \n",
        "    # Given a state and epsilon value, this method returns an action following epsilong-greedy\n",
        "    def act(self, state, epsilon):\n",
        "        if random.random() > epsilon:\n",
        "            state   = Variable(torch.FloatTensor(state).unsqueeze(0), requires_grad=False)\n",
        "            q_value = self.model.forward(state)\n",
        "            action  = q_value.max(1)[1].item()\n",
        "        else:\n",
        "            action = random.randrange(self.env.action_space.n)\n",
        "        return action\n",
        "\n",
        "    # Given a model, it copyes the current model on it. \n",
        "    def update_target(self, target_model):\n",
        "      target_model.load_state_dict(self.model.state_dict())\n",
        "\n",
        "    # This method updates the weights \n",
        "    # It is solved using tensors\n",
        "    def compute_td_loss(self, target_model):\n",
        "      state, action, reward, next_state, done = self.replay_buffer.sample(self.batch_size)\n",
        "\n",
        "      state      = Variable(torch.FloatTensor(np.float32(state)))\n",
        "      next_state = Variable(torch.FloatTensor(np.float32(next_state)))\n",
        "      action     = Variable(torch.LongTensor(action))\n",
        "      reward     = Variable(torch.FloatTensor(reward))\n",
        "      done       = Variable(torch.FloatTensor(done))\n",
        "      \n",
        "      q_values      = self.model.forward(state)\n",
        "      next_q_values = self.model.forward(next_state)\n",
        "      next_q_state_values = target_model(next_state) \n",
        "\n",
        "      q_value       = q_values.gather(1, action.unsqueeze(1)).squeeze(1) \n",
        "      next_q_value = next_q_state_values.gather(1, torch.max(next_q_values, 1)[1].unsqueeze(1)).squeeze(1)\n",
        "      #next_q_value = next_q_state_values.max(1)[0]\n",
        "      expected_q_value = reward + self.gamma * next_q_value * (1 - done)\n",
        "      \n",
        "      loss = (q_value - Variable(expected_q_value.data)).pow(2).mean()\n",
        "          \n",
        "      self.optimizer.zero_grad()\n",
        "      loss.backward()\n",
        "      self.optimizer.step()\n",
        "      \n",
        "      return loss\n",
        "\n",
        "    # TODO\n",
        "    # This method updates the weights \n",
        "    def compute_td_loss_our(self, target_model, n):\n",
        "      # Obtain the mini_batch to train the weights.\n",
        "      # state, action, reward, next_state, done are numpy arrays, each position corresponds to one experience\n",
        "      state, action, reward, next_state, done, weights = self.replay_buffer.sample(self.batch_size)\n",
        "\n",
        "      # Convert those numpy arrays to tensors. It is neccesary to work with Pytorch\n",
        "      states_tensor      = Variable(torch.FloatTensor(np.float32(state)))       # current_state S\n",
        "      actions_tensor     = Variable(torch.LongTensor(action))                   # action A\n",
        "      next_states_tensor = Variable(torch.FloatTensor(np.float32(next_state)))  # next_state S'\n",
        "\n",
        "      \n",
        "      # The approximated q_values of each current state \n",
        "      q_values_tensor      = self.model.forward(states_tensor) # Q(S, A, W)\n",
        "\n",
        "      # The approximated q_values of each next state calculated with the current_model and the target_model \n",
        "      next_q_values_current_model_tensor = self.model.forward(next_states_tensor) # Q(S', A', W)\n",
        "      next_q_values_target_model_tensor = target_model.forward(next_states_tensor) # Q(S', A', W')\n",
        "\n",
        "      # Convert the approximated next_states' q_values to numpy array. We are going to work with these arrays\n",
        "      next_q_values_current_model = next_q_values_current_model_tensor.detach().numpy(); \n",
        "      next_q_values_target_model = next_q_values_target_model_tensor.detach().numpy(); \n",
        "      expected_q_value = np.zeros(self.batch_size)\n",
        "      \n",
        "      # TODO\n",
        "      # input: next_q_values_current_model is a numpy array. In each element are stored all the approximated q values for the next state calculated with the current_model\n",
        "      # input: next_q_values_target_model is a numpy array. In each element are stored all the approximated q values for the next state calculated with the target_model\n",
        "      # input: reward is a numpy array with the rewards obtained in each experience of the mini_batch (batch_size)\n",
        "      # output: expected_q_value is a numpy array. You have to store in each position the target value of each experience using next_q_values_target_model and reward elements \n",
        "      # note: all these numpy arrays has the same length: the length of the mini_batch (batch_size)\n",
        "      #\n",
        "      # for all the elements on the batch size\n",
        "      #  calculate the target expected value and store in expected_q_value \n",
        "\n",
        "      for i in range(self.batch_size):      \n",
        "        next_q_value = 0\n",
        "        if not(done[i]):\n",
        "\n",
        "          # with current model\n",
        "          #next_q_value = max(next_q_values_current_model[i])\n",
        "\n",
        "          # with current model action and target model approximation\n",
        "          next_action = np.argmax(next_q_values_current_model[i])\n",
        "          next_q_value = next_q_values_target_model[i][next_action]\n",
        "          \n",
        "        expected_q_value[i] = reward[i] + pow (self.gamma, n )*next_q_value\n",
        "\n",
        "        #****Añadido******\n",
        "        #actualizar el peso en el buffer\n",
        "        self.replay_buffer.actualizar_peso(expected_q_value[i], i)\n",
        "        #***********************\n",
        "\n",
        "      # END TODO\n",
        "\n",
        "      # Prepare data for the loss function\n",
        "      q_value = q_values_tensor.gather(1, actions_tensor.unsqueeze(1)).squeeze(1)\n",
        "      expected_q_values = torch.tensor(expected_q_value)\n",
        "\n",
        "      # Loss function: to know how good the weights are\n",
        "      # lossMSE = nn.MSELoss()  \n",
        "      # loss = lossMSE(q_value.float(), expected_q_values.float())\n",
        "\n",
        "      #****Añadido******\n",
        "      loss  = (q_value - expected_q_values.detach()).pow(2) * torch.tensor(weights)\n",
        "      loss  = loss.mean()\n",
        "      #***********************\n",
        "\n",
        "      # Based on the results of the loss function, the weights are updated with gradient descent\n",
        "      self.optimizer.zero_grad()\n",
        "      loss.backward()\n",
        "      self.optimizer.step()\n",
        "      \n",
        "      return loss\n",
        "\n",
        "    # TODO\n",
        "    # Method to train the agent\n",
        "    def train(self, n):\n",
        "      num_frames = 25000\n",
        "      losses = []\n",
        "      all_rewards = []\n",
        "      all_losses = []\n",
        "      episode_reward = 0\n",
        "      episode_loss = 0\n",
        "      target_model  = DQN(self.env.observation_space.shape[0], self.env.action_space.n)\n",
        "      state = self.env.reset()\n",
        "\n",
        "      # TODO\n",
        "      # replay buffer attribute is empty\n",
        "      # for each frame\n",
        "      #   get current epsilon\n",
        "      #   get action following epsilon greedy\n",
        "      #   get next_state and reward\n",
        "      #   add new experience to the replay buffer \n",
        "      #   update state\n",
        "      #   update episode total reward\n",
        "      #   if done\n",
        "      #     reset environment\n",
        "      #     append the episode total reward to all_rewards array\n",
        "      #     set episode total reward to 0\n",
        "      #   if experience replay has more elements than batch_size\n",
        "      #     update the weights\n",
        "      #   every 100 frames update the target model\n",
        "\n",
        "      list_states = []\n",
        "      list_actions = []\n",
        "      list_rewards = []\n",
        "\n",
        "      for frame_idx in range(1, num_frames + 1):\n",
        "          epsilon = self.get_epsilon_value(frame_idx)\n",
        "          action = self.act(state, epsilon) \n",
        "          \n",
        "\n",
        "          next_state, reward, done, _ = self.env.step(action)\n",
        "          list_states.append(state)\n",
        "          list_actions.append(action)\n",
        "          list_rewards.append(reward) \n",
        "          \n",
        "          #Si estamos en un estado terminal, debemos subir todas las experiencias guardadas\n",
        "          if done:\n",
        "              for i in range (len(list_states)):\n",
        "                 experience_reward = 0\n",
        "                 for i in range(len(list_rewards)):\n",
        "                  experience_reward += pow(self.gamma,i)*list_rewards[i]\n",
        "                 list_rewards.pop(0)\n",
        "                 self.replay_buffer.push(list_states.pop(0),list_actions.pop(0),experience_reward,state, done)  #Cada vez que se sube una experiencia, se borra su información de los arrays de guardado\n",
        "\n",
        "              state = self.env.reset()\n",
        "              all_rewards.append(episode_reward)\n",
        "              episode_reward = 0 \n",
        "\n",
        "          #Si no es terminal pero ya tenemos los n estado siguientes de un estado, se sube su experiencia\n",
        "          if len(list_states) == n+1:\n",
        "            \n",
        "              experience_reward = 0\n",
        "              for i in range(len(list_rewards)):\n",
        "                experience_reward += pow(self.gamma,i)*list_rewards[i]\n",
        "              list_rewards.pop(0)\n",
        "              self.replay_buffer.push(list_states.pop(0),list_actions.pop(0),experience_reward,state, done)   #Cada vez que se sube una experiencia, se borra su información de los arrays de guardado\n",
        "                \n",
        "          if not done:\n",
        "            state = next_state \n",
        "            episode_reward += reward  \n",
        "              \n",
        "          if len(current_model.replay_buffer) > self.batch_size:\n",
        "              loss = self.compute_td_loss_our(target_model, n)\n",
        "              losses.append(loss.data)\n",
        "\n",
        "              episode_loss = loss\n",
        "\n",
        "          # to visualize how the agent is learning    \n",
        "          if frame_idx % 200 == 0:\n",
        "              plot(frame_idx, all_rewards)\n",
        "\n",
        "              plt.figure(figsize=(20,5))\n",
        "              plt.subplot(131)\n",
        "              plt.title(\"loss a lo largo del tiempo\")\n",
        "              plt.plot(losses)\n",
        "              plt.show()\n",
        "              \n",
        "          if frame_idx % 100 == 0:\n",
        "              self.update_target(target_model)  \n",
        "\n",
        "      print(\"Recompensa media en el entrenamiento (con las recompensas de cada estado final): \", sum(all_rewards)/len(all_rewards))\n",
        "      print(\"Loss medio en el entrenamiento:      (con los losses de cada frame):             \", sum(losses)/len(losses))\n",
        "      #print(\"Loss medio en el entrenamiento:      (con los loses de cada estado final):       \", sum(all_losses)/len(all_losses))\n",
        "\n",
        "    # This method runs one episode and generates a video to observe the result\n",
        "    def test(self):\n",
        "        video_folder=\"videos\"\n",
        "\n",
        "        remove_videos(video_folder=video_folder)\n",
        "\n",
        "        # we are going to work over envVideo.\n",
        "        envVideo = gym.wrappers.RecordVideo(self.env, video_folder=video_folder)\n",
        "                \n",
        "        done = False #It is used to control if the episode is finished, if it is finished the environment must be reset\n",
        "        state = envVideo.reset()\n",
        "\n",
        "        total_reward = 0\n",
        "        while not(done):          \n",
        "            action = self.act(state, 0)\n",
        "            next_state, reward, done, _ = envVideo.step(action)\n",
        "            state = next_state\n",
        "            total_reward +=reward\n",
        "            if done:\n",
        "              break\n",
        "        envVideo.close()\n",
        "        print(\"rew: \", total_reward)\n",
        "        show_all_videos(video_folder=video_folder)\n",
        "        \n",
        "        "
      ]
    },
    {
      "cell_type": "markdown",
      "source": [
        "### Train the agent"
      ],
      "metadata": {
        "id": "ynxAQEvLmC6R"
      }
    },
    {
      "cell_type": "code",
      "source": [
        "current_model = Agent(env)\n",
        "current_model.train(3)"
      ],
      "metadata": {
        "id": "uQO4hDUn2vUa",
        "colab": {
          "base_uri": "https://localhost:8080/",
          "height": 710
        },
        "outputId": "7f0af761-125d-4016-909e-dda4d2939ce8"
      },
      "execution_count": null,
      "outputs": [
        {
          "output_type": "display_data",
          "data": {
            "text/plain": [
              "<Figure size 1440x360 with 1 Axes>"
            ],
            "image/png": "[encoded data removed]"
          },
          "metadata": {
            "needs_background": "light"
          }
        },
        {
          "output_type": "display_data",
          "data": {
            "text/plain": [
              "<Figure size 1440x360 with 1 Axes>"
            ],
            "image/png": "[encoded data removed]"
          },
          "metadata": {
            "needs_background": "light"
          }
        },
        {
          "output_type": "stream",
          "name": "stdout",
          "text": [
            "Recompensa media en el entrenamiento (con las recompensas de cada estado final):  171.9375\n",
            "Loss medio en el entrenamiento:      (con los losses de cada frame):              tensor(77.5784, dtype=torch.float64)\n"
          ]
        }
      ]
    },
    {
      "cell_type": "markdown",
      "source": [
        "### Test the agent"
      ],
      "metadata": {
        "id": "WoZsHTkFl7Jq"
      }
    },
    {
      "cell_type": "code",
      "source": [
        "current_model.test()"
      ],
      "metadata": {
        "id": "YIVpEbfR4pVO",
        "outputId": "c7712472-aee7-4fbe-aa27-26f3a7f61c4a",
        "colab": {
          "base_uri": "https://localhost:8080/",
          "height": 507
        }
      },
      "execution_count": null,
      "outputs": [
        {
          "output_type": "stream",
          "name": "stderr",
          "text": [
            "/usr/local/lib/python3.8/dist-packages/gym/core.py:317: DeprecationWarning: \u001b[33mWARN: Initializing wrapper in old step API which returns one bool instead of two. It is recommended to set `new_step_api=True` to use new step API. This will be the default behaviour in future.\u001b[0m\n",
            "  deprecation(\n",
            "/usr/local/lib/python3.8/dist-packages/gym/wrappers/monitoring/video_recorder.py:78: DeprecationWarning: \u001b[33mWARN: Recording ability for environment CartPole-v0 initialized with `render_mode=None` is marked as deprecated and will be removed in the future.\u001b[0m\n",
            "  logger.deprecation(\n",
            "/usr/local/lib/python3.8/dist-packages/gym/core.py:43: DeprecationWarning: \u001b[33mWARN: The argument mode in render method is deprecated; use render_mode during environment initialization instead.\n",
            "See here for more information: https://www.gymlibrary.ml/content/api/\u001b[0m\n",
            "  deprecation(\n",
            "/usr/local/lib/python3.8/dist-packages/gym/core.py:43: DeprecationWarning: \u001b[33mWARN: The argument mode in render method is deprecated; use render_mode during environment initialization instead.\n",
            "See here for more information: https://www.gymlibrary.ml/content/api/\u001b[0m\n",
            "  deprecation(\n"
          ]
        },
        {
          "output_type": "stream",
          "name": "stdout",
          "text": [
            "rew:  188.0\n",
            "files:  ['videos/rl-video-episode-0.mp4']\n"
          ]
        },
        {
          "output_type": "display_data",
          "data": {
            "text/plain": [
              "<IPython.core.display.HTML object>"
            ],
            "text/html": [
              "\n",
              "        <video width=\"320\" height=\"240\" alt=\"test\" controls>\n",
              "        <source src=\"data:video/mp4;base64,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\" type=\"video/mp4\"/>\n",
              "        </video>\n",
              "        "
            ]
          },
          "metadata": {}
        },
        {
          "output_type": "stream",
          "name": "stdout",
          "text": [
            "Played: videos/rl-video-episode-0.mp4\n"
          ]
        }
      ]
    }
  ],
  "metadata": {
    "kernelspec": {
      "display_name": "Python 3",
      "language": "python",
      "name": "python3"
    },
    "language_info": {
      "codemirror_mode": {
        "name": "ipython",
        "version": 3
      },
      "file_extension": ".py",
      "mimetype": "text/x-python",
      "name": "python",
      "nbconvert_exporter": "python",
      "pygments_lexer": "ipython3",
      "version": "3.6.8"
    },
    "colab": {
      "provenance": []
    },
    "gpuClass": "standard"
  },
  "nbformat": 4,
  "nbformat_minor": 0
}